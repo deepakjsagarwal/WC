{
 "cells": [
  {
   "cell_type": "code",
   "execution_count": 1,
   "id": "6b605089",
   "metadata": {},
   "outputs": [
    {
     "name": "stderr",
     "output_type": "stream",
     "text": [
      "2024-04-05 21:03:38.497857: I tensorflow/core/platform/cpu_feature_guard.cc:182] This TensorFlow binary is optimized to use available CPU instructions in performance-critical operations.\n",
      "To enable the following instructions: AVX2 AVX512F FMA, in other operations, rebuild TensorFlow with the appropriate compiler flags.\n",
      "2024-04-05 21:03:40.197593: W tensorflow/compiler/tf2tensorrt/utils/py_utils.cc:38] TF-TRT Warning: Could not find TensorRT\n"
     ]
    }
   ],
   "source": [
    "import tensorflow as tf"
   ]
  },
  {
   "cell_type": "code",
   "execution_count": 2,
   "id": "c6cc1a38",
   "metadata": {},
   "outputs": [],
   "source": [
    "from tensorflow import keras as keras\n",
    "from keras import layers as layers"
   ]
  },
  {
   "cell_type": "code",
   "execution_count": 3,
   "id": "6c004aea",
   "metadata": {},
   "outputs": [],
   "source": [
    "import os, timeit\n",
    "from skimage.filters import threshold_otsu\n",
    "import numpy as np\n",
    "from math import inf as inf"
   ]
  },
  {
   "cell_type": "code",
   "execution_count": 4,
   "id": "10614a92",
   "metadata": {},
   "outputs": [],
   "source": [
    "import pandas as pd"
   ]
  },
  {
   "cell_type": "code",
   "execution_count": 5,
   "id": "6c9300cb",
   "metadata": {},
   "outputs": [],
   "source": [
    "from spectral.io import envi as envi\n",
    "from spectral import imshow"
   ]
  },
  {
   "cell_type": "code",
   "execution_count": 6,
   "id": "ee790ffe",
   "metadata": {},
   "outputs": [],
   "source": [
    "from sklearn.decomposition import IncrementalPCA"
   ]
  },
  {
   "cell_type": "code",
   "execution_count": 7,
   "id": "bf3717a6",
   "metadata": {},
   "outputs": [],
   "source": [
    "import sys"
   ]
  },
  {
   "cell_type": "code",
   "execution_count": 8,
   "id": "5a3c2830",
   "metadata": {},
   "outputs": [],
   "source": [
    "import random\n",
    "\n",
    "tf.random.set_seed(42)\n",
    "np.random.seed(42)\n",
    "random.seed(42)"
   ]
  },
  {
   "cell_type": "code",
   "execution_count": 9,
   "id": "3dd26930",
   "metadata": {},
   "outputs": [
    {
     "name": "stdout",
     "output_type": "stream",
     "text": [
      "Num GPUs Available:  2\n"
     ]
    }
   ],
   "source": [
    "print(\"Num GPUs Available: \", len(tf.config.list_physical_devices('GPU')))\n",
    "\n",
    "physical_devices = tf.config.list_physical_devices('GPU')\n",
    "tf.config.experimental.set_visible_devices(physical_devices[1], 'GPU')"
   ]
  },
  {
   "cell_type": "code",
   "execution_count": 10,
   "id": "0f72da7a",
   "metadata": {},
   "outputs": [],
   "source": [
    "from sys import platform\n",
    "DATA_DIRECTORY = \"\"\n",
    "SLASH = \"\"\n",
    "if platform == \"linux\" or platform == \"linux2\":\n",
    "    DATA_DIRECTORY = \"/home/tyagi/Desktop/wheat/data/BULK/\"\n",
    "    SLASH = \"/\"\n",
    "elif platform == \"win32\":\n",
    "    DATA_DIRECTORY = \"D:\\wheat\\data\\BULK\\\\\"\n",
    "    SLASH=\"\\\\\""
   ]
  },
  {
   "cell_type": "code",
   "execution_count": 11,
   "id": "5979451f",
   "metadata": {},
   "outputs": [],
   "source": [
    "#Constants\n",
    "BAND_NUMBER = 60\n",
    "FILLED_AREA_RATIO = 0.9\n",
    "TRAIN_IMAGE_COUNT = 1200\n",
    "VAL_IMAGE_COUNT = 400\n",
    "TEST_IMAGE_COUNT = 400\n",
    "NUM_VARIETIES = 4\n",
    "\n",
    "IMAGE_WIDTH = 30\n",
    "IMAGE_HEIGHT = 30"
   ]
  },
  {
   "cell_type": "code",
   "execution_count": 12,
   "id": "066f0249",
   "metadata": {},
   "outputs": [],
   "source": [
    "ACTIVATION_TYPE =  \"relu\"\n",
    "BATCH_SIZE = 2*NUM_VARIETIES\n",
    "LEARNING_RATE_BASE = 0.0001"
   ]
  },
  {
   "cell_type": "code",
   "execution_count": 13,
   "id": "6f32e132",
   "metadata": {},
   "outputs": [],
   "source": [
    "from enum import Enum\n",
    "\n",
    "class filter_method(Enum):\n",
    "    none = 0\n",
    "    snv = 1\n",
    "    msc = 2\n",
    "    savgol = 3\n",
    "    \n",
    "FILTER = filter_method(1).name\n",
    "\n",
    "# to be set if filter chosen is savgol\n",
    "WINDOW = 7\n",
    "ORDER = 2\n",
    "DERIVATIVE = \"none\""
   ]
  },
  {
   "cell_type": "code",
   "execution_count": 14,
   "id": "2e3a1d3a",
   "metadata": {},
   "outputs": [],
   "source": [
    "from enum import Enum\n",
    " \n",
    "class feature_extraction_method(Enum):\n",
    "    none = 0\n",
    "    pca_loading = 1\n",
    "    lda = 2\n",
    "    ipca = 3\n",
    "\n",
    "FEATURE_EXTRACTION = feature_extraction_method(0).name\n",
    "\n",
    "NUM_OF_BANDS = 3\n",
    "if FEATURE_EXTRACTION == \"pca_loading\" or FEATURE_EXTRACTION == \"ipca\":\n",
    "    NUM_OF_BANDS = 8\n",
    "elif FEATURE_EXTRACTION == \"lda\":\n",
    "    NUM_OF_BANDS = 3\n",
    "    assert NUM_OF_BANDS <= min(NUM_VARIETIES-1,168),\"NUM_OF_BANDS is greater.\"\n",
    "\n",
    "\n",
    "REMOVE_NOISY_BANDS = False\n",
    "FIRST_BAND = 15\n",
    "LAST_BAND = 161"
   ]
  },
  {
   "cell_type": "code",
   "execution_count": 15,
   "id": "e61072a5",
   "metadata": {},
   "outputs": [],
   "source": [
    "def start_timer():\n",
    "    print(\"Testing started\")\n",
    "    return timeit.default_timer()\n",
    "\n",
    "def end_timer():\n",
    "    return timeit.default_timer()\n",
    "\n",
    "def show_time(tic,toc): \n",
    "    test_time = toc - tic\n",
    "    print('Testing time (s) = ' + str(test_time) + '\\n')"
   ]
  },
  {
   "cell_type": "code",
   "execution_count": 16,
   "id": "e16e403c",
   "metadata": {},
   "outputs": [],
   "source": [
    "# List for All varieties\n",
    "VARIETIES = []\n",
    "VARIETIES_CODE = {}\n",
    "\n",
    "for name in os.listdir(DATA_DIRECTORY):\n",
    "    if (name.endswith(\".hdr\") or name.endswith(\".bil\")):\n",
    "        continue\n",
    "    VARIETIES_CODE[name] = len(VARIETIES)\n",
    "    VARIETIES.append(name)\n",
    "    if len(VARIETIES)==NUM_VARIETIES:\n",
    "        break"
   ]
  },
  {
   "cell_type": "code",
   "execution_count": 17,
   "id": "72409e2c",
   "metadata": {},
   "outputs": [],
   "source": [
    "def dataset_file_name(variety):\n",
    "    name = \"./dataset/V\"+str(variety).zfill(3)+\"_FilledArea_\"+str(FILLED_AREA_RATIO)+\"_NumOfBands_\"+str(NUM_OF_BANDS)+\"_FB_\"+str(FIRST_BAND)+\"_LB_\"+str(LAST_BAND)+\"_BandNo_\"+str(BAND_NUMBER)+\"_ImageHeight_\"+str(IMAGE_HEIGHT)+\"_ImageWidth_\"+str(IMAGE_WIDTH)+\"_FILTER_\"+str(FILTER)+\"_FeatureExtraction_\"+str(FEATURE_EXTRACTION)\n",
    "    if REMOVE_NOISY_BANDS:\n",
    "        name+=\"_REMOVE_NOISY_BANDS_\"+str(REMOVE_NOISY_BANDS)\n",
    "    if FILTER == \"savgol\":\n",
    "        name+=\"_WINDOW_\"+str(WINDOW)+\"_ORDER_\"+str(ORDER)\n",
    "    return name"
   ]
  },
  {
   "cell_type": "code",
   "execution_count": 18,
   "id": "e74afa6d",
   "metadata": {},
   "outputs": [
    {
     "name": "stdout",
     "output_type": "stream",
     "text": [
      "idx:  0\n",
      "idx:  1\n",
      "idx:  2\n",
      "idx:  3\n"
     ]
    }
   ],
   "source": [
    "x_train = []\n",
    "y_train = []\n",
    "x_val = []\n",
    "y_val = []\n",
    "test_dataset=[]\n",
    "test_dataset_label = []\n",
    "\n",
    "for idx, v in enumerate(VARIETIES):\n",
    "    print(\"idx: \",idx)\n",
    "    if idx >= NUM_VARIETIES:\n",
    "        break\n",
    "    x_train= x_train + np.load(dataset_file_name(v)+\"_train_dataset.npy\").tolist()\n",
    "    y_train = y_train + np.load(dataset_file_name(v)+\"_train_dataset_label.npy\").tolist()\n",
    "    x_val= x_val + np.load(dataset_file_name(v)+\"_val_dataset.npy\").tolist()\n",
    "    y_val = y_val + np.load(dataset_file_name(v)+\"_val_dataset_label.npy\").tolist()\n",
    "    test_dataset = test_dataset + np.load(dataset_file_name(v)+\"_test_dataset.npy\").tolist()\n",
    "    test_dataset_label = test_dataset_label + np.load(dataset_file_name(v)+\"_test_dataset_label.npy\").tolist()\n",
    "    \n",
    "x_train = np.array(x_train)\n",
    "y_train = np.array(y_train)\n",
    "x_val = np.array(x_val)\n",
    "y_val = np.array(y_val)\n",
    "test_dataset = np.array(test_dataset)\n",
    "test_dataset_label = np.array(test_dataset_label)"
   ]
  },
  {
   "cell_type": "code",
   "execution_count": 19,
   "id": "8e6c0621",
   "metadata": {
    "scrolled": true
   },
   "outputs": [],
   "source": [
    "import matplotlib.pyplot as plt\n",
    "import numpy as np\n",
    "import keras\n",
    "import keras.backend as K\n",
    "import tensorflow as tf\n",
    "from keras.layers import Dropout, Input, Conv2D, MaxPooling2D, Activation, BatchNormalization, Add, Conv2DTranspose, Flatten, Dense, Conv1D, AveragePooling2D, LeakyReLU, PReLU, GlobalAveragePooling2D\n",
    "from keras.layers import concatenate\n",
    "from keras.models import Model\n",
    "\n",
    "import os, pdb, timeit\n",
    "import numpy as np\n",
    "from keras.callbacks import TensorBoard\n",
    "from keras.optimizers import Adam\n",
    "\n",
    "from sklearn.metrics import confusion_matrix, precision_recall_fscore_support\n",
    "import matplotlib.cm as cm"
   ]
  },
  {
   "cell_type": "code",
   "execution_count": 20,
   "id": "3f98cd49",
   "metadata": {},
   "outputs": [],
   "source": [
    "def normalizeDataWholeSeed(data,normalization_type='max'):\n",
    "    \n",
    "    if normalization_type == 'max':\n",
    "        for idx in range(data.shape[0]):\n",
    "            data[idx,:,:,:] = data[idx,:,:,:]/np.max(abs(data[idx,:,:,:]))\n",
    "            \n",
    "    elif normalization_type == 'l2norm':\n",
    "        from numpy import linalg as LA\n",
    "        for idx in range(data.shape[0]):\n",
    "            data[idx,:,:,:] = data[idx,:,:,:]/LA.norm(data[idx,:,:,:]) # L2-norm by default        \n",
    "        \n",
    "    return data"
   ]
  },
  {
   "cell_type": "code",
   "execution_count": 21,
   "id": "cebae4db",
   "metadata": {},
   "outputs": [],
   "source": [
    "from sklearn.metrics import accuracy_score, confusion_matrix, classification_report"
   ]
  },
  {
   "cell_type": "code",
   "execution_count": 22,
   "id": "0ca90232",
   "metadata": {},
   "outputs": [],
   "source": [
    "import seaborn as sn\n",
    "import pandas as pd"
   ]
  },
  {
   "cell_type": "code",
   "execution_count": 23,
   "id": "90a3c3d9",
   "metadata": {},
   "outputs": [],
   "source": [
    "def evaluate(model,dataset,dataset_label,normalization_type):\n",
    "    print(\"--------------Make Predictions--------------\")    \n",
    "    x = np.array(dataset)\n",
    "    labels = np.array(dataset_label)\n",
    "    \n",
    "    # Normalize the data\n",
    "    x = normalizeDataWholeSeed(x,normalization_type=normalization_type)\n",
    "    \n",
    "    num = x.shape[0]\n",
    "\n",
    "    print(\"Testing started\")\n",
    "    tic = timeit.default_timer()\n",
    "    labels_predicted = model.predict(x)\n",
    "    toc = timeit.default_timer()\n",
    "    test_time = toc - tic\n",
    "    print('Testing time (s) = ' + str(test_time) + '\\n')\n",
    "    \n",
    "    print(\"--------\")\n",
    "    # Classification accuracy\n",
    "    labels_integer_format = labels\n",
    "    labels_predicted_integer_format = np.argmax(labels_predicted, axis=1)\n",
    "    \n",
    "    # Calculate accuracy\n",
    "    accuracy = accuracy_score(labels_integer_format, labels_predicted_integer_format)\n",
    "    print(\"Accuracy:\", accuracy)\n",
    "    \n",
    "    # Confusion matrices\n",
    "    confusion_matrix_results = confusion_matrix(labels_integer_format, labels_predicted_integer_format)\n",
    "    print(\"Confusion matrix = \")\n",
    "    print(confusion_matrix_results)\n",
    "    print(\"------------------------------------------------\")\n",
    "    \n",
    "    df_cm = pd.DataFrame(confusion_matrix_results,index =[i for i in VARIETIES],columns=[i for i in VARIETIES])\n",
    "    sn.heatmap(df_cm, annot=True, annot_kws={\"size\": 16},fmt='.0f') # font size\n",
    "\n",
    "    plt.show()\n",
    "\n",
    "    # Calculate precision, recall, and F1-score for each class\n",
    "    print(\"Classification Report:\")\n",
    "    print(classification_report(labels_integer_format, labels_predicted_integer_format))"
   ]
  },
  {
   "cell_type": "code",
   "execution_count": 24,
   "id": "5e4c541b",
   "metadata": {},
   "outputs": [],
   "source": [
    "def predict(model,normalization_type):\n",
    "    evaluate(model,test_dataset,test_dataset_label,normalization_type)"
   ]
  },
  {
   "cell_type": "code",
   "execution_count": 25,
   "id": "fb608fce",
   "metadata": {},
   "outputs": [],
   "source": [
    "def plot_graph(df,title,xlabel,ylabel,values=['loss'],legends=[]):\n",
    "    \n",
    "    for value in values:\n",
    "        epoch_count = range(1, len(df.index) + 1)\n",
    "        plt.plot(epoch_count, df[value].tolist())\n",
    "    plt.title(title)\n",
    "    plt.ylabel(ylabel)\n",
    "    plt.xlabel(xlabel)\n",
    "    if legends==[]:\n",
    "        legends = values\n",
    "    plt.legend(legends, loc='upper left')\n",
    "    plt.show()"
   ]
  },
  {
   "cell_type": "code",
   "execution_count": 26,
   "id": "90729707",
   "metadata": {},
   "outputs": [],
   "source": [
    "import tensorflow as tf\n",
    "from tensorflow.keras import layers\n",
    "\n",
    "def conv_block(x, filters, strides=1):\n",
    "    x = layers.Conv2D(filters, kernel_size=(3, 3), strides=strides, use_bias=False, padding='same')(x)\n",
    "    x = layers.BatchNormalization()(x)\n",
    "    x = layers.Activation('relu')(x)\n",
    "\n",
    "    x = layers.Conv2D(filters, kernel_size=(3, 3), use_bias=False, padding='same')(x)\n",
    "    x = layers.BatchNormalization()(x)\n",
    "\n",
    "    return x\n",
    "\n",
    "def identity_block(x, filters):\n",
    "    x_identity = x\n",
    "\n",
    "    x = conv_block(x, filters)\n",
    "    x = layers.Add()([x, x_identity])\n",
    "    x = layers.Activation('relu')(x)\n",
    "\n",
    "    return x\n",
    "\n",
    "def resnet18(input_shape, num_classes):\n",
    "    inputs = layers.Input(shape=input_shape)\n",
    "\n",
    "    # Initial convolution layer\n",
    "    x = layers.Conv2D(64, kernel_size=(7, 7), strides=(2, 2), use_bias=False, padding='same')(inputs)\n",
    "    x = layers.BatchNormalization()(x)\n",
    "    x = layers.Activation('relu')(x)\n",
    "    x = layers.MaxPooling2D(pool_size=(3, 3), strides=(2, 2), padding='same')(x)\n",
    "\n",
    "    # Residual blocks\n",
    "    x = conv_block(x, filters=64, strides=1)\n",
    "    x = identity_block(x, filters=64)\n",
    "\n",
    "    x = conv_block(x, filters=128, strides=2)\n",
    "    x = identity_block(x, filters=128)\n",
    "\n",
    "    x = conv_block(x, filters=256, strides=2)\n",
    "    x = identity_block(x, filters=256)\n",
    "\n",
    "    x = conv_block(x, filters=512, strides=2)\n",
    "    x = identity_block(x, filters=512)\n",
    "\n",
    "    x = layers.GlobalAveragePooling2D()(x)\n",
    "    outputs = layers.Dense(num_classes, activation='softmax')(x)\n",
    "\n",
    "    model = tf.keras.models.Model(inputs=inputs, outputs=outputs)\n",
    "    return model\n"
   ]
  },
  {
   "cell_type": "code",
   "execution_count": 27,
   "id": "b43cde60",
   "metadata": {},
   "outputs": [],
   "source": [
    "x_training = np.array(x_train)\n",
    "labels_training = np.array(y_train)\n",
    "\n",
    "# Normalize the data\n",
    "x_training = normalizeDataWholeSeed(x_training,normalization_type='max')\n",
    "x_val_norm = normalizeDataWholeSeed(x_val,normalization_type=\"max\")\n",
    "test_dataset = normalizeDataWholeSeed(test_dataset,normalization_type='max')\n",
    "    \n",
    "# Extract some information\n",
    "num_training = x_training.shape[0]\n",
    "N_spatial = x_training.shape[1:3]\n",
    "N_bands = x_training.shape[3]\n",
    "batch_size = BATCH_SIZE\n",
    "num_batch_per_epoch = int(num_training/batch_size)"
   ]
  },
  {
   "cell_type": "code",
   "execution_count": 28,
   "id": "80ce95ef",
   "metadata": {},
   "outputs": [],
   "source": [
    "import pandas as pd\n",
    "import os\n",
    "\n",
    "def save_to_csv(file_path, data_frame, header=False):\n",
    "    file_exists = os.path.exists(file_path)\n",
    "\n",
    "    if not file_exists or not header:\n",
    "        data_frame.to_csv(file_path, index=False, mode='w')\n",
    "    else:\n",
    "        data_frame.to_csv(file_path, index=False, mode='a', header=False)"
   ]
  },
  {
   "cell_type": "code",
   "execution_count": 29,
   "id": "08349c2d",
   "metadata": {},
   "outputs": [
    {
     "data": {
      "text/plain": [
       "['HD 3086', 'PBW 291', 'DBW 187', 'DBW222']"
      ]
     },
     "execution_count": 29,
     "metadata": {},
     "output_type": "execute_result"
    }
   ],
   "source": [
    "VARIETIES"
   ]
  },
  {
   "cell_type": "code",
   "execution_count": 30,
   "id": "380caf43",
   "metadata": {},
   "outputs": [],
   "source": [
    "from tensorflow.keras import datasets, layers, models, losses, Model"
   ]
  },
  {
   "cell_type": "code",
   "execution_count": 31,
   "id": "c9dcaed0",
   "metadata": {},
   "outputs": [],
   "source": [
    "model = None"
   ]
  },
  {
   "cell_type": "code",
   "execution_count": 32,
   "id": "f93d40af",
   "metadata": {},
   "outputs": [],
   "source": [
    "start_epoch = 1"
   ]
  },
  {
   "cell_type": "code",
   "execution_count": 33,
   "id": "ead0a03f",
   "metadata": {},
   "outputs": [
    {
     "name": "stderr",
     "output_type": "stream",
     "text": [
      "2024-04-05 21:08:48.414651: I tensorflow/core/common_runtime/gpu/gpu_device.cc:1635] Created device /job:localhost/replica:0/task:0/device:GPU:0 with 14554 MB memory:  -> device: 1, name: Quadro P5000, pci bus id: 0000:9b:00.0, compute capability: 6.1\n"
     ]
    }
   ],
   "source": [
    "model_name = \"RN_\"+\"_IC_\"+str(TRAIN_IMAGE_COUNT).zfill(5)+\"_FilledArea_\"+str(FILLED_AREA_RATIO)+\"_BandNo_\"+str(BAND_NUMBER)+\"_ImageHeight_\"+str(IMAGE_HEIGHT)+\"_ImageWidth_\"+str(IMAGE_WIDTH)+\"_FILTER_\"+str(FILTER)+\"_FeatureExtraction_\"+str(FEATURE_EXTRACTION)\n",
    "if REMOVE_NOISY_BANDS:\n",
    "    model_name+=\"_REMOVE_NOISY_BANDS_\"+str(REMOVE_NOISY_BANDS)+\"_NumOfBands_\"+str(NUM_OF_BANDS)+\"_FB_\"+str(FIRST_BAND)+\"_LB_\"+str(LAST_BAND)\n",
    "if FILTER == \"savgol\":\n",
    "    model_name+=\"_WINDOW_\"+str(WINDOW)+\"_ORDER_\"+str(ORDER)\n",
    "\n",
    "if start_epoch != 1:\n",
    "    model = tf.keras.models.load_model('./RNmodels/'+str(start_epoch-1)+model_name)\n",
    "else:\n",
    "    \n",
    "    input_shape = (30, 30, 168)\n",
    "    num_classes = 4\n",
    "    model = resnet18(input_shape, num_classes)\n",
    "    adam_opt = Adam(learning_rate=LEARNING_RATE_BASE, beta_1=0.9, beta_2=0.999, epsilon=1e-08)\n",
    "    model.compile(loss='sparse_categorical_crossentropy', optimizer=adam_opt, metrics=['acc'])"
   ]
  },
  {
   "cell_type": "code",
   "execution_count": 34,
   "id": "627a2596",
   "metadata": {},
   "outputs": [],
   "source": [
    "last_epoch = 100"
   ]
  },
  {
   "cell_type": "code",
   "execution_count": 35,
   "id": "74535028",
   "metadata": {},
   "outputs": [
    {
     "name": "stdout",
     "output_type": "stream",
     "text": [
      "Model: \"model\"\n",
      "__________________________________________________________________________________________________\n",
      " Layer (type)                   Output Shape         Param #     Connected to                     \n",
      "==================================================================================================\n",
      " input_1 (InputLayer)           [(None, 30, 30, 168  0           []                               \n",
      "                                )]                                                                \n",
      "                                                                                                  \n",
      " conv2d (Conv2D)                (None, 15, 15, 64)   526848      ['input_1[0][0]']                \n",
      "                                                                                                  \n",
      " batch_normalization (BatchNorm  (None, 15, 15, 64)  256         ['conv2d[0][0]']                 \n",
      " alization)                                                                                       \n",
      "                                                                                                  \n",
      " activation (Activation)        (None, 15, 15, 64)   0           ['batch_normalization[0][0]']    \n",
      "                                                                                                  \n",
      " max_pooling2d (MaxPooling2D)   (None, 8, 8, 64)     0           ['activation[0][0]']             \n",
      "                                                                                                  \n",
      " conv2d_1 (Conv2D)              (None, 8, 8, 64)     36864       ['max_pooling2d[0][0]']          \n",
      "                                                                                                  \n",
      " batch_normalization_1 (BatchNo  (None, 8, 8, 64)    256         ['conv2d_1[0][0]']               \n",
      " rmalization)                                                                                     \n",
      "                                                                                                  \n",
      " activation_1 (Activation)      (None, 8, 8, 64)     0           ['batch_normalization_1[0][0]']  \n",
      "                                                                                                  \n",
      " conv2d_2 (Conv2D)              (None, 8, 8, 64)     36864       ['activation_1[0][0]']           \n",
      "                                                                                                  \n",
      " batch_normalization_2 (BatchNo  (None, 8, 8, 64)    256         ['conv2d_2[0][0]']               \n",
      " rmalization)                                                                                     \n",
      "                                                                                                  \n",
      " conv2d_3 (Conv2D)              (None, 8, 8, 64)     36864       ['batch_normalization_2[0][0]']  \n",
      "                                                                                                  \n",
      " batch_normalization_3 (BatchNo  (None, 8, 8, 64)    256         ['conv2d_3[0][0]']               \n",
      " rmalization)                                                                                     \n",
      "                                                                                                  \n",
      " activation_2 (Activation)      (None, 8, 8, 64)     0           ['batch_normalization_3[0][0]']  \n",
      "                                                                                                  \n",
      " conv2d_4 (Conv2D)              (None, 8, 8, 64)     36864       ['activation_2[0][0]']           \n",
      "                                                                                                  \n",
      " batch_normalization_4 (BatchNo  (None, 8, 8, 64)    256         ['conv2d_4[0][0]']               \n",
      " rmalization)                                                                                     \n",
      "                                                                                                  \n",
      " add (Add)                      (None, 8, 8, 64)     0           ['batch_normalization_4[0][0]',  \n",
      "                                                                  'batch_normalization_2[0][0]']  \n",
      "                                                                                                  \n",
      " activation_3 (Activation)      (None, 8, 8, 64)     0           ['add[0][0]']                    \n",
      "                                                                                                  \n",
      " conv2d_5 (Conv2D)              (None, 4, 4, 128)    73728       ['activation_3[0][0]']           \n",
      "                                                                                                  \n",
      " batch_normalization_5 (BatchNo  (None, 4, 4, 128)   512         ['conv2d_5[0][0]']               \n",
      " rmalization)                                                                                     \n",
      "                                                                                                  \n",
      " activation_4 (Activation)      (None, 4, 4, 128)    0           ['batch_normalization_5[0][0]']  \n",
      "                                                                                                  \n",
      " conv2d_6 (Conv2D)              (None, 4, 4, 128)    147456      ['activation_4[0][0]']           \n",
      "                                                                                                  \n",
      " batch_normalization_6 (BatchNo  (None, 4, 4, 128)   512         ['conv2d_6[0][0]']               \n",
      " rmalization)                                                                                     \n",
      "                                                                                                  \n",
      " conv2d_7 (Conv2D)              (None, 4, 4, 128)    147456      ['batch_normalization_6[0][0]']  \n",
      "                                                                                                  \n",
      " batch_normalization_7 (BatchNo  (None, 4, 4, 128)   512         ['conv2d_7[0][0]']               \n",
      " rmalization)                                                                                     \n",
      "                                                                                                  \n",
      " activation_5 (Activation)      (None, 4, 4, 128)    0           ['batch_normalization_7[0][0]']  \n",
      "                                                                                                  \n",
      " conv2d_8 (Conv2D)              (None, 4, 4, 128)    147456      ['activation_5[0][0]']           \n",
      "                                                                                                  \n",
      " batch_normalization_8 (BatchNo  (None, 4, 4, 128)   512         ['conv2d_8[0][0]']               \n",
      " rmalization)                                                                                     \n",
      "                                                                                                  \n",
      " add_1 (Add)                    (None, 4, 4, 128)    0           ['batch_normalization_8[0][0]',  \n",
      "                                                                  'batch_normalization_6[0][0]']  \n",
      "                                                                                                  \n",
      " activation_6 (Activation)      (None, 4, 4, 128)    0           ['add_1[0][0]']                  \n",
      "                                                                                                  \n",
      " conv2d_9 (Conv2D)              (None, 2, 2, 256)    294912      ['activation_6[0][0]']           \n",
      "                                                                                                  \n",
      " batch_normalization_9 (BatchNo  (None, 2, 2, 256)   1024        ['conv2d_9[0][0]']               \n",
      " rmalization)                                                                                     \n",
      "                                                                                                  \n",
      " activation_7 (Activation)      (None, 2, 2, 256)    0           ['batch_normalization_9[0][0]']  \n",
      "                                                                                                  \n",
      " conv2d_10 (Conv2D)             (None, 2, 2, 256)    589824      ['activation_7[0][0]']           \n",
      "                                                                                                  \n",
      " batch_normalization_10 (BatchN  (None, 2, 2, 256)   1024        ['conv2d_10[0][0]']              \n"
     ]
    },
    {
     "name": "stdout",
     "output_type": "stream",
     "text": [
      " ormalization)                                                                                    \n",
      "                                                                                                  \n",
      " conv2d_11 (Conv2D)             (None, 2, 2, 256)    589824      ['batch_normalization_10[0][0]'] \n",
      "                                                                                                  \n",
      " batch_normalization_11 (BatchN  (None, 2, 2, 256)   1024        ['conv2d_11[0][0]']              \n",
      " ormalization)                                                                                    \n",
      "                                                                                                  \n",
      " activation_8 (Activation)      (None, 2, 2, 256)    0           ['batch_normalization_11[0][0]'] \n",
      "                                                                                                  \n",
      " conv2d_12 (Conv2D)             (None, 2, 2, 256)    589824      ['activation_8[0][0]']           \n",
      "                                                                                                  \n",
      " batch_normalization_12 (BatchN  (None, 2, 2, 256)   1024        ['conv2d_12[0][0]']              \n",
      " ormalization)                                                                                    \n",
      "                                                                                                  \n",
      " add_2 (Add)                    (None, 2, 2, 256)    0           ['batch_normalization_12[0][0]', \n",
      "                                                                  'batch_normalization_10[0][0]'] \n",
      "                                                                                                  \n",
      " activation_9 (Activation)      (None, 2, 2, 256)    0           ['add_2[0][0]']                  \n",
      "                                                                                                  \n",
      " conv2d_13 (Conv2D)             (None, 1, 1, 512)    1179648     ['activation_9[0][0]']           \n",
      "                                                                                                  \n",
      " batch_normalization_13 (BatchN  (None, 1, 1, 512)   2048        ['conv2d_13[0][0]']              \n",
      " ormalization)                                                                                    \n",
      "                                                                                                  \n",
      " activation_10 (Activation)     (None, 1, 1, 512)    0           ['batch_normalization_13[0][0]'] \n",
      "                                                                                                  \n",
      " conv2d_14 (Conv2D)             (None, 1, 1, 512)    2359296     ['activation_10[0][0]']          \n",
      "                                                                                                  \n",
      " batch_normalization_14 (BatchN  (None, 1, 1, 512)   2048        ['conv2d_14[0][0]']              \n",
      " ormalization)                                                                                    \n",
      "                                                                                                  \n",
      " conv2d_15 (Conv2D)             (None, 1, 1, 512)    2359296     ['batch_normalization_14[0][0]'] \n",
      "                                                                                                  \n",
      " batch_normalization_15 (BatchN  (None, 1, 1, 512)   2048        ['conv2d_15[0][0]']              \n",
      " ormalization)                                                                                    \n",
      "                                                                                                  \n",
      " activation_11 (Activation)     (None, 1, 1, 512)    0           ['batch_normalization_15[0][0]'] \n",
      "                                                                                                  \n",
      " conv2d_16 (Conv2D)             (None, 1, 1, 512)    2359296     ['activation_11[0][0]']          \n",
      "                                                                                                  \n",
      " batch_normalization_16 (BatchN  (None, 1, 1, 512)   2048        ['conv2d_16[0][0]']              \n",
      " ormalization)                                                                                    \n",
      "                                                                                                  \n",
      " add_3 (Add)                    (None, 1, 1, 512)    0           ['batch_normalization_16[0][0]', \n",
      "                                                                  'batch_normalization_14[0][0]'] \n",
      "                                                                                                  \n",
      " activation_12 (Activation)     (None, 1, 1, 512)    0           ['add_3[0][0]']                  \n",
      "                                                                                                  \n",
      " global_average_pooling2d (Glob  (None, 512)         0           ['activation_12[0][0]']          \n",
      " alAveragePooling2D)                                                                              \n",
      "                                                                                                  \n",
      " dense (Dense)                  (None, 4)            2052        ['global_average_pooling2d[0][0]'\n",
      "                                                                 ]                                \n",
      "                                                                                                  \n",
      "==================================================================================================\n",
      "Total params: 11,529,988\n",
      "Trainable params: 11,522,180\n",
      "Non-trainable params: 7,808\n",
      "__________________________________________________________________________________________________\n"
     ]
    }
   ],
   "source": [
    "model.summary()"
   ]
  },
  {
   "cell_type": "code",
   "execution_count": 36,
   "id": "3324c7fa",
   "metadata": {},
   "outputs": [
    {
     "name": "stdout",
     "output_type": "stream",
     "text": [
      "Testing started\n",
      "\n",
      "Epoch:  1\n"
     ]
    },
    {
     "name": "stderr",
     "output_type": "stream",
     "text": [
      "2024-04-05 21:08:58.351349: I tensorflow/compiler/xla/stream_executor/cuda/cuda_dnn.cc:424] Loaded cuDNN version 8907\n"
     ]
    },
    {
     "name": "stdout",
     "output_type": "stream",
     "text": [
      "600/600 - 17s - loss: 1.5680 - acc: 0.3517 - val_loss: 2.2247 - val_acc: 0.3537 - 17s/epoch - 29ms/step\n"
     ]
    },
    {
     "name": "stderr",
     "output_type": "stream",
     "text": [
      "WARNING:absl:Found untraced functions such as _jit_compiled_convolution_op, _jit_compiled_convolution_op, _jit_compiled_convolution_op, _jit_compiled_convolution_op, _jit_compiled_convolution_op while saving (showing 5 of 17). These functions will not be directly callable after loading.\n"
     ]
    },
    {
     "name": "stdout",
     "output_type": "stream",
     "text": [
      "INFO:tensorflow:Assets written to: ./RNmodels/1RN__IC_01200_FilledArea_0.9_BandNo_60_ImageHeight_30_ImageWidth_30_FILTER_snv_FeatureExtraction_none/assets\n"
     ]
    },
    {
     "name": "stderr",
     "output_type": "stream",
     "text": [
      "INFO:tensorflow:Assets written to: ./RNmodels/1RN__IC_01200_FilledArea_0.9_BandNo_60_ImageHeight_30_ImageWidth_30_FILTER_snv_FeatureExtraction_none/assets\n"
     ]
    },
    {
     "name": "stdout",
     "output_type": "stream",
     "text": [
      "Model saved on epoch:  1\n",
      "added to csv\n",
      "50/50 [==============================] - 1s 13ms/step\n",
      "Accuracy: 0.38875\n",
      "Confusion Matrix:\n",
      "[[ 49   5  22 324]\n",
      " [ 22 120 112 146]\n",
      " [ 23  36 117 224]\n",
      " [ 34   2  28 336]]\n",
      "Classification Report:\n",
      "              precision    recall  f1-score   support\n",
      "\n",
      "           0       0.38      0.12      0.19       400\n",
      "           1       0.74      0.30      0.43       400\n",
      "           2       0.42      0.29      0.34       400\n",
      "           3       0.33      0.84      0.47       400\n",
      "\n",
      "    accuracy                           0.39      1600\n",
      "   macro avg       0.47      0.39      0.36      1600\n",
      "weighted avg       0.47      0.39      0.36      1600\n",
      "\n",
      "\n",
      "Epoch:  2\n",
      "600/600 - 14s - loss: 1.2246 - acc: 0.4650 - val_loss: 1.0964 - val_acc: 0.5025 - 14s/epoch - 23ms/step\n"
     ]
    },
    {
     "name": "stderr",
     "output_type": "stream",
     "text": [
      "WARNING:absl:Found untraced functions such as _jit_compiled_convolution_op, _jit_compiled_convolution_op, _jit_compiled_convolution_op, _jit_compiled_convolution_op, _jit_compiled_convolution_op while saving (showing 5 of 17). These functions will not be directly callable after loading.\n"
     ]
    },
    {
     "name": "stdout",
     "output_type": "stream",
     "text": [
      "INFO:tensorflow:Assets written to: ./RNmodels/2RN__IC_01200_FilledArea_0.9_BandNo_60_ImageHeight_30_ImageWidth_30_FILTER_snv_FeatureExtraction_none/assets\n"
     ]
    },
    {
     "name": "stderr",
     "output_type": "stream",
     "text": [
      "INFO:tensorflow:Assets written to: ./RNmodels/2RN__IC_01200_FilledArea_0.9_BandNo_60_ImageHeight_30_ImageWidth_30_FILTER_snv_FeatureExtraction_none/assets\n"
     ]
    },
    {
     "name": "stdout",
     "output_type": "stream",
     "text": [
      "Model saved on epoch:  2\n",
      "added to csv\n",
      "50/50 [==============================] - 1s 12ms/step\n",
      "Accuracy: 0.468125\n",
      "Confusion Matrix:\n",
      "[[217  76  70  37]\n",
      " [ 46 266  81   7]\n",
      " [ 36 231 119  14]\n",
      " [ 86  67 100 147]]\n",
      "Classification Report:\n",
      "              precision    recall  f1-score   support\n",
      "\n",
      "           0       0.56      0.54      0.55       400\n",
      "           1       0.42      0.67      0.51       400\n",
      "           2       0.32      0.30      0.31       400\n",
      "           3       0.72      0.37      0.49       400\n",
      "\n",
      "    accuracy                           0.47      1600\n",
      "   macro avg       0.50      0.47      0.46      1600\n",
      "weighted avg       0.50      0.47      0.46      1600\n",
      "\n",
      "\n",
      "Epoch:  3\n",
      "600/600 - 14s - loss: 0.8486 - acc: 0.6448 - val_loss: 0.9864 - val_acc: 0.5675 - 14s/epoch - 23ms/step\n"
     ]
    },
    {
     "name": "stderr",
     "output_type": "stream",
     "text": [
      "WARNING:absl:Found untraced functions such as _jit_compiled_convolution_op, _jit_compiled_convolution_op, _jit_compiled_convolution_op, _jit_compiled_convolution_op, _jit_compiled_convolution_op while saving (showing 5 of 17). These functions will not be directly callable after loading.\n"
     ]
    },
    {
     "name": "stdout",
     "output_type": "stream",
     "text": [
      "INFO:tensorflow:Assets written to: ./RNmodels/3RN__IC_01200_FilledArea_0.9_BandNo_60_ImageHeight_30_ImageWidth_30_FILTER_snv_FeatureExtraction_none/assets\n"
     ]
    },
    {
     "name": "stderr",
     "output_type": "stream",
     "text": [
      "INFO:tensorflow:Assets written to: ./RNmodels/3RN__IC_01200_FilledArea_0.9_BandNo_60_ImageHeight_30_ImageWidth_30_FILTER_snv_FeatureExtraction_none/assets\n"
     ]
    },
    {
     "name": "stdout",
     "output_type": "stream",
     "text": [
      "Model saved on epoch:  3\n",
      "added to csv\n",
      "50/50 [==============================] - 1s 13ms/step\n",
      "Accuracy: 0.54375\n",
      "Confusion Matrix:\n",
      "[[246  39 114   1]\n",
      " [ 43 249 107   1]\n",
      " [ 46 147 207   0]\n",
      " [ 72  22 138 168]]\n",
      "Classification Report:\n",
      "              precision    recall  f1-score   support\n",
      "\n",
      "           0       0.60      0.61      0.61       400\n",
      "           1       0.54      0.62      0.58       400\n",
      "           2       0.37      0.52      0.43       400\n",
      "           3       0.99      0.42      0.59       400\n",
      "\n",
      "    accuracy                           0.54      1600\n",
      "   macro avg       0.63      0.54      0.55      1600\n",
      "weighted avg       0.63      0.54      0.55      1600\n",
      "\n",
      "\n",
      "Epoch:  4\n",
      "600/600 - 13s - loss: 0.5807 - acc: 0.7671 - val_loss: 0.8404 - val_acc: 0.6525 - 13s/epoch - 22ms/step\n"
     ]
    },
    {
     "name": "stderr",
     "output_type": "stream",
     "text": [
      "WARNING:absl:Found untraced functions such as _jit_compiled_convolution_op, _jit_compiled_convolution_op, _jit_compiled_convolution_op, _jit_compiled_convolution_op, _jit_compiled_convolution_op while saving (showing 5 of 17). These functions will not be directly callable after loading.\n"
     ]
    },
    {
     "name": "stdout",
     "output_type": "stream",
     "text": [
      "INFO:tensorflow:Assets written to: ./RNmodels/4RN__IC_01200_FilledArea_0.9_BandNo_60_ImageHeight_30_ImageWidth_30_FILTER_snv_FeatureExtraction_none/assets\n"
     ]
    },
    {
     "name": "stderr",
     "output_type": "stream",
     "text": [
      "INFO:tensorflow:Assets written to: ./RNmodels/4RN__IC_01200_FilledArea_0.9_BandNo_60_ImageHeight_30_ImageWidth_30_FILTER_snv_FeatureExtraction_none/assets\n"
     ]
    },
    {
     "name": "stdout",
     "output_type": "stream",
     "text": [
      "Model saved on epoch:  4\n",
      "added to csv\n",
      "50/50 [==============================] - 1s 13ms/step\n",
      "Accuracy: 0.631875\n",
      "Confusion Matrix:\n",
      "[[179 101 112   8]\n",
      " [ 15 325  53   7]\n",
      " [ 19 236 143   2]\n",
      " [  9  18   9 364]]\n",
      "Classification Report:\n",
      "              precision    recall  f1-score   support\n",
      "\n",
      "           0       0.81      0.45      0.58       400\n",
      "           1       0.48      0.81      0.60       400\n",
      "           2       0.45      0.36      0.40       400\n",
      "           3       0.96      0.91      0.93       400\n",
      "\n",
      "    accuracy                           0.63      1600\n",
      "   macro avg       0.67      0.63      0.63      1600\n",
      "weighted avg       0.67      0.63      0.63      1600\n",
      "\n",
      "\n",
      "Epoch:  5\n",
      "600/600 - 13s - loss: 0.4086 - acc: 0.8440 - val_loss: 1.0522 - val_acc: 0.6519 - 13s/epoch - 22ms/step\n"
     ]
    },
    {
     "name": "stderr",
     "output_type": "stream",
     "text": [
      "WARNING:absl:Found untraced functions such as _jit_compiled_convolution_op, _jit_compiled_convolution_op, _jit_compiled_convolution_op, _jit_compiled_convolution_op, _jit_compiled_convolution_op while saving (showing 5 of 17). These functions will not be directly callable after loading.\n"
     ]
    },
    {
     "name": "stdout",
     "output_type": "stream",
     "text": [
      "INFO:tensorflow:Assets written to: ./RNmodels/5RN__IC_01200_FilledArea_0.9_BandNo_60_ImageHeight_30_ImageWidth_30_FILTER_snv_FeatureExtraction_none/assets\n"
     ]
    },
    {
     "name": "stderr",
     "output_type": "stream",
     "text": [
      "INFO:tensorflow:Assets written to: ./RNmodels/5RN__IC_01200_FilledArea_0.9_BandNo_60_ImageHeight_30_ImageWidth_30_FILTER_snv_FeatureExtraction_none/assets\n"
     ]
    },
    {
     "name": "stdout",
     "output_type": "stream",
     "text": [
      "Model saved on epoch:  5\n",
      "added to csv\n",
      "50/50 [==============================] - 1s 14ms/step\n",
      "Accuracy: 0.650625\n",
      "Confusion Matrix:\n",
      "[[274   8  89  29]\n",
      " [ 97 188  79  36]\n",
      " [110  84 188  18]\n",
      " [  9   0   0 391]]\n",
      "Classification Report:\n",
      "              precision    recall  f1-score   support\n",
      "\n",
      "           0       0.56      0.69      0.62       400\n",
      "           1       0.67      0.47      0.55       400\n",
      "           2       0.53      0.47      0.50       400\n",
      "           3       0.82      0.98      0.89       400\n",
      "\n",
      "    accuracy                           0.65      1600\n",
      "   macro avg       0.65      0.65      0.64      1600\n",
      "weighted avg       0.65      0.65      0.64      1600\n",
      "\n",
      "\n",
      "Epoch:  6\n",
      "600/600 - 13s - loss: 0.3265 - acc: 0.8773 - val_loss: 0.9254 - val_acc: 0.6650 - 13s/epoch - 22ms/step\n"
     ]
    },
    {
     "name": "stderr",
     "output_type": "stream",
     "text": [
      "WARNING:absl:Found untraced functions such as _jit_compiled_convolution_op, _jit_compiled_convolution_op, _jit_compiled_convolution_op, _jit_compiled_convolution_op, _jit_compiled_convolution_op while saving (showing 5 of 17). These functions will not be directly callable after loading.\n"
     ]
    },
    {
     "name": "stdout",
     "output_type": "stream",
     "text": [
      "INFO:tensorflow:Assets written to: ./RNmodels/6RN__IC_01200_FilledArea_0.9_BandNo_60_ImageHeight_30_ImageWidth_30_FILTER_snv_FeatureExtraction_none/assets\n"
     ]
    },
    {
     "name": "stderr",
     "output_type": "stream",
     "text": [
      "INFO:tensorflow:Assets written to: ./RNmodels/6RN__IC_01200_FilledArea_0.9_BandNo_60_ImageHeight_30_ImageWidth_30_FILTER_snv_FeatureExtraction_none/assets\n"
     ]
    },
    {
     "name": "stdout",
     "output_type": "stream",
     "text": [
      "Model saved on epoch:  6\n",
      "added to csv\n",
      "50/50 [==============================] - 1s 13ms/step\n",
      "Accuracy: 0.680625\n",
      "Confusion Matrix:\n",
      "[[238  37  83  42]\n",
      " [ 46 265  72  17]\n",
      " [ 60 135 189  16]\n",
      " [  2   1   0 397]]\n",
      "Classification Report:\n",
      "              precision    recall  f1-score   support\n",
      "\n",
      "           0       0.69      0.59      0.64       400\n",
      "           1       0.61      0.66      0.63       400\n",
      "           2       0.55      0.47      0.51       400\n",
      "           3       0.84      0.99      0.91       400\n",
      "\n",
      "    accuracy                           0.68      1600\n",
      "   macro avg       0.67      0.68      0.67      1600\n",
      "weighted avg       0.67      0.68      0.67      1600\n",
      "\n",
      "\n",
      "Epoch:  7\n",
      "600/600 - 13s - loss: 0.2781 - acc: 0.9023 - val_loss: 0.8065 - val_acc: 0.7119 - 13s/epoch - 22ms/step\n"
     ]
    },
    {
     "name": "stderr",
     "output_type": "stream",
     "text": [
      "WARNING:absl:Found untraced functions such as _jit_compiled_convolution_op, _jit_compiled_convolution_op, _jit_compiled_convolution_op, _jit_compiled_convolution_op, _jit_compiled_convolution_op while saving (showing 5 of 17). These functions will not be directly callable after loading.\n"
     ]
    },
    {
     "name": "stdout",
     "output_type": "stream",
     "text": [
      "INFO:tensorflow:Assets written to: ./RNmodels/7RN__IC_01200_FilledArea_0.9_BandNo_60_ImageHeight_30_ImageWidth_30_FILTER_snv_FeatureExtraction_none/assets\n"
     ]
    },
    {
     "name": "stderr",
     "output_type": "stream",
     "text": [
      "INFO:tensorflow:Assets written to: ./RNmodels/7RN__IC_01200_FilledArea_0.9_BandNo_60_ImageHeight_30_ImageWidth_30_FILTER_snv_FeatureExtraction_none/assets\n"
     ]
    },
    {
     "name": "stdout",
     "output_type": "stream",
     "text": [
      "Model saved on epoch:  7\n",
      "added to csv\n",
      "50/50 [==============================] - 1s 12ms/step\n",
      "Accuracy: 0.70125\n",
      "Confusion Matrix:\n",
      "[[304  45  48   3]\n",
      " [ 59 303  36   2]\n",
      " [ 93 156 151   0]\n",
      " [ 28   3   5 364]]\n",
      "Classification Report:\n",
      "              precision    recall  f1-score   support\n",
      "\n",
      "           0       0.63      0.76      0.69       400\n",
      "           1       0.60      0.76      0.67       400\n",
      "           2       0.63      0.38      0.47       400\n",
      "           3       0.99      0.91      0.95       400\n",
      "\n",
      "    accuracy                           0.70      1600\n",
      "   macro avg       0.71      0.70      0.69      1600\n",
      "weighted avg       0.71      0.70      0.69      1600\n",
      "\n",
      "\n",
      "Epoch:  8\n",
      "600/600 - 13s - loss: 0.2147 - acc: 0.9235 - val_loss: 0.9212 - val_acc: 0.7088 - 13s/epoch - 22ms/step\n"
     ]
    },
    {
     "name": "stderr",
     "output_type": "stream",
     "text": [
      "WARNING:absl:Found untraced functions such as _jit_compiled_convolution_op, _jit_compiled_convolution_op, _jit_compiled_convolution_op, _jit_compiled_convolution_op, _jit_compiled_convolution_op while saving (showing 5 of 17). These functions will not be directly callable after loading.\n"
     ]
    },
    {
     "name": "stdout",
     "output_type": "stream",
     "text": [
      "INFO:tensorflow:Assets written to: ./RNmodels/8RN__IC_01200_FilledArea_0.9_BandNo_60_ImageHeight_30_ImageWidth_30_FILTER_snv_FeatureExtraction_none/assets\n"
     ]
    },
    {
     "name": "stderr",
     "output_type": "stream",
     "text": [
      "INFO:tensorflow:Assets written to: ./RNmodels/8RN__IC_01200_FilledArea_0.9_BandNo_60_ImageHeight_30_ImageWidth_30_FILTER_snv_FeatureExtraction_none/assets\n"
     ]
    },
    {
     "name": "stdout",
     "output_type": "stream",
     "text": [
      "Model saved on epoch:  8\n",
      "added to csv\n",
      "50/50 [==============================] - 1s 13ms/step\n",
      "Accuracy: 0.68\n",
      "Confusion Matrix:\n",
      "[[158 107 111  24]\n",
      " [ 12 331  47  10]\n",
      " [  8 176 215   1]\n",
      " [  6   6   4 384]]\n",
      "Classification Report:\n",
      "              precision    recall  f1-score   support\n",
      "\n",
      "           0       0.86      0.40      0.54       400\n",
      "           1       0.53      0.83      0.65       400\n",
      "           2       0.57      0.54      0.55       400\n",
      "           3       0.92      0.96      0.94       400\n",
      "\n",
      "    accuracy                           0.68      1600\n",
      "   macro avg       0.72      0.68      0.67      1600\n",
      "weighted avg       0.72      0.68      0.67      1600\n",
      "\n",
      "\n",
      "Epoch:  9\n",
      "600/600 - 14s - loss: 0.1849 - acc: 0.9385 - val_loss: 1.2832 - val_acc: 0.6231 - 14s/epoch - 23ms/step\n"
     ]
    },
    {
     "name": "stderr",
     "output_type": "stream",
     "text": [
      "WARNING:absl:Found untraced functions such as _jit_compiled_convolution_op, _jit_compiled_convolution_op, _jit_compiled_convolution_op, _jit_compiled_convolution_op, _jit_compiled_convolution_op while saving (showing 5 of 17). These functions will not be directly callable after loading.\n"
     ]
    },
    {
     "name": "stdout",
     "output_type": "stream",
     "text": [
      "INFO:tensorflow:Assets written to: ./RNmodels/9RN__IC_01200_FilledArea_0.9_BandNo_60_ImageHeight_30_ImageWidth_30_FILTER_snv_FeatureExtraction_none/assets\n"
     ]
    },
    {
     "name": "stderr",
     "output_type": "stream",
     "text": [
      "INFO:tensorflow:Assets written to: ./RNmodels/9RN__IC_01200_FilledArea_0.9_BandNo_60_ImageHeight_30_ImageWidth_30_FILTER_snv_FeatureExtraction_none/assets\n"
     ]
    },
    {
     "name": "stdout",
     "output_type": "stream",
     "text": [
      "Model saved on epoch:  9\n",
      "added to csv\n",
      "50/50 [==============================] - 1s 13ms/step\n",
      "Accuracy: 0.610625\n",
      "Confusion Matrix:\n",
      "[[115 116  34 135]\n",
      " [  7 342  13  38]\n",
      " [ 17 174 120  89]\n",
      " [  0   0   0 400]]\n",
      "Classification Report:\n",
      "              precision    recall  f1-score   support\n",
      "\n",
      "           0       0.83      0.29      0.43       400\n",
      "           1       0.54      0.85      0.66       400\n",
      "           2       0.72      0.30      0.42       400\n",
      "           3       0.60      1.00      0.75       400\n",
      "\n",
      "    accuracy                           0.61      1600\n",
      "   macro avg       0.67      0.61      0.57      1600\n",
      "weighted avg       0.67      0.61      0.57      1600\n",
      "\n",
      "\n",
      "Epoch:  10\n",
      "600/600 - 14s - loss: 0.1446 - acc: 0.9492 - val_loss: 1.3711 - val_acc: 0.6263 - 14s/epoch - 23ms/step\n"
     ]
    },
    {
     "name": "stderr",
     "output_type": "stream",
     "text": [
      "WARNING:absl:Found untraced functions such as _jit_compiled_convolution_op, _jit_compiled_convolution_op, _jit_compiled_convolution_op, _jit_compiled_convolution_op, _jit_compiled_convolution_op while saving (showing 5 of 17). These functions will not be directly callable after loading.\n"
     ]
    },
    {
     "name": "stdout",
     "output_type": "stream",
     "text": [
      "INFO:tensorflow:Assets written to: ./RNmodels/10RN__IC_01200_FilledArea_0.9_BandNo_60_ImageHeight_30_ImageWidth_30_FILTER_snv_FeatureExtraction_none/assets\n"
     ]
    },
    {
     "name": "stderr",
     "output_type": "stream",
     "text": [
      "INFO:tensorflow:Assets written to: ./RNmodels/10RN__IC_01200_FilledArea_0.9_BandNo_60_ImageHeight_30_ImageWidth_30_FILTER_snv_FeatureExtraction_none/assets\n"
     ]
    },
    {
     "name": "stdout",
     "output_type": "stream",
     "text": [
      "Model saved on epoch:  10\n",
      "added to csv\n",
      "50/50 [==============================] - 1s 13ms/step\n",
      "Accuracy: 0.56125\n",
      "Confusion Matrix:\n",
      "[[231 149  20   0]\n",
      " [ 34 362   4   0]\n",
      " [ 44 267  89   0]\n",
      " [ 86  86  12 216]]\n",
      "Classification Report:\n",
      "              precision    recall  f1-score   support\n",
      "\n",
      "           0       0.58      0.58      0.58       400\n",
      "           1       0.42      0.91      0.57       400\n",
      "           2       0.71      0.22      0.34       400\n",
      "           3       1.00      0.54      0.70       400\n",
      "\n",
      "    accuracy                           0.56      1600\n",
      "   macro avg       0.68      0.56      0.55      1600\n",
      "weighted avg       0.68      0.56      0.55      1600\n",
      "\n",
      "\n",
      "Epoch:  11\n",
      "600/600 - 14s - loss: 0.1539 - acc: 0.9456 - val_loss: 0.8681 - val_acc: 0.7481 - 14s/epoch - 23ms/step\n"
     ]
    },
    {
     "name": "stderr",
     "output_type": "stream",
     "text": [
      "WARNING:absl:Found untraced functions such as _jit_compiled_convolution_op, _jit_compiled_convolution_op, _jit_compiled_convolution_op, _jit_compiled_convolution_op, _jit_compiled_convolution_op while saving (showing 5 of 17). These functions will not be directly callable after loading.\n"
     ]
    },
    {
     "name": "stdout",
     "output_type": "stream",
     "text": [
      "INFO:tensorflow:Assets written to: ./RNmodels/11RN__IC_01200_FilledArea_0.9_BandNo_60_ImageHeight_30_ImageWidth_30_FILTER_snv_FeatureExtraction_none/assets\n"
     ]
    },
    {
     "name": "stderr",
     "output_type": "stream",
     "text": [
      "INFO:tensorflow:Assets written to: ./RNmodels/11RN__IC_01200_FilledArea_0.9_BandNo_60_ImageHeight_30_ImageWidth_30_FILTER_snv_FeatureExtraction_none/assets\n"
     ]
    },
    {
     "name": "stdout",
     "output_type": "stream",
     "text": [
      "Model saved on epoch:  11\n",
      "added to csv\n",
      "50/50 [==============================] - 1s 12ms/step\n",
      "Accuracy: 0.74625\n",
      "Confusion Matrix:\n",
      "[[314  21  63   2]\n",
      " [ 97 243  59   1]\n",
      " [ 58  66 276   0]\n",
      " [ 25   5   9 361]]\n",
      "Classification Report:\n",
      "              precision    recall  f1-score   support\n",
      "\n",
      "           0       0.64      0.79      0.70       400\n",
      "           1       0.73      0.61      0.66       400\n",
      "           2       0.68      0.69      0.68       400\n",
      "           3       0.99      0.90      0.95       400\n",
      "\n",
      "    accuracy                           0.75      1600\n",
      "   macro avg       0.76      0.75      0.75      1600\n",
      "weighted avg       0.76      0.75      0.75      1600\n",
      "\n",
      "\n",
      "Epoch:  12\n",
      "600/600 - 14s - loss: 0.1320 - acc: 0.9527 - val_loss: 0.9031 - val_acc: 0.7500 - 14s/epoch - 23ms/step\n"
     ]
    },
    {
     "name": "stderr",
     "output_type": "stream",
     "text": [
      "WARNING:absl:Found untraced functions such as _jit_compiled_convolution_op, _jit_compiled_convolution_op, _jit_compiled_convolution_op, _jit_compiled_convolution_op, _jit_compiled_convolution_op while saving (showing 5 of 17). These functions will not be directly callable after loading.\n"
     ]
    },
    {
     "name": "stdout",
     "output_type": "stream",
     "text": [
      "INFO:tensorflow:Assets written to: ./RNmodels/12RN__IC_01200_FilledArea_0.9_BandNo_60_ImageHeight_30_ImageWidth_30_FILTER_snv_FeatureExtraction_none/assets\n"
     ]
    },
    {
     "name": "stderr",
     "output_type": "stream",
     "text": [
      "INFO:tensorflow:Assets written to: ./RNmodels/12RN__IC_01200_FilledArea_0.9_BandNo_60_ImageHeight_30_ImageWidth_30_FILTER_snv_FeatureExtraction_none/assets\n"
     ]
    },
    {
     "name": "stdout",
     "output_type": "stream",
     "text": [
      "Model saved on epoch:  12\n",
      "added to csv\n",
      "50/50 [==============================] - 1s 14ms/step\n",
      "Accuracy: 0.701875\n",
      "Confusion Matrix:\n",
      "[[209 151  32   8]\n",
      " [  7 385   8   0]\n",
      " [ 25 217 157   1]\n",
      " [ 10  16   2 372]]\n",
      "Classification Report:\n",
      "              precision    recall  f1-score   support\n",
      "\n",
      "           0       0.83      0.52      0.64       400\n",
      "           1       0.50      0.96      0.66       400\n",
      "           2       0.79      0.39      0.52       400\n",
      "           3       0.98      0.93      0.95       400\n",
      "\n",
      "    accuracy                           0.70      1600\n",
      "   macro avg       0.77      0.70      0.69      1600\n",
      "weighted avg       0.77      0.70      0.69      1600\n",
      "\n",
      "\n",
      "Epoch:  13\n",
      "600/600 - 14s - loss: 0.0938 - acc: 0.9667 - val_loss: 1.0903 - val_acc: 0.7031 - 14s/epoch - 23ms/step\n"
     ]
    },
    {
     "name": "stderr",
     "output_type": "stream",
     "text": [
      "WARNING:absl:Found untraced functions such as _jit_compiled_convolution_op, _jit_compiled_convolution_op, _jit_compiled_convolution_op, _jit_compiled_convolution_op, _jit_compiled_convolution_op while saving (showing 5 of 17). These functions will not be directly callable after loading.\n"
     ]
    },
    {
     "name": "stdout",
     "output_type": "stream",
     "text": [
      "INFO:tensorflow:Assets written to: ./RNmodels/13RN__IC_01200_FilledArea_0.9_BandNo_60_ImageHeight_30_ImageWidth_30_FILTER_snv_FeatureExtraction_none/assets\n"
     ]
    },
    {
     "name": "stderr",
     "output_type": "stream",
     "text": [
      "INFO:tensorflow:Assets written to: ./RNmodels/13RN__IC_01200_FilledArea_0.9_BandNo_60_ImageHeight_30_ImageWidth_30_FILTER_snv_FeatureExtraction_none/assets\n"
     ]
    },
    {
     "name": "stdout",
     "output_type": "stream",
     "text": [
      "Model saved on epoch:  13\n",
      "added to csv\n",
      "50/50 [==============================] - 1s 14ms/step\n",
      "Accuracy: 0.753125\n",
      "Confusion Matrix:\n",
      "[[336  29  14  21]\n",
      " [ 77 292  14  17]\n",
      " [109  77 177  37]\n",
      " [  0   0   0 400]]\n",
      "Classification Report:\n",
      "              precision    recall  f1-score   support\n",
      "\n",
      "           0       0.64      0.84      0.73       400\n",
      "           1       0.73      0.73      0.73       400\n",
      "           2       0.86      0.44      0.59       400\n",
      "           3       0.84      1.00      0.91       400\n",
      "\n",
      "    accuracy                           0.75      1600\n",
      "   macro avg       0.77      0.75      0.74      1600\n",
      "weighted avg       0.77      0.75      0.74      1600\n",
      "\n",
      "\n",
      "Epoch:  14\n",
      "600/600 - 13s - loss: 0.0987 - acc: 0.9650 - val_loss: 1.4545 - val_acc: 0.6350 - 13s/epoch - 22ms/step\n"
     ]
    },
    {
     "name": "stderr",
     "output_type": "stream",
     "text": [
      "WARNING:absl:Found untraced functions such as _jit_compiled_convolution_op, _jit_compiled_convolution_op, _jit_compiled_convolution_op, _jit_compiled_convolution_op, _jit_compiled_convolution_op while saving (showing 5 of 17). These functions will not be directly callable after loading.\n"
     ]
    },
    {
     "name": "stdout",
     "output_type": "stream",
     "text": [
      "INFO:tensorflow:Assets written to: ./RNmodels/14RN__IC_01200_FilledArea_0.9_BandNo_60_ImageHeight_30_ImageWidth_30_FILTER_snv_FeatureExtraction_none/assets\n"
     ]
    },
    {
     "name": "stderr",
     "output_type": "stream",
     "text": [
      "INFO:tensorflow:Assets written to: ./RNmodels/14RN__IC_01200_FilledArea_0.9_BandNo_60_ImageHeight_30_ImageWidth_30_FILTER_snv_FeatureExtraction_none/assets\n"
     ]
    },
    {
     "name": "stdout",
     "output_type": "stream",
     "text": [
      "Model saved on epoch:  14\n",
      "added to csv\n",
      "50/50 [==============================] - 1s 13ms/step\n",
      "Accuracy: 0.65\n",
      "Confusion Matrix:\n",
      "[[132  40  62 166]\n",
      " [ 15 277  25  83]\n",
      " [ 15  49 231 105]\n",
      " [  0   0   0 400]]\n",
      "Classification Report:\n",
      "              precision    recall  f1-score   support\n",
      "\n",
      "           0       0.81      0.33      0.47       400\n",
      "           1       0.76      0.69      0.72       400\n",
      "           2       0.73      0.58      0.64       400\n",
      "           3       0.53      1.00      0.69       400\n",
      "\n",
      "    accuracy                           0.65      1600\n",
      "   macro avg       0.71      0.65      0.63      1600\n",
      "weighted avg       0.71      0.65      0.63      1600\n",
      "\n",
      "\n",
      "Epoch:  15\n",
      "600/600 - 14s - loss: 0.0731 - acc: 0.9742 - val_loss: 0.9687 - val_acc: 0.7538 - 14s/epoch - 23ms/step\n"
     ]
    },
    {
     "name": "stderr",
     "output_type": "stream",
     "text": [
      "WARNING:absl:Found untraced functions such as _jit_compiled_convolution_op, _jit_compiled_convolution_op, _jit_compiled_convolution_op, _jit_compiled_convolution_op, _jit_compiled_convolution_op while saving (showing 5 of 17). These functions will not be directly callable after loading.\n"
     ]
    },
    {
     "name": "stdout",
     "output_type": "stream",
     "text": [
      "INFO:tensorflow:Assets written to: ./RNmodels/15RN__IC_01200_FilledArea_0.9_BandNo_60_ImageHeight_30_ImageWidth_30_FILTER_snv_FeatureExtraction_none/assets\n"
     ]
    },
    {
     "name": "stderr",
     "output_type": "stream",
     "text": [
      "INFO:tensorflow:Assets written to: ./RNmodels/15RN__IC_01200_FilledArea_0.9_BandNo_60_ImageHeight_30_ImageWidth_30_FILTER_snv_FeatureExtraction_none/assets\n"
     ]
    },
    {
     "name": "stdout",
     "output_type": "stream",
     "text": [
      "Model saved on epoch:  15\n",
      "added to csv\n",
      "50/50 [==============================] - 1s 13ms/step\n",
      "Accuracy: 0.76875\n",
      "Confusion Matrix:\n",
      "[[273  30  96   1]\n",
      " [ 59 272  69   0]\n",
      " [ 39  21 340   0]\n",
      " [ 41   1  13 345]]\n",
      "Classification Report:\n",
      "              precision    recall  f1-score   support\n",
      "\n",
      "           0       0.66      0.68      0.67       400\n",
      "           1       0.84      0.68      0.75       400\n",
      "           2       0.66      0.85      0.74       400\n",
      "           3       1.00      0.86      0.92       400\n",
      "\n",
      "    accuracy                           0.77      1600\n",
      "   macro avg       0.79      0.77      0.77      1600\n",
      "weighted avg       0.79      0.77      0.77      1600\n",
      "\n",
      "\n",
      "Epoch:  16\n",
      "600/600 - 14s - loss: 0.1045 - acc: 0.9638 - val_loss: 1.2397 - val_acc: 0.7050 - 14s/epoch - 23ms/step\n"
     ]
    },
    {
     "name": "stderr",
     "output_type": "stream",
     "text": [
      "WARNING:absl:Found untraced functions such as _jit_compiled_convolution_op, _jit_compiled_convolution_op, _jit_compiled_convolution_op, _jit_compiled_convolution_op, _jit_compiled_convolution_op while saving (showing 5 of 17). These functions will not be directly callable after loading.\n"
     ]
    },
    {
     "name": "stdout",
     "output_type": "stream",
     "text": [
      "INFO:tensorflow:Assets written to: ./RNmodels/16RN__IC_01200_FilledArea_0.9_BandNo_60_ImageHeight_30_ImageWidth_30_FILTER_snv_FeatureExtraction_none/assets\n"
     ]
    },
    {
     "name": "stderr",
     "output_type": "stream",
     "text": [
      "INFO:tensorflow:Assets written to: ./RNmodels/16RN__IC_01200_FilledArea_0.9_BandNo_60_ImageHeight_30_ImageWidth_30_FILTER_snv_FeatureExtraction_none/assets\n"
     ]
    },
    {
     "name": "stdout",
     "output_type": "stream",
     "text": [
      "Model saved on epoch:  16\n",
      "added to csv\n",
      "50/50 [==============================] - 1s 14ms/step\n",
      "Accuracy: 0.71625\n",
      "Confusion Matrix:\n",
      "[[317  18  64   1]\n",
      " [ 79 248  73   0]\n",
      " [ 61  26 313   0]\n",
      " [103   1  28 268]]\n",
      "Classification Report:\n",
      "              precision    recall  f1-score   support\n",
      "\n",
      "           0       0.57      0.79      0.66       400\n",
      "           1       0.85      0.62      0.72       400\n",
      "           2       0.65      0.78      0.71       400\n",
      "           3       1.00      0.67      0.80       400\n",
      "\n",
      "    accuracy                           0.72      1600\n",
      "   macro avg       0.77      0.72      0.72      1600\n",
      "weighted avg       0.77      0.72      0.72      1600\n",
      "\n",
      "\n",
      "Epoch:  17\n",
      "600/600 - 14s - loss: 0.0805 - acc: 0.9715 - val_loss: 0.7104 - val_acc: 0.8138 - 14s/epoch - 23ms/step\n"
     ]
    },
    {
     "name": "stderr",
     "output_type": "stream",
     "text": [
      "WARNING:absl:Found untraced functions such as _jit_compiled_convolution_op, _jit_compiled_convolution_op, _jit_compiled_convolution_op, _jit_compiled_convolution_op, _jit_compiled_convolution_op while saving (showing 5 of 17). These functions will not be directly callable after loading.\n"
     ]
    },
    {
     "name": "stdout",
     "output_type": "stream",
     "text": [
      "INFO:tensorflow:Assets written to: ./RNmodels/17RN__IC_01200_FilledArea_0.9_BandNo_60_ImageHeight_30_ImageWidth_30_FILTER_snv_FeatureExtraction_none/assets\n"
     ]
    },
    {
     "name": "stderr",
     "output_type": "stream",
     "text": [
      "INFO:tensorflow:Assets written to: ./RNmodels/17RN__IC_01200_FilledArea_0.9_BandNo_60_ImageHeight_30_ImageWidth_30_FILTER_snv_FeatureExtraction_none/assets\n"
     ]
    },
    {
     "name": "stdout",
     "output_type": "stream",
     "text": [
      "Model saved on epoch:  17\n",
      "added to csv\n",
      "50/50 [==============================] - 1s 13ms/step\n",
      "Accuracy: 0.743125\n",
      "Confusion Matrix:\n",
      "[[154  99 147   0]\n",
      " [ 12 366  22   0]\n",
      " [  1 107 292   0]\n",
      " [  5   5  13 377]]\n",
      "Classification Report:\n",
      "              precision    recall  f1-score   support\n",
      "\n",
      "           0       0.90      0.39      0.54       400\n",
      "           1       0.63      0.92      0.75       400\n",
      "           2       0.62      0.73      0.67       400\n",
      "           3       1.00      0.94      0.97       400\n",
      "\n",
      "    accuracy                           0.74      1600\n",
      "   macro avg       0.79      0.74      0.73      1600\n",
      "weighted avg       0.79      0.74      0.73      1600\n",
      "\n",
      "\n",
      "Epoch:  18\n",
      "600/600 - 14s - loss: 0.0779 - acc: 0.9762 - val_loss: 1.1521 - val_acc: 0.7494 - 14s/epoch - 23ms/step\n"
     ]
    },
    {
     "name": "stderr",
     "output_type": "stream",
     "text": [
      "WARNING:absl:Found untraced functions such as _jit_compiled_convolution_op, _jit_compiled_convolution_op, _jit_compiled_convolution_op, _jit_compiled_convolution_op, _jit_compiled_convolution_op while saving (showing 5 of 17). These functions will not be directly callable after loading.\n"
     ]
    },
    {
     "name": "stdout",
     "output_type": "stream",
     "text": [
      "INFO:tensorflow:Assets written to: ./RNmodels/18RN__IC_01200_FilledArea_0.9_BandNo_60_ImageHeight_30_ImageWidth_30_FILTER_snv_FeatureExtraction_none/assets\n"
     ]
    },
    {
     "name": "stderr",
     "output_type": "stream",
     "text": [
      "INFO:tensorflow:Assets written to: ./RNmodels/18RN__IC_01200_FilledArea_0.9_BandNo_60_ImageHeight_30_ImageWidth_30_FILTER_snv_FeatureExtraction_none/assets\n"
     ]
    },
    {
     "name": "stdout",
     "output_type": "stream",
     "text": [
      "Model saved on epoch:  18\n",
      "added to csv\n",
      "50/50 [==============================] - 1s 13ms/step\n",
      "Accuracy: 0.726875\n",
      "Confusion Matrix:\n",
      "[[200   4 196   0]\n",
      " [ 38 195 167   0]\n",
      " [ 10   8 382   0]\n",
      " [  5   0   9 386]]\n",
      "Classification Report:\n",
      "              precision    recall  f1-score   support\n",
      "\n",
      "           0       0.79      0.50      0.61       400\n",
      "           1       0.94      0.49      0.64       400\n",
      "           2       0.51      0.95      0.66       400\n",
      "           3       1.00      0.96      0.98       400\n",
      "\n",
      "    accuracy                           0.73      1600\n",
      "   macro avg       0.81      0.73      0.72      1600\n",
      "weighted avg       0.81      0.73      0.72      1600\n",
      "\n",
      "\n",
      "Epoch:  19\n",
      "600/600 - 14s - loss: 0.0652 - acc: 0.9769 - val_loss: 1.1714 - val_acc: 0.7044 - 14s/epoch - 23ms/step\n"
     ]
    },
    {
     "name": "stderr",
     "output_type": "stream",
     "text": [
      "WARNING:absl:Found untraced functions such as _jit_compiled_convolution_op, _jit_compiled_convolution_op, _jit_compiled_convolution_op, _jit_compiled_convolution_op, _jit_compiled_convolution_op while saving (showing 5 of 17). These functions will not be directly callable after loading.\n"
     ]
    },
    {
     "name": "stdout",
     "output_type": "stream",
     "text": [
      "INFO:tensorflow:Assets written to: ./RNmodels/19RN__IC_01200_FilledArea_0.9_BandNo_60_ImageHeight_30_ImageWidth_30_FILTER_snv_FeatureExtraction_none/assets\n"
     ]
    },
    {
     "name": "stderr",
     "output_type": "stream",
     "text": [
      "INFO:tensorflow:Assets written to: ./RNmodels/19RN__IC_01200_FilledArea_0.9_BandNo_60_ImageHeight_30_ImageWidth_30_FILTER_snv_FeatureExtraction_none/assets\n"
     ]
    },
    {
     "name": "stdout",
     "output_type": "stream",
     "text": [
      "Model saved on epoch:  19\n",
      "added to csv\n",
      "50/50 [==============================] - 1s 13ms/step\n",
      "Accuracy: 0.701875\n",
      "Confusion Matrix:\n",
      "[[ 85  44 108 163]\n",
      " [ 11 325  40  24]\n",
      " [  5  40 313  42]\n",
      " [  0   0   0 400]]\n",
      "Classification Report:\n",
      "              precision    recall  f1-score   support\n",
      "\n",
      "           0       0.84      0.21      0.34       400\n",
      "           1       0.79      0.81      0.80       400\n",
      "           2       0.68      0.78      0.73       400\n",
      "           3       0.64      1.00      0.78       400\n",
      "\n",
      "    accuracy                           0.70      1600\n",
      "   macro avg       0.74      0.70      0.66      1600\n",
      "weighted avg       0.74      0.70      0.66      1600\n",
      "\n",
      "\n",
      "Epoch:  20\n",
      "600/600 - 14s - loss: 0.0695 - acc: 0.9790 - val_loss: 1.5199 - val_acc: 0.6019 - 14s/epoch - 23ms/step\n"
     ]
    },
    {
     "name": "stderr",
     "output_type": "stream",
     "text": [
      "WARNING:absl:Found untraced functions such as _jit_compiled_convolution_op, _jit_compiled_convolution_op, _jit_compiled_convolution_op, _jit_compiled_convolution_op, _jit_compiled_convolution_op while saving (showing 5 of 17). These functions will not be directly callable after loading.\n"
     ]
    },
    {
     "name": "stdout",
     "output_type": "stream",
     "text": [
      "INFO:tensorflow:Assets written to: ./RNmodels/20RN__IC_01200_FilledArea_0.9_BandNo_60_ImageHeight_30_ImageWidth_30_FILTER_snv_FeatureExtraction_none/assets\n"
     ]
    },
    {
     "name": "stderr",
     "output_type": "stream",
     "text": [
      "INFO:tensorflow:Assets written to: ./RNmodels/20RN__IC_01200_FilledArea_0.9_BandNo_60_ImageHeight_30_ImageWidth_30_FILTER_snv_FeatureExtraction_none/assets\n"
     ]
    },
    {
     "name": "stdout",
     "output_type": "stream",
     "text": [
      "Model saved on epoch:  20\n",
      "added to csv\n",
      "50/50 [==============================] - 1s 14ms/step\n",
      "Accuracy: 0.6225\n",
      "Confusion Matrix:\n",
      "[[119  17  55 209]\n",
      " [ 24 240  80  56]\n",
      " [ 14  19 237 130]\n",
      " [  0   0   0 400]]\n",
      "Classification Report:\n",
      "              precision    recall  f1-score   support\n",
      "\n",
      "           0       0.76      0.30      0.43       400\n",
      "           1       0.87      0.60      0.71       400\n",
      "           2       0.64      0.59      0.61       400\n",
      "           3       0.50      1.00      0.67       400\n",
      "\n",
      "    accuracy                           0.62      1600\n",
      "   macro avg       0.69      0.62      0.61      1600\n",
      "weighted avg       0.69      0.62      0.61      1600\n",
      "\n",
      "\n",
      "Epoch:  21\n",
      "600/600 - 14s - loss: 0.0486 - acc: 0.9852 - val_loss: 0.6433 - val_acc: 0.8294 - 14s/epoch - 23ms/step\n"
     ]
    },
    {
     "name": "stderr",
     "output_type": "stream",
     "text": [
      "WARNING:absl:Found untraced functions such as _jit_compiled_convolution_op, _jit_compiled_convolution_op, _jit_compiled_convolution_op, _jit_compiled_convolution_op, _jit_compiled_convolution_op while saving (showing 5 of 17). These functions will not be directly callable after loading.\n"
     ]
    },
    {
     "name": "stdout",
     "output_type": "stream",
     "text": [
      "INFO:tensorflow:Assets written to: ./RNmodels/21RN__IC_01200_FilledArea_0.9_BandNo_60_ImageHeight_30_ImageWidth_30_FILTER_snv_FeatureExtraction_none/assets\n"
     ]
    },
    {
     "name": "stderr",
     "output_type": "stream",
     "text": [
      "INFO:tensorflow:Assets written to: ./RNmodels/21RN__IC_01200_FilledArea_0.9_BandNo_60_ImageHeight_30_ImageWidth_30_FILTER_snv_FeatureExtraction_none/assets\n"
     ]
    },
    {
     "name": "stdout",
     "output_type": "stream",
     "text": [
      "Model saved on epoch:  21\n",
      "added to csv\n",
      "50/50 [==============================] - 1s 13ms/step\n",
      "Accuracy: 0.795\n",
      "Confusion Matrix:\n",
      "[[250  90  60   0]\n",
      " [ 16 376   8   0]\n",
      " [ 20 119 261   0]\n",
      " [  4   9   2 385]]\n",
      "Classification Report:\n",
      "              precision    recall  f1-score   support\n",
      "\n",
      "           0       0.86      0.62      0.72       400\n",
      "           1       0.63      0.94      0.76       400\n",
      "           2       0.79      0.65      0.71       400\n",
      "           3       1.00      0.96      0.98       400\n",
      "\n",
      "    accuracy                           0.80      1600\n",
      "   macro avg       0.82      0.79      0.79      1600\n",
      "weighted avg       0.82      0.80      0.79      1600\n",
      "\n",
      "\n",
      "Epoch:  22\n",
      "600/600 - 14s - loss: 0.1108 - acc: 0.9654 - val_loss: 0.6827 - val_acc: 0.8075 - 14s/epoch - 23ms/step\n"
     ]
    },
    {
     "name": "stderr",
     "output_type": "stream",
     "text": [
      "WARNING:absl:Found untraced functions such as _jit_compiled_convolution_op, _jit_compiled_convolution_op, _jit_compiled_convolution_op, _jit_compiled_convolution_op, _jit_compiled_convolution_op while saving (showing 5 of 17). These functions will not be directly callable after loading.\n"
     ]
    },
    {
     "name": "stdout",
     "output_type": "stream",
     "text": [
      "INFO:tensorflow:Assets written to: ./RNmodels/22RN__IC_01200_FilledArea_0.9_BandNo_60_ImageHeight_30_ImageWidth_30_FILTER_snv_FeatureExtraction_none/assets\n"
     ]
    },
    {
     "name": "stderr",
     "output_type": "stream",
     "text": [
      "INFO:tensorflow:Assets written to: ./RNmodels/22RN__IC_01200_FilledArea_0.9_BandNo_60_ImageHeight_30_ImageWidth_30_FILTER_snv_FeatureExtraction_none/assets\n"
     ]
    },
    {
     "name": "stdout",
     "output_type": "stream",
     "text": [
      "Model saved on epoch:  22\n",
      "added to csv\n",
      "50/50 [==============================] - 1s 13ms/step\n",
      "Accuracy: 0.791875\n",
      "Confusion Matrix:\n",
      "[[199  47 111  43]\n",
      " [ 14 337  37  12]\n",
      " [ 12  34 331  23]\n",
      " [  0   0   0 400]]\n",
      "Classification Report:\n",
      "              precision    recall  f1-score   support\n",
      "\n",
      "           0       0.88      0.50      0.64       400\n",
      "           1       0.81      0.84      0.82       400\n",
      "           2       0.69      0.83      0.75       400\n",
      "           3       0.84      1.00      0.91       400\n",
      "\n",
      "    accuracy                           0.79      1600\n",
      "   macro avg       0.80      0.79      0.78      1600\n",
      "weighted avg       0.80      0.79      0.78      1600\n",
      "\n",
      "\n",
      "Epoch:  23\n",
      "600/600 - 14s - loss: 0.0333 - acc: 0.9912 - val_loss: 5.6442 - val_acc: 0.3269 - 14s/epoch - 23ms/step\n"
     ]
    },
    {
     "name": "stderr",
     "output_type": "stream",
     "text": [
      "WARNING:absl:Found untraced functions such as _jit_compiled_convolution_op, _jit_compiled_convolution_op, _jit_compiled_convolution_op, _jit_compiled_convolution_op, _jit_compiled_convolution_op while saving (showing 5 of 17). These functions will not be directly callable after loading.\n"
     ]
    },
    {
     "name": "stdout",
     "output_type": "stream",
     "text": [
      "INFO:tensorflow:Assets written to: ./RNmodels/23RN__IC_01200_FilledArea_0.9_BandNo_60_ImageHeight_30_ImageWidth_30_FILTER_snv_FeatureExtraction_none/assets\n"
     ]
    },
    {
     "name": "stderr",
     "output_type": "stream",
     "text": [
      "INFO:tensorflow:Assets written to: ./RNmodels/23RN__IC_01200_FilledArea_0.9_BandNo_60_ImageHeight_30_ImageWidth_30_FILTER_snv_FeatureExtraction_none/assets\n"
     ]
    },
    {
     "name": "stdout",
     "output_type": "stream",
     "text": [
      "Model saved on epoch:  23\n",
      "added to csv\n",
      "50/50 [==============================] - 1s 13ms/step\n",
      "Accuracy: 0.315625\n",
      "Confusion Matrix:\n",
      "[[ 13   0   2 385]\n",
      " [  3  59   0 338]\n",
      " [  0   1  33 366]\n",
      " [  0   0   0 400]]\n",
      "Classification Report:\n",
      "              precision    recall  f1-score   support\n",
      "\n",
      "           0       0.81      0.03      0.06       400\n",
      "           1       0.98      0.15      0.26       400\n",
      "           2       0.94      0.08      0.15       400\n",
      "           3       0.27      1.00      0.42       400\n",
      "\n",
      "    accuracy                           0.32      1600\n",
      "   macro avg       0.75      0.32      0.22      1600\n",
      "weighted avg       0.75      0.32      0.22      1600\n",
      "\n",
      "\n",
      "Epoch:  24\n",
      "600/600 - 14s - loss: 0.0255 - acc: 0.9921 - val_loss: 1.4559 - val_acc: 0.7281 - 14s/epoch - 23ms/step\n"
     ]
    },
    {
     "name": "stderr",
     "output_type": "stream",
     "text": [
      "WARNING:absl:Found untraced functions such as _jit_compiled_convolution_op, _jit_compiled_convolution_op, _jit_compiled_convolution_op, _jit_compiled_convolution_op, _jit_compiled_convolution_op while saving (showing 5 of 17). These functions will not be directly callable after loading.\n"
     ]
    },
    {
     "name": "stdout",
     "output_type": "stream",
     "text": [
      "INFO:tensorflow:Assets written to: ./RNmodels/24RN__IC_01200_FilledArea_0.9_BandNo_60_ImageHeight_30_ImageWidth_30_FILTER_snv_FeatureExtraction_none/assets\n"
     ]
    },
    {
     "name": "stderr",
     "output_type": "stream",
     "text": [
      "INFO:tensorflow:Assets written to: ./RNmodels/24RN__IC_01200_FilledArea_0.9_BandNo_60_ImageHeight_30_ImageWidth_30_FILTER_snv_FeatureExtraction_none/assets\n"
     ]
    },
    {
     "name": "stdout",
     "output_type": "stream",
     "text": [
      "Model saved on epoch:  24\n",
      "added to csv\n",
      "50/50 [==============================] - 1s 13ms/step\n",
      "Accuracy: 0.68875\n",
      "Confusion Matrix:\n",
      "[[201 193   6   0]\n",
      " [  5 395   0   0]\n",
      " [ 32 246 122   0]\n",
      " [  8   7   1 384]]\n",
      "Classification Report:\n",
      "              precision    recall  f1-score   support\n",
      "\n",
      "           0       0.82      0.50      0.62       400\n",
      "           1       0.47      0.99      0.64       400\n",
      "           2       0.95      0.30      0.46       400\n",
      "           3       1.00      0.96      0.98       400\n",
      "\n",
      "    accuracy                           0.69      1600\n",
      "   macro avg       0.81      0.69      0.67      1600\n",
      "weighted avg       0.81      0.69      0.67      1600\n",
      "\n",
      "\n",
      "Epoch:  25\n",
      "600/600 - 14s - loss: 0.0888 - acc: 0.9688 - val_loss: 2.2250 - val_acc: 0.5587 - 14s/epoch - 23ms/step\n"
     ]
    },
    {
     "name": "stderr",
     "output_type": "stream",
     "text": [
      "WARNING:absl:Found untraced functions such as _jit_compiled_convolution_op, _jit_compiled_convolution_op, _jit_compiled_convolution_op, _jit_compiled_convolution_op, _jit_compiled_convolution_op while saving (showing 5 of 17). These functions will not be directly callable after loading.\n"
     ]
    },
    {
     "name": "stdout",
     "output_type": "stream",
     "text": [
      "INFO:tensorflow:Assets written to: ./RNmodels/25RN__IC_01200_FilledArea_0.9_BandNo_60_ImageHeight_30_ImageWidth_30_FILTER_snv_FeatureExtraction_none/assets\n"
     ]
    },
    {
     "name": "stderr",
     "output_type": "stream",
     "text": [
      "INFO:tensorflow:Assets written to: ./RNmodels/25RN__IC_01200_FilledArea_0.9_BandNo_60_ImageHeight_30_ImageWidth_30_FILTER_snv_FeatureExtraction_none/assets\n"
     ]
    },
    {
     "name": "stdout",
     "output_type": "stream",
     "text": [
      "Model saved on epoch:  25\n",
      "added to csv\n",
      "50/50 [==============================] - 1s 14ms/step\n",
      "Accuracy: 0.523125\n",
      "Confusion Matrix:\n",
      "[[ 69  35  24 272]\n",
      " [  4 140  11 245]\n",
      " [  9  38 228 125]\n",
      " [  0   0   0 400]]\n",
      "Classification Report:\n",
      "              precision    recall  f1-score   support\n",
      "\n",
      "           0       0.84      0.17      0.29       400\n",
      "           1       0.66      0.35      0.46       400\n",
      "           2       0.87      0.57      0.69       400\n",
      "           3       0.38      1.00      0.55       400\n",
      "\n",
      "    accuracy                           0.52      1600\n",
      "   macro avg       0.69      0.52      0.50      1600\n",
      "weighted avg       0.69      0.52      0.50      1600\n",
      "\n",
      "\n",
      "Epoch:  26\n",
      "600/600 - 14s - loss: 0.0571 - acc: 0.9815 - val_loss: 0.7845 - val_acc: 0.8144 - 14s/epoch - 23ms/step\n"
     ]
    },
    {
     "name": "stderr",
     "output_type": "stream",
     "text": [
      "WARNING:absl:Found untraced functions such as _jit_compiled_convolution_op, _jit_compiled_convolution_op, _jit_compiled_convolution_op, _jit_compiled_convolution_op, _jit_compiled_convolution_op while saving (showing 5 of 17). These functions will not be directly callable after loading.\n"
     ]
    },
    {
     "name": "stdout",
     "output_type": "stream",
     "text": [
      "INFO:tensorflow:Assets written to: ./RNmodels/26RN__IC_01200_FilledArea_0.9_BandNo_60_ImageHeight_30_ImageWidth_30_FILTER_snv_FeatureExtraction_none/assets\n"
     ]
    },
    {
     "name": "stderr",
     "output_type": "stream",
     "text": [
      "INFO:tensorflow:Assets written to: ./RNmodels/26RN__IC_01200_FilledArea_0.9_BandNo_60_ImageHeight_30_ImageWidth_30_FILTER_snv_FeatureExtraction_none/assets\n"
     ]
    },
    {
     "name": "stdout",
     "output_type": "stream",
     "text": [
      "Model saved on epoch:  26\n",
      "added to csv\n",
      "50/50 [==============================] - 1s 14ms/step\n",
      "Accuracy: 0.7675\n",
      "Confusion Matrix:\n",
      "[[187 153  60   0]\n",
      " [  3 394   3   0]\n",
      " [ 11 135 254   0]\n",
      " [  0   4   3 393]]\n",
      "Classification Report:\n",
      "              precision    recall  f1-score   support\n",
      "\n",
      "           0       0.93      0.47      0.62       400\n",
      "           1       0.57      0.98      0.73       400\n",
      "           2       0.79      0.64      0.71       400\n",
      "           3       1.00      0.98      0.99       400\n",
      "\n",
      "    accuracy                           0.77      1600\n",
      "   macro avg       0.82      0.77      0.76      1600\n",
      "weighted avg       0.82      0.77      0.76      1600\n",
      "\n",
      "\n",
      "Epoch:  27\n",
      "600/600 - 14s - loss: 0.0316 - acc: 0.9881 - val_loss: 1.2140 - val_acc: 0.7362 - 14s/epoch - 23ms/step\n"
     ]
    },
    {
     "name": "stderr",
     "output_type": "stream",
     "text": [
      "WARNING:absl:Found untraced functions such as _jit_compiled_convolution_op, _jit_compiled_convolution_op, _jit_compiled_convolution_op, _jit_compiled_convolution_op, _jit_compiled_convolution_op while saving (showing 5 of 17). These functions will not be directly callable after loading.\n"
     ]
    },
    {
     "name": "stdout",
     "output_type": "stream",
     "text": [
      "INFO:tensorflow:Assets written to: ./RNmodels/27RN__IC_01200_FilledArea_0.9_BandNo_60_ImageHeight_30_ImageWidth_30_FILTER_snv_FeatureExtraction_none/assets\n"
     ]
    },
    {
     "name": "stderr",
     "output_type": "stream",
     "text": [
      "INFO:tensorflow:Assets written to: ./RNmodels/27RN__IC_01200_FilledArea_0.9_BandNo_60_ImageHeight_30_ImageWidth_30_FILTER_snv_FeatureExtraction_none/assets\n"
     ]
    },
    {
     "name": "stdout",
     "output_type": "stream",
     "text": [
      "Model saved on epoch:  27\n",
      "added to csv\n",
      "50/50 [==============================] - 1s 13ms/step\n",
      "Accuracy: 0.694375\n",
      "Confusion Matrix:\n",
      "[[152 226  17   5]\n",
      " [  3 396   0   1]\n",
      " [ 26 200 164  10]\n",
      " [  0   1   0 399]]\n",
      "Classification Report:\n",
      "              precision    recall  f1-score   support\n",
      "\n",
      "           0       0.84      0.38      0.52       400\n",
      "           1       0.48      0.99      0.65       400\n",
      "           2       0.91      0.41      0.56       400\n",
      "           3       0.96      1.00      0.98       400\n",
      "\n",
      "    accuracy                           0.69      1600\n",
      "   macro avg       0.80      0.69      0.68      1600\n",
      "weighted avg       0.80      0.69      0.68      1600\n",
      "\n",
      "\n",
      "Epoch:  28\n",
      "600/600 - 14s - loss: 0.0307 - acc: 0.9906 - val_loss: 0.9253 - val_acc: 0.7862 - 14s/epoch - 23ms/step\n"
     ]
    },
    {
     "name": "stderr",
     "output_type": "stream",
     "text": [
      "WARNING:absl:Found untraced functions such as _jit_compiled_convolution_op, _jit_compiled_convolution_op, _jit_compiled_convolution_op, _jit_compiled_convolution_op, _jit_compiled_convolution_op while saving (showing 5 of 17). These functions will not be directly callable after loading.\n"
     ]
    },
    {
     "name": "stdout",
     "output_type": "stream",
     "text": [
      "INFO:tensorflow:Assets written to: ./RNmodels/28RN__IC_01200_FilledArea_0.9_BandNo_60_ImageHeight_30_ImageWidth_30_FILTER_snv_FeatureExtraction_none/assets\n"
     ]
    },
    {
     "name": "stderr",
     "output_type": "stream",
     "text": [
      "INFO:tensorflow:Assets written to: ./RNmodels/28RN__IC_01200_FilledArea_0.9_BandNo_60_ImageHeight_30_ImageWidth_30_FILTER_snv_FeatureExtraction_none/assets\n"
     ]
    },
    {
     "name": "stdout",
     "output_type": "stream",
     "text": [
      "Model saved on epoch:  28\n",
      "added to csv\n",
      "50/50 [==============================] - 1s 13ms/step\n",
      "Accuracy: 0.81875\n",
      "Confusion Matrix:\n",
      "[[341  12  42   5]\n",
      " [ 94 256  37  13]\n",
      " [ 51  13 316  20]\n",
      " [  3   0   0 397]]\n",
      "Classification Report:\n",
      "              precision    recall  f1-score   support\n",
      "\n",
      "           0       0.70      0.85      0.77       400\n",
      "           1       0.91      0.64      0.75       400\n",
      "           2       0.80      0.79      0.79       400\n",
      "           3       0.91      0.99      0.95       400\n",
      "\n",
      "    accuracy                           0.82      1600\n",
      "   macro avg       0.83      0.82      0.82      1600\n",
      "weighted avg       0.83      0.82      0.82      1600\n",
      "\n",
      "\n",
      "Epoch:  29\n",
      "600/600 - 14s - loss: 0.0507 - acc: 0.9842 - val_loss: 1.1394 - val_acc: 0.7625 - 14s/epoch - 23ms/step\n"
     ]
    },
    {
     "name": "stderr",
     "output_type": "stream",
     "text": [
      "WARNING:absl:Found untraced functions such as _jit_compiled_convolution_op, _jit_compiled_convolution_op, _jit_compiled_convolution_op, _jit_compiled_convolution_op, _jit_compiled_convolution_op while saving (showing 5 of 17). These functions will not be directly callable after loading.\n"
     ]
    },
    {
     "name": "stdout",
     "output_type": "stream",
     "text": [
      "INFO:tensorflow:Assets written to: ./RNmodels/29RN__IC_01200_FilledArea_0.9_BandNo_60_ImageHeight_30_ImageWidth_30_FILTER_snv_FeatureExtraction_none/assets\n"
     ]
    },
    {
     "name": "stderr",
     "output_type": "stream",
     "text": [
      "INFO:tensorflow:Assets written to: ./RNmodels/29RN__IC_01200_FilledArea_0.9_BandNo_60_ImageHeight_30_ImageWidth_30_FILTER_snv_FeatureExtraction_none/assets\n"
     ]
    },
    {
     "name": "stdout",
     "output_type": "stream",
     "text": [
      "Model saved on epoch:  29\n",
      "added to csv\n",
      "50/50 [==============================] - 1s 13ms/step\n",
      "Accuracy: 0.73125\n",
      "Confusion Matrix:\n",
      "[[239  12 149   0]\n",
      " [ 40 281  79   0]\n",
      " [  4  16 380   0]\n",
      " [ 32   0  98 270]]\n",
      "Classification Report:\n",
      "              precision    recall  f1-score   support\n",
      "\n",
      "           0       0.76      0.60      0.67       400\n",
      "           1       0.91      0.70      0.79       400\n",
      "           2       0.54      0.95      0.69       400\n",
      "           3       1.00      0.68      0.81       400\n",
      "\n",
      "    accuracy                           0.73      1600\n",
      "   macro avg       0.80      0.73      0.74      1600\n",
      "weighted avg       0.80      0.73      0.74      1600\n",
      "\n",
      "\n",
      "Epoch:  30\n",
      "600/600 - 14s - loss: 0.0773 - acc: 0.9769 - val_loss: 0.6010 - val_acc: 0.8438 - 14s/epoch - 23ms/step\n"
     ]
    },
    {
     "name": "stderr",
     "output_type": "stream",
     "text": [
      "WARNING:absl:Found untraced functions such as _jit_compiled_convolution_op, _jit_compiled_convolution_op, _jit_compiled_convolution_op, _jit_compiled_convolution_op, _jit_compiled_convolution_op while saving (showing 5 of 17). These functions will not be directly callable after loading.\n"
     ]
    },
    {
     "name": "stdout",
     "output_type": "stream",
     "text": [
      "INFO:tensorflow:Assets written to: ./RNmodels/30RN__IC_01200_FilledArea_0.9_BandNo_60_ImageHeight_30_ImageWidth_30_FILTER_snv_FeatureExtraction_none/assets\n"
     ]
    },
    {
     "name": "stderr",
     "output_type": "stream",
     "text": [
      "INFO:tensorflow:Assets written to: ./RNmodels/30RN__IC_01200_FilledArea_0.9_BandNo_60_ImageHeight_30_ImageWidth_30_FILTER_snv_FeatureExtraction_none/assets\n"
     ]
    },
    {
     "name": "stdout",
     "output_type": "stream",
     "text": [
      "Model saved on epoch:  30\n",
      "added to csv\n",
      "50/50 [==============================] - 1s 13ms/step\n",
      "Accuracy: 0.845\n",
      "Confusion Matrix:\n",
      "[[325  44  31   0]\n",
      " [ 41 352   7   0]\n",
      " [ 46  79 275   0]\n",
      " [  0   0   0 400]]\n",
      "Classification Report:\n",
      "              precision    recall  f1-score   support\n",
      "\n",
      "           0       0.79      0.81      0.80       400\n",
      "           1       0.74      0.88      0.80       400\n",
      "           2       0.88      0.69      0.77       400\n",
      "           3       1.00      1.00      1.00       400\n",
      "\n",
      "    accuracy                           0.84      1600\n",
      "   macro avg       0.85      0.84      0.84      1600\n",
      "weighted avg       0.85      0.84      0.84      1600\n",
      "\n",
      "\n",
      "Epoch:  31\n",
      "600/600 - 14s - loss: 0.0170 - acc: 0.9956 - val_loss: 1.6464 - val_acc: 0.6169 - 14s/epoch - 23ms/step\n"
     ]
    },
    {
     "name": "stderr",
     "output_type": "stream",
     "text": [
      "WARNING:absl:Found untraced functions such as _jit_compiled_convolution_op, _jit_compiled_convolution_op, _jit_compiled_convolution_op, _jit_compiled_convolution_op, _jit_compiled_convolution_op while saving (showing 5 of 17). These functions will not be directly callable after loading.\n"
     ]
    },
    {
     "name": "stdout",
     "output_type": "stream",
     "text": [
      "INFO:tensorflow:Assets written to: ./RNmodels/31RN__IC_01200_FilledArea_0.9_BandNo_60_ImageHeight_30_ImageWidth_30_FILTER_snv_FeatureExtraction_none/assets\n"
     ]
    },
    {
     "name": "stderr",
     "output_type": "stream",
     "text": [
      "INFO:tensorflow:Assets written to: ./RNmodels/31RN__IC_01200_FilledArea_0.9_BandNo_60_ImageHeight_30_ImageWidth_30_FILTER_snv_FeatureExtraction_none/assets\n"
     ]
    },
    {
     "name": "stdout",
     "output_type": "stream",
     "text": [
      "Model saved on epoch:  31\n",
      "added to csv\n",
      "50/50 [==============================] - 1s 12ms/step\n",
      "Accuracy: 0.594375\n",
      "Confusion Matrix:\n",
      "[[ 73  39  42 246]\n",
      " [  5 242  35 118]\n",
      " [  3   4 236 157]\n",
      " [  0   0   0 400]]\n",
      "Classification Report:\n",
      "              precision    recall  f1-score   support\n",
      "\n",
      "           0       0.90      0.18      0.30       400\n",
      "           1       0.85      0.60      0.71       400\n",
      "           2       0.75      0.59      0.66       400\n",
      "           3       0.43      1.00      0.61       400\n",
      "\n",
      "    accuracy                           0.59      1600\n",
      "   macro avg       0.73      0.59      0.57      1600\n",
      "weighted avg       0.73      0.59      0.57      1600\n",
      "\n",
      "\n",
      "Epoch:  32\n",
      "600/600 - 14s - loss: 0.0441 - acc: 0.9850 - val_loss: 0.8269 - val_acc: 0.7912 - 14s/epoch - 23ms/step\n"
     ]
    },
    {
     "name": "stderr",
     "output_type": "stream",
     "text": [
      "WARNING:absl:Found untraced functions such as _jit_compiled_convolution_op, _jit_compiled_convolution_op, _jit_compiled_convolution_op, _jit_compiled_convolution_op, _jit_compiled_convolution_op while saving (showing 5 of 17). These functions will not be directly callable after loading.\n"
     ]
    },
    {
     "name": "stdout",
     "output_type": "stream",
     "text": [
      "INFO:tensorflow:Assets written to: ./RNmodels/32RN__IC_01200_FilledArea_0.9_BandNo_60_ImageHeight_30_ImageWidth_30_FILTER_snv_FeatureExtraction_none/assets\n"
     ]
    },
    {
     "name": "stderr",
     "output_type": "stream",
     "text": [
      "INFO:tensorflow:Assets written to: ./RNmodels/32RN__IC_01200_FilledArea_0.9_BandNo_60_ImageHeight_30_ImageWidth_30_FILTER_snv_FeatureExtraction_none/assets\n"
     ]
    },
    {
     "name": "stdout",
     "output_type": "stream",
     "text": [
      "Model saved on epoch:  32\n",
      "added to csv\n",
      "50/50 [==============================] - 1s 12ms/step\n",
      "Accuracy: 0.770625\n",
      "Confusion Matrix:\n",
      "[[251  60  43  46]\n",
      " [ 32 323  25  20]\n",
      " [ 25  63 261  51]\n",
      " [  2   0   0 398]]\n",
      "Classification Report:\n",
      "              precision    recall  f1-score   support\n",
      "\n",
      "           0       0.81      0.63      0.71       400\n",
      "           1       0.72      0.81      0.76       400\n",
      "           2       0.79      0.65      0.72       400\n",
      "           3       0.77      0.99      0.87       400\n",
      "\n",
      "    accuracy                           0.77      1600\n",
      "   macro avg       0.78      0.77      0.76      1600\n",
      "weighted avg       0.78      0.77      0.76      1600\n",
      "\n",
      "\n",
      "Epoch:  33\n",
      "600/600 - 14s - loss: 0.0331 - acc: 0.9877 - val_loss: 0.7554 - val_acc: 0.8269 - 14s/epoch - 23ms/step\n"
     ]
    },
    {
     "name": "stderr",
     "output_type": "stream",
     "text": [
      "WARNING:absl:Found untraced functions such as _jit_compiled_convolution_op, _jit_compiled_convolution_op, _jit_compiled_convolution_op, _jit_compiled_convolution_op, _jit_compiled_convolution_op while saving (showing 5 of 17). These functions will not be directly callable after loading.\n"
     ]
    },
    {
     "name": "stdout",
     "output_type": "stream",
     "text": [
      "INFO:tensorflow:Assets written to: ./RNmodels/33RN__IC_01200_FilledArea_0.9_BandNo_60_ImageHeight_30_ImageWidth_30_FILTER_snv_FeatureExtraction_none/assets\n"
     ]
    },
    {
     "name": "stderr",
     "output_type": "stream",
     "text": [
      "INFO:tensorflow:Assets written to: ./RNmodels/33RN__IC_01200_FilledArea_0.9_BandNo_60_ImageHeight_30_ImageWidth_30_FILTER_snv_FeatureExtraction_none/assets\n"
     ]
    },
    {
     "name": "stdout",
     "output_type": "stream",
     "text": [
      "Model saved on epoch:  33\n",
      "added to csv\n",
      "50/50 [==============================] - 1s 12ms/step\n",
      "Accuracy: 0.789375\n",
      "Confusion Matrix:\n",
      "[[260 121  18   1]\n",
      " [ 11 385   3   1]\n",
      " [ 45 130 220   5]\n",
      " [  2   0   0 398]]\n",
      "Classification Report:\n",
      "              precision    recall  f1-score   support\n",
      "\n",
      "           0       0.82      0.65      0.72       400\n",
      "           1       0.61      0.96      0.74       400\n",
      "           2       0.91      0.55      0.69       400\n",
      "           3       0.98      0.99      0.99       400\n",
      "\n",
      "    accuracy                           0.79      1600\n",
      "   macro avg       0.83      0.79      0.79      1600\n",
      "weighted avg       0.83      0.79      0.79      1600\n",
      "\n",
      "\n",
      "Epoch:  34\n",
      "600/600 - 14s - loss: 0.0279 - acc: 0.9896 - val_loss: 2.1881 - val_acc: 0.6244 - 14s/epoch - 23ms/step\n"
     ]
    },
    {
     "name": "stderr",
     "output_type": "stream",
     "text": [
      "WARNING:absl:Found untraced functions such as _jit_compiled_convolution_op, _jit_compiled_convolution_op, _jit_compiled_convolution_op, _jit_compiled_convolution_op, _jit_compiled_convolution_op while saving (showing 5 of 17). These functions will not be directly callable after loading.\n"
     ]
    },
    {
     "name": "stdout",
     "output_type": "stream",
     "text": [
      "INFO:tensorflow:Assets written to: ./RNmodels/34RN__IC_01200_FilledArea_0.9_BandNo_60_ImageHeight_30_ImageWidth_30_FILTER_snv_FeatureExtraction_none/assets\n"
     ]
    },
    {
     "name": "stderr",
     "output_type": "stream",
     "text": [
      "INFO:tensorflow:Assets written to: ./RNmodels/34RN__IC_01200_FilledArea_0.9_BandNo_60_ImageHeight_30_ImageWidth_30_FILTER_snv_FeatureExtraction_none/assets\n"
     ]
    },
    {
     "name": "stdout",
     "output_type": "stream",
     "text": [
      "Model saved on epoch:  34\n",
      "added to csv\n",
      "50/50 [==============================] - 1s 12ms/step\n",
      "Accuracy: 0.651875\n",
      "Confusion Matrix:\n",
      "[[357  18  25   0]\n",
      " [127 263  10   0]\n",
      " [ 80  69 251   0]\n",
      " [199   1  28 172]]\n",
      "Classification Report:\n",
      "              precision    recall  f1-score   support\n",
      "\n",
      "           0       0.47      0.89      0.61       400\n",
      "           1       0.75      0.66      0.70       400\n",
      "           2       0.80      0.63      0.70       400\n",
      "           3       1.00      0.43      0.60       400\n",
      "\n",
      "    accuracy                           0.65      1600\n",
      "   macro avg       0.75      0.65      0.65      1600\n",
      "weighted avg       0.75      0.65      0.65      1600\n",
      "\n",
      "\n",
      "Epoch:  35\n",
      "600/600 - 14s - loss: 0.0468 - acc: 0.9837 - val_loss: 0.5582 - val_acc: 0.8700 - 14s/epoch - 23ms/step\n"
     ]
    },
    {
     "name": "stderr",
     "output_type": "stream",
     "text": [
      "WARNING:absl:Found untraced functions such as _jit_compiled_convolution_op, _jit_compiled_convolution_op, _jit_compiled_convolution_op, _jit_compiled_convolution_op, _jit_compiled_convolution_op while saving (showing 5 of 17). These functions will not be directly callable after loading.\n"
     ]
    },
    {
     "name": "stdout",
     "output_type": "stream",
     "text": [
      "INFO:tensorflow:Assets written to: ./RNmodels/35RN__IC_01200_FilledArea_0.9_BandNo_60_ImageHeight_30_ImageWidth_30_FILTER_snv_FeatureExtraction_none/assets\n"
     ]
    },
    {
     "name": "stderr",
     "output_type": "stream",
     "text": [
      "INFO:tensorflow:Assets written to: ./RNmodels/35RN__IC_01200_FilledArea_0.9_BandNo_60_ImageHeight_30_ImageWidth_30_FILTER_snv_FeatureExtraction_none/assets\n"
     ]
    },
    {
     "name": "stdout",
     "output_type": "stream",
     "text": [
      "Model saved on epoch:  35\n",
      "added to csv\n",
      "50/50 [==============================] - 1s 13ms/step\n",
      "Accuracy: 0.82\n",
      "Confusion Matrix:\n",
      "[[223  39 138   0]\n",
      " [ 24 334  42   0]\n",
      " [  4  35 361   0]\n",
      " [  2   0   4 394]]\n",
      "Classification Report:\n",
      "              precision    recall  f1-score   support\n",
      "\n",
      "           0       0.88      0.56      0.68       400\n",
      "           1       0.82      0.83      0.83       400\n",
      "           2       0.66      0.90      0.76       400\n",
      "           3       1.00      0.98      0.99       400\n",
      "\n",
      "    accuracy                           0.82      1600\n",
      "   macro avg       0.84      0.82      0.82      1600\n",
      "weighted avg       0.84      0.82      0.82      1600\n",
      "\n",
      "\n",
      "Epoch:  36\n",
      "600/600 - 14s - loss: 0.0181 - acc: 0.9950 - val_loss: 0.5604 - val_acc: 0.8481 - 14s/epoch - 23ms/step\n"
     ]
    },
    {
     "name": "stderr",
     "output_type": "stream",
     "text": [
      "WARNING:absl:Found untraced functions such as _jit_compiled_convolution_op, _jit_compiled_convolution_op, _jit_compiled_convolution_op, _jit_compiled_convolution_op, _jit_compiled_convolution_op while saving (showing 5 of 17). These functions will not be directly callable after loading.\n"
     ]
    },
    {
     "name": "stdout",
     "output_type": "stream",
     "text": [
      "INFO:tensorflow:Assets written to: ./RNmodels/36RN__IC_01200_FilledArea_0.9_BandNo_60_ImageHeight_30_ImageWidth_30_FILTER_snv_FeatureExtraction_none/assets\n"
     ]
    },
    {
     "name": "stderr",
     "output_type": "stream",
     "text": [
      "INFO:tensorflow:Assets written to: ./RNmodels/36RN__IC_01200_FilledArea_0.9_BandNo_60_ImageHeight_30_ImageWidth_30_FILTER_snv_FeatureExtraction_none/assets\n"
     ]
    },
    {
     "name": "stdout",
     "output_type": "stream",
     "text": [
      "Model saved on epoch:  36\n",
      "added to csv\n",
      "50/50 [==============================] - 1s 13ms/step\n",
      "Accuracy: 0.83\n",
      "Confusion Matrix:\n",
      "[[273  46  81   0]\n",
      " [ 31 350  19   0]\n",
      " [ 18  42 340   0]\n",
      " [ 19   3  13 365]]\n",
      "Classification Report:\n",
      "              precision    recall  f1-score   support\n",
      "\n",
      "           0       0.80      0.68      0.74       400\n",
      "           1       0.79      0.88      0.83       400\n",
      "           2       0.75      0.85      0.80       400\n",
      "           3       1.00      0.91      0.95       400\n",
      "\n",
      "    accuracy                           0.83      1600\n",
      "   macro avg       0.84      0.83      0.83      1600\n",
      "weighted avg       0.84      0.83      0.83      1600\n",
      "\n",
      "\n",
      "Epoch:  37\n",
      "600/600 - 14s - loss: 0.0409 - acc: 0.9881 - val_loss: 0.8243 - val_acc: 0.8206 - 14s/epoch - 23ms/step\n"
     ]
    },
    {
     "name": "stderr",
     "output_type": "stream",
     "text": [
      "WARNING:absl:Found untraced functions such as _jit_compiled_convolution_op, _jit_compiled_convolution_op, _jit_compiled_convolution_op, _jit_compiled_convolution_op, _jit_compiled_convolution_op while saving (showing 5 of 17). These functions will not be directly callable after loading.\n"
     ]
    },
    {
     "name": "stdout",
     "output_type": "stream",
     "text": [
      "INFO:tensorflow:Assets written to: ./RNmodels/37RN__IC_01200_FilledArea_0.9_BandNo_60_ImageHeight_30_ImageWidth_30_FILTER_snv_FeatureExtraction_none/assets\n"
     ]
    },
    {
     "name": "stderr",
     "output_type": "stream",
     "text": [
      "INFO:tensorflow:Assets written to: ./RNmodels/37RN__IC_01200_FilledArea_0.9_BandNo_60_ImageHeight_30_ImageWidth_30_FILTER_snv_FeatureExtraction_none/assets\n"
     ]
    },
    {
     "name": "stdout",
     "output_type": "stream",
     "text": [
      "Model saved on epoch:  37\n",
      "added to csv\n",
      "50/50 [==============================] - 1s 14ms/step\n",
      "Accuracy: 0.754375\n",
      "Confusion Matrix:\n",
      "[[143  43 214   0]\n",
      " [ 10 344  46   0]\n",
      " [  2  17 381   0]\n",
      " [  8   1  52 339]]\n",
      "Classification Report:\n",
      "              precision    recall  f1-score   support\n",
      "\n",
      "           0       0.88      0.36      0.51       400\n",
      "           1       0.85      0.86      0.85       400\n",
      "           2       0.55      0.95      0.70       400\n",
      "           3       1.00      0.85      0.92       400\n",
      "\n",
      "    accuracy                           0.75      1600\n",
      "   macro avg       0.82      0.75      0.74      1600\n",
      "weighted avg       0.82      0.75      0.74      1600\n",
      "\n",
      "\n",
      "Epoch:  38\n",
      "600/600 - 14s - loss: 0.0091 - acc: 0.9979 - val_loss: 0.5081 - val_acc: 0.8819 - 14s/epoch - 23ms/step\n"
     ]
    },
    {
     "name": "stderr",
     "output_type": "stream",
     "text": [
      "WARNING:absl:Found untraced functions such as _jit_compiled_convolution_op, _jit_compiled_convolution_op, _jit_compiled_convolution_op, _jit_compiled_convolution_op, _jit_compiled_convolution_op while saving (showing 5 of 17). These functions will not be directly callable after loading.\n"
     ]
    },
    {
     "name": "stdout",
     "output_type": "stream",
     "text": [
      "INFO:tensorflow:Assets written to: ./RNmodels/38RN__IC_01200_FilledArea_0.9_BandNo_60_ImageHeight_30_ImageWidth_30_FILTER_snv_FeatureExtraction_none/assets\n"
     ]
    },
    {
     "name": "stderr",
     "output_type": "stream",
     "text": [
      "INFO:tensorflow:Assets written to: ./RNmodels/38RN__IC_01200_FilledArea_0.9_BandNo_60_ImageHeight_30_ImageWidth_30_FILTER_snv_FeatureExtraction_none/assets\n"
     ]
    },
    {
     "name": "stdout",
     "output_type": "stream",
     "text": [
      "Model saved on epoch:  38\n",
      "added to csv\n",
      "50/50 [==============================] - 1s 14ms/step\n",
      "Accuracy: 0.856875\n",
      "Confusion Matrix:\n",
      "[[285  17  97   1]\n",
      " [ 36 326  38   0]\n",
      " [ 21  17 361   1]\n",
      " [  1   0   0 399]]\n",
      "Classification Report:\n",
      "              precision    recall  f1-score   support\n",
      "\n",
      "           0       0.83      0.71      0.77       400\n",
      "           1       0.91      0.81      0.86       400\n",
      "           2       0.73      0.90      0.81       400\n",
      "           3       1.00      1.00      1.00       400\n",
      "\n",
      "    accuracy                           0.86      1600\n",
      "   macro avg       0.86      0.86      0.86      1600\n",
      "weighted avg       0.86      0.86      0.86      1600\n",
      "\n",
      "\n",
      "Epoch:  39\n",
      "600/600 - 14s - loss: 0.0015 - acc: 0.9998 - val_loss: 0.4021 - val_acc: 0.8994 - 14s/epoch - 23ms/step\n"
     ]
    },
    {
     "name": "stderr",
     "output_type": "stream",
     "text": [
      "WARNING:absl:Found untraced functions such as _jit_compiled_convolution_op, _jit_compiled_convolution_op, _jit_compiled_convolution_op, _jit_compiled_convolution_op, _jit_compiled_convolution_op while saving (showing 5 of 17). These functions will not be directly callable after loading.\n"
     ]
    },
    {
     "name": "stdout",
     "output_type": "stream",
     "text": [
      "INFO:tensorflow:Assets written to: ./RNmodels/39RN__IC_01200_FilledArea_0.9_BandNo_60_ImageHeight_30_ImageWidth_30_FILTER_snv_FeatureExtraction_none/assets\n"
     ]
    },
    {
     "name": "stderr",
     "output_type": "stream",
     "text": [
      "INFO:tensorflow:Assets written to: ./RNmodels/39RN__IC_01200_FilledArea_0.9_BandNo_60_ImageHeight_30_ImageWidth_30_FILTER_snv_FeatureExtraction_none/assets\n"
     ]
    },
    {
     "name": "stdout",
     "output_type": "stream",
     "text": [
      "Model saved on epoch:  39\n",
      "added to csv\n",
      "50/50 [==============================] - 1s 13ms/step\n",
      "Accuracy: 0.854375\n",
      "Confusion Matrix:\n",
      "[[241  57 102   0]\n",
      " [ 10 375  15   0]\n",
      " [ 14  34 352   0]\n",
      " [  1   0   0 399]]\n",
      "Classification Report:\n",
      "              precision    recall  f1-score   support\n",
      "\n",
      "           0       0.91      0.60      0.72       400\n",
      "           1       0.80      0.94      0.87       400\n",
      "           2       0.75      0.88      0.81       400\n",
      "           3       1.00      1.00      1.00       400\n",
      "\n",
      "    accuracy                           0.85      1600\n",
      "   macro avg       0.87      0.85      0.85      1600\n",
      "weighted avg       0.87      0.85      0.85      1600\n",
      "\n",
      "\n",
      "Epoch:  40\n",
      "600/600 - 14s - loss: 2.9397e-04 - acc: 1.0000 - val_loss: 0.4117 - val_acc: 0.9025 - 14s/epoch - 23ms/step\n"
     ]
    },
    {
     "name": "stderr",
     "output_type": "stream",
     "text": [
      "WARNING:absl:Found untraced functions such as _jit_compiled_convolution_op, _jit_compiled_convolution_op, _jit_compiled_convolution_op, _jit_compiled_convolution_op, _jit_compiled_convolution_op while saving (showing 5 of 17). These functions will not be directly callable after loading.\n"
     ]
    },
    {
     "name": "stdout",
     "output_type": "stream",
     "text": [
      "INFO:tensorflow:Assets written to: ./RNmodels/40RN__IC_01200_FilledArea_0.9_BandNo_60_ImageHeight_30_ImageWidth_30_FILTER_snv_FeatureExtraction_none/assets\n"
     ]
    },
    {
     "name": "stderr",
     "output_type": "stream",
     "text": [
      "INFO:tensorflow:Assets written to: ./RNmodels/40RN__IC_01200_FilledArea_0.9_BandNo_60_ImageHeight_30_ImageWidth_30_FILTER_snv_FeatureExtraction_none/assets\n"
     ]
    },
    {
     "name": "stdout",
     "output_type": "stream",
     "text": [
      "Model saved on epoch:  40\n",
      "added to csv\n",
      "50/50 [==============================] - 1s 12ms/step\n",
      "Accuracy: 0.853125\n",
      "Confusion Matrix:\n",
      "[[245  45 110   0]\n",
      " [ 16 368  16   0]\n",
      " [ 14  33 353   0]\n",
      " [  1   0   0 399]]\n",
      "Classification Report:\n",
      "              precision    recall  f1-score   support\n",
      "\n",
      "           0       0.89      0.61      0.72       400\n",
      "           1       0.83      0.92      0.87       400\n",
      "           2       0.74      0.88      0.80       400\n",
      "           3       1.00      1.00      1.00       400\n",
      "\n",
      "    accuracy                           0.85      1600\n",
      "   macro avg       0.86      0.85      0.85      1600\n",
      "weighted avg       0.86      0.85      0.85      1600\n",
      "\n",
      "\n",
      "Epoch:  41\n",
      "600/600 - 14s - loss: 1.5571e-04 - acc: 1.0000 - val_loss: 0.4214 - val_acc: 0.9025 - 14s/epoch - 23ms/step\n"
     ]
    },
    {
     "name": "stderr",
     "output_type": "stream",
     "text": [
      "WARNING:absl:Found untraced functions such as _jit_compiled_convolution_op, _jit_compiled_convolution_op, _jit_compiled_convolution_op, _jit_compiled_convolution_op, _jit_compiled_convolution_op while saving (showing 5 of 17). These functions will not be directly callable after loading.\n"
     ]
    },
    {
     "name": "stdout",
     "output_type": "stream",
     "text": [
      "INFO:tensorflow:Assets written to: ./RNmodels/41RN__IC_01200_FilledArea_0.9_BandNo_60_ImageHeight_30_ImageWidth_30_FILTER_snv_FeatureExtraction_none/assets\n"
     ]
    },
    {
     "name": "stderr",
     "output_type": "stream",
     "text": [
      "INFO:tensorflow:Assets written to: ./RNmodels/41RN__IC_01200_FilledArea_0.9_BandNo_60_ImageHeight_30_ImageWidth_30_FILTER_snv_FeatureExtraction_none/assets\n"
     ]
    },
    {
     "name": "stdout",
     "output_type": "stream",
     "text": [
      "Model saved on epoch:  41\n",
      "added to csv\n",
      "50/50 [==============================] - 1s 13ms/step\n",
      "Accuracy: 0.855\n",
      "Confusion Matrix:\n",
      "[[244  47 109   0]\n",
      " [ 12 372  16   0]\n",
      " [ 14  33 353   0]\n",
      " [  1   0   0 399]]\n",
      "Classification Report:\n",
      "              precision    recall  f1-score   support\n",
      "\n",
      "           0       0.90      0.61      0.73       400\n",
      "           1       0.82      0.93      0.87       400\n",
      "           2       0.74      0.88      0.80       400\n",
      "           3       1.00      1.00      1.00       400\n",
      "\n",
      "    accuracy                           0.85      1600\n",
      "   macro avg       0.87      0.85      0.85      1600\n",
      "weighted avg       0.87      0.85      0.85      1600\n",
      "\n",
      "\n",
      "Epoch:  42\n",
      "600/600 - 14s - loss: 1.1295e-04 - acc: 1.0000 - val_loss: 0.4306 - val_acc: 0.9031 - 14s/epoch - 23ms/step\n"
     ]
    },
    {
     "name": "stderr",
     "output_type": "stream",
     "text": [
      "WARNING:absl:Found untraced functions such as _jit_compiled_convolution_op, _jit_compiled_convolution_op, _jit_compiled_convolution_op, _jit_compiled_convolution_op, _jit_compiled_convolution_op while saving (showing 5 of 17). These functions will not be directly callable after loading.\n"
     ]
    },
    {
     "name": "stdout",
     "output_type": "stream",
     "text": [
      "INFO:tensorflow:Assets written to: ./RNmodels/42RN__IC_01200_FilledArea_0.9_BandNo_60_ImageHeight_30_ImageWidth_30_FILTER_snv_FeatureExtraction_none/assets\n"
     ]
    },
    {
     "name": "stderr",
     "output_type": "stream",
     "text": [
      "INFO:tensorflow:Assets written to: ./RNmodels/42RN__IC_01200_FilledArea_0.9_BandNo_60_ImageHeight_30_ImageWidth_30_FILTER_snv_FeatureExtraction_none/assets\n"
     ]
    },
    {
     "name": "stdout",
     "output_type": "stream",
     "text": [
      "Model saved on epoch:  42\n",
      "added to csv\n",
      "50/50 [==============================] - 1s 14ms/step\n",
      "Accuracy: 0.855\n",
      "Confusion Matrix:\n",
      "[[244  47 109   0]\n",
      " [ 12 372  16   0]\n",
      " [ 14  33 353   0]\n",
      " [  1   0   0 399]]\n",
      "Classification Report:\n",
      "              precision    recall  f1-score   support\n",
      "\n",
      "           0       0.90      0.61      0.73       400\n",
      "           1       0.82      0.93      0.87       400\n",
      "           2       0.74      0.88      0.80       400\n",
      "           3       1.00      1.00      1.00       400\n",
      "\n",
      "    accuracy                           0.85      1600\n",
      "   macro avg       0.87      0.85      0.85      1600\n",
      "weighted avg       0.87      0.85      0.85      1600\n",
      "\n",
      "\n",
      "Epoch:  43\n",
      "600/600 - 14s - loss: 8.4719e-05 - acc: 1.0000 - val_loss: 0.4399 - val_acc: 0.9031 - 14s/epoch - 23ms/step\n"
     ]
    },
    {
     "name": "stderr",
     "output_type": "stream",
     "text": [
      "WARNING:absl:Found untraced functions such as _jit_compiled_convolution_op, _jit_compiled_convolution_op, _jit_compiled_convolution_op, _jit_compiled_convolution_op, _jit_compiled_convolution_op while saving (showing 5 of 17). These functions will not be directly callable after loading.\n"
     ]
    },
    {
     "name": "stdout",
     "output_type": "stream",
     "text": [
      "INFO:tensorflow:Assets written to: ./RNmodels/43RN__IC_01200_FilledArea_0.9_BandNo_60_ImageHeight_30_ImageWidth_30_FILTER_snv_FeatureExtraction_none/assets\n"
     ]
    },
    {
     "name": "stderr",
     "output_type": "stream",
     "text": [
      "INFO:tensorflow:Assets written to: ./RNmodels/43RN__IC_01200_FilledArea_0.9_BandNo_60_ImageHeight_30_ImageWidth_30_FILTER_snv_FeatureExtraction_none/assets\n"
     ]
    },
    {
     "name": "stdout",
     "output_type": "stream",
     "text": [
      "Model saved on epoch:  43\n",
      "added to csv\n",
      "50/50 [==============================] - 1s 13ms/step\n",
      "Accuracy: 0.85375\n",
      "Confusion Matrix:\n",
      "[[243  49 108   0]\n",
      " [ 12 372  16   0]\n",
      " [ 14  34 352   0]\n",
      " [  1   0   0 399]]\n",
      "Classification Report:\n",
      "              precision    recall  f1-score   support\n",
      "\n",
      "           0       0.90      0.61      0.73       400\n",
      "           1       0.82      0.93      0.87       400\n",
      "           2       0.74      0.88      0.80       400\n",
      "           3       1.00      1.00      1.00       400\n",
      "\n",
      "    accuracy                           0.85      1600\n",
      "   macro avg       0.86      0.85      0.85      1600\n",
      "weighted avg       0.86      0.85      0.85      1600\n",
      "\n",
      "\n",
      "Epoch:  44\n",
      "600/600 - 14s - loss: 6.4455e-05 - acc: 1.0000 - val_loss: 0.4496 - val_acc: 0.9031 - 14s/epoch - 23ms/step\n"
     ]
    },
    {
     "name": "stderr",
     "output_type": "stream",
     "text": [
      "WARNING:absl:Found untraced functions such as _jit_compiled_convolution_op, _jit_compiled_convolution_op, _jit_compiled_convolution_op, _jit_compiled_convolution_op, _jit_compiled_convolution_op while saving (showing 5 of 17). These functions will not be directly callable after loading.\n"
     ]
    },
    {
     "name": "stdout",
     "output_type": "stream",
     "text": [
      "INFO:tensorflow:Assets written to: ./RNmodels/44RN__IC_01200_FilledArea_0.9_BandNo_60_ImageHeight_30_ImageWidth_30_FILTER_snv_FeatureExtraction_none/assets\n"
     ]
    },
    {
     "name": "stderr",
     "output_type": "stream",
     "text": [
      "INFO:tensorflow:Assets written to: ./RNmodels/44RN__IC_01200_FilledArea_0.9_BandNo_60_ImageHeight_30_ImageWidth_30_FILTER_snv_FeatureExtraction_none/assets\n"
     ]
    },
    {
     "name": "stdout",
     "output_type": "stream",
     "text": [
      "Model saved on epoch:  44\n",
      "added to csv\n",
      "50/50 [==============================] - 1s 13ms/step\n",
      "Accuracy: 0.855\n",
      "Confusion Matrix:\n",
      "[[243  49 108   0]\n",
      " [ 11 373  16   0]\n",
      " [ 13  34 353   0]\n",
      " [  1   0   0 399]]\n",
      "Classification Report:\n",
      "              precision    recall  f1-score   support\n",
      "\n",
      "           0       0.91      0.61      0.73       400\n",
      "           1       0.82      0.93      0.87       400\n",
      "           2       0.74      0.88      0.81       400\n",
      "           3       1.00      1.00      1.00       400\n",
      "\n",
      "    accuracy                           0.85      1600\n",
      "   macro avg       0.87      0.85      0.85      1600\n",
      "weighted avg       0.87      0.85      0.85      1600\n",
      "\n",
      "\n",
      "Epoch:  45\n",
      "600/600 - 14s - loss: 4.9339e-05 - acc: 1.0000 - val_loss: 0.4595 - val_acc: 0.9038 - 14s/epoch - 23ms/step\n"
     ]
    },
    {
     "name": "stderr",
     "output_type": "stream",
     "text": [
      "WARNING:absl:Found untraced functions such as _jit_compiled_convolution_op, _jit_compiled_convolution_op, _jit_compiled_convolution_op, _jit_compiled_convolution_op, _jit_compiled_convolution_op while saving (showing 5 of 17). These functions will not be directly callable after loading.\n"
     ]
    },
    {
     "name": "stdout",
     "output_type": "stream",
     "text": [
      "INFO:tensorflow:Assets written to: ./RNmodels/45RN__IC_01200_FilledArea_0.9_BandNo_60_ImageHeight_30_ImageWidth_30_FILTER_snv_FeatureExtraction_none/assets\n"
     ]
    },
    {
     "name": "stderr",
     "output_type": "stream",
     "text": [
      "INFO:tensorflow:Assets written to: ./RNmodels/45RN__IC_01200_FilledArea_0.9_BandNo_60_ImageHeight_30_ImageWidth_30_FILTER_snv_FeatureExtraction_none/assets\n"
     ]
    },
    {
     "name": "stdout",
     "output_type": "stream",
     "text": [
      "Model saved on epoch:  45\n",
      "added to csv\n",
      "50/50 [==============================] - 1s 13ms/step\n",
      "Accuracy: 0.85375\n",
      "Confusion Matrix:\n",
      "[[242  50 108   0]\n",
      " [ 11 373  16   0]\n",
      " [ 13  35 352   0]\n",
      " [  1   0   0 399]]\n",
      "Classification Report:\n",
      "              precision    recall  f1-score   support\n",
      "\n",
      "           0       0.91      0.60      0.73       400\n",
      "           1       0.81      0.93      0.87       400\n",
      "           2       0.74      0.88      0.80       400\n",
      "           3       1.00      1.00      1.00       400\n",
      "\n",
      "    accuracy                           0.85      1600\n",
      "   macro avg       0.87      0.85      0.85      1600\n",
      "weighted avg       0.87      0.85      0.85      1600\n",
      "\n",
      "\n",
      "Epoch:  46\n",
      "600/600 - 14s - loss: 3.7854e-05 - acc: 1.0000 - val_loss: 0.4697 - val_acc: 0.9031 - 14s/epoch - 23ms/step\n"
     ]
    },
    {
     "name": "stderr",
     "output_type": "stream",
     "text": [
      "WARNING:absl:Found untraced functions such as _jit_compiled_convolution_op, _jit_compiled_convolution_op, _jit_compiled_convolution_op, _jit_compiled_convolution_op, _jit_compiled_convolution_op while saving (showing 5 of 17). These functions will not be directly callable after loading.\n"
     ]
    },
    {
     "name": "stdout",
     "output_type": "stream",
     "text": [
      "INFO:tensorflow:Assets written to: ./RNmodels/46RN__IC_01200_FilledArea_0.9_BandNo_60_ImageHeight_30_ImageWidth_30_FILTER_snv_FeatureExtraction_none/assets\n"
     ]
    },
    {
     "name": "stderr",
     "output_type": "stream",
     "text": [
      "INFO:tensorflow:Assets written to: ./RNmodels/46RN__IC_01200_FilledArea_0.9_BandNo_60_ImageHeight_30_ImageWidth_30_FILTER_snv_FeatureExtraction_none/assets\n"
     ]
    },
    {
     "name": "stdout",
     "output_type": "stream",
     "text": [
      "Model saved on epoch:  46\n",
      "added to csv\n",
      "50/50 [==============================] - 1s 14ms/step\n",
      "Accuracy: 0.85375\n",
      "Confusion Matrix:\n",
      "[[242  50 108   0]\n",
      " [ 11 373  16   0]\n",
      " [ 13  35 352   0]\n",
      " [  1   0   0 399]]\n",
      "Classification Report:\n",
      "              precision    recall  f1-score   support\n",
      "\n",
      "           0       0.91      0.60      0.73       400\n",
      "           1       0.81      0.93      0.87       400\n",
      "           2       0.74      0.88      0.80       400\n",
      "           3       1.00      1.00      1.00       400\n",
      "\n",
      "    accuracy                           0.85      1600\n",
      "   macro avg       0.87      0.85      0.85      1600\n",
      "weighted avg       0.87      0.85      0.85      1600\n",
      "\n",
      "\n",
      "Epoch:  47\n",
      "600/600 - 14s - loss: 2.9005e-05 - acc: 1.0000 - val_loss: 0.4803 - val_acc: 0.9031 - 14s/epoch - 23ms/step\n"
     ]
    },
    {
     "name": "stderr",
     "output_type": "stream",
     "text": [
      "WARNING:absl:Found untraced functions such as _jit_compiled_convolution_op, _jit_compiled_convolution_op, _jit_compiled_convolution_op, _jit_compiled_convolution_op, _jit_compiled_convolution_op while saving (showing 5 of 17). These functions will not be directly callable after loading.\n"
     ]
    },
    {
     "name": "stdout",
     "output_type": "stream",
     "text": [
      "INFO:tensorflow:Assets written to: ./RNmodels/47RN__IC_01200_FilledArea_0.9_BandNo_60_ImageHeight_30_ImageWidth_30_FILTER_snv_FeatureExtraction_none/assets\n"
     ]
    },
    {
     "name": "stderr",
     "output_type": "stream",
     "text": [
      "INFO:tensorflow:Assets written to: ./RNmodels/47RN__IC_01200_FilledArea_0.9_BandNo_60_ImageHeight_30_ImageWidth_30_FILTER_snv_FeatureExtraction_none/assets\n"
     ]
    },
    {
     "name": "stdout",
     "output_type": "stream",
     "text": [
      "Model saved on epoch:  47\n",
      "added to csv\n",
      "50/50 [==============================] - 1s 13ms/step\n",
      "Accuracy: 0.85375\n",
      "Confusion Matrix:\n",
      "[[242  50 108   0]\n",
      " [ 11 373  16   0]\n",
      " [ 13  35 352   0]\n",
      " [  1   0   0 399]]\n",
      "Classification Report:\n",
      "              precision    recall  f1-score   support\n",
      "\n",
      "           0       0.91      0.60      0.73       400\n",
      "           1       0.81      0.93      0.87       400\n",
      "           2       0.74      0.88      0.80       400\n",
      "           3       1.00      1.00      1.00       400\n",
      "\n",
      "    accuracy                           0.85      1600\n",
      "   macro avg       0.87      0.85      0.85      1600\n",
      "weighted avg       0.87      0.85      0.85      1600\n",
      "\n",
      "\n",
      "Epoch:  48\n",
      "600/600 - 14s - loss: 2.2183e-05 - acc: 1.0000 - val_loss: 0.4913 - val_acc: 0.9031 - 14s/epoch - 23ms/step\n"
     ]
    },
    {
     "name": "stderr",
     "output_type": "stream",
     "text": [
      "WARNING:absl:Found untraced functions such as _jit_compiled_convolution_op, _jit_compiled_convolution_op, _jit_compiled_convolution_op, _jit_compiled_convolution_op, _jit_compiled_convolution_op while saving (showing 5 of 17). These functions will not be directly callable after loading.\n"
     ]
    },
    {
     "name": "stdout",
     "output_type": "stream",
     "text": [
      "INFO:tensorflow:Assets written to: ./RNmodels/48RN__IC_01200_FilledArea_0.9_BandNo_60_ImageHeight_30_ImageWidth_30_FILTER_snv_FeatureExtraction_none/assets\n"
     ]
    },
    {
     "name": "stderr",
     "output_type": "stream",
     "text": [
      "INFO:tensorflow:Assets written to: ./RNmodels/48RN__IC_01200_FilledArea_0.9_BandNo_60_ImageHeight_30_ImageWidth_30_FILTER_snv_FeatureExtraction_none/assets\n"
     ]
    },
    {
     "name": "stdout",
     "output_type": "stream",
     "text": [
      "Model saved on epoch:  48\n",
      "added to csv\n",
      "50/50 [==============================] - 1s 14ms/step\n",
      "Accuracy: 0.855\n",
      "Confusion Matrix:\n",
      "[[243  50 107   0]\n",
      " [ 10 374  16   0]\n",
      " [ 13  35 352   0]\n",
      " [  1   0   0 399]]\n",
      "Classification Report:\n",
      "              precision    recall  f1-score   support\n",
      "\n",
      "           0       0.91      0.61      0.73       400\n",
      "           1       0.81      0.94      0.87       400\n",
      "           2       0.74      0.88      0.80       400\n",
      "           3       1.00      1.00      1.00       400\n",
      "\n",
      "    accuracy                           0.85      1600\n",
      "   macro avg       0.87      0.85      0.85      1600\n",
      "weighted avg       0.87      0.85      0.85      1600\n",
      "\n",
      "\n",
      "Epoch:  49\n",
      "600/600 - 14s - loss: 1.6925e-05 - acc: 1.0000 - val_loss: 0.5026 - val_acc: 0.9031 - 14s/epoch - 23ms/step\n"
     ]
    },
    {
     "name": "stderr",
     "output_type": "stream",
     "text": [
      "WARNING:absl:Found untraced functions such as _jit_compiled_convolution_op, _jit_compiled_convolution_op, _jit_compiled_convolution_op, _jit_compiled_convolution_op, _jit_compiled_convolution_op while saving (showing 5 of 17). These functions will not be directly callable after loading.\n"
     ]
    },
    {
     "name": "stdout",
     "output_type": "stream",
     "text": [
      "INFO:tensorflow:Assets written to: ./RNmodels/49RN__IC_01200_FilledArea_0.9_BandNo_60_ImageHeight_30_ImageWidth_30_FILTER_snv_FeatureExtraction_none/assets\n"
     ]
    },
    {
     "name": "stderr",
     "output_type": "stream",
     "text": [
      "INFO:tensorflow:Assets written to: ./RNmodels/49RN__IC_01200_FilledArea_0.9_BandNo_60_ImageHeight_30_ImageWidth_30_FILTER_snv_FeatureExtraction_none/assets\n"
     ]
    },
    {
     "name": "stdout",
     "output_type": "stream",
     "text": [
      "Model saved on epoch:  49\n",
      "added to csv\n",
      "50/50 [==============================] - 1s 14ms/step\n",
      "Accuracy: 0.855\n",
      "Confusion Matrix:\n",
      "[[244  49 107   0]\n",
      " [  9 374  17   0]\n",
      " [ 13  36 351   0]\n",
      " [  1   0   0 399]]\n",
      "Classification Report:\n",
      "              precision    recall  f1-score   support\n",
      "\n",
      "           0       0.91      0.61      0.73       400\n",
      "           1       0.81      0.94      0.87       400\n",
      "           2       0.74      0.88      0.80       400\n",
      "           3       1.00      1.00      1.00       400\n",
      "\n",
      "    accuracy                           0.85      1600\n",
      "   macro avg       0.87      0.85      0.85      1600\n",
      "weighted avg       0.87      0.85      0.85      1600\n",
      "\n",
      "\n",
      "Epoch:  50\n",
      "600/600 - 14s - loss: 1.2866e-05 - acc: 1.0000 - val_loss: 0.5144 - val_acc: 0.9006 - 14s/epoch - 23ms/step\n"
     ]
    },
    {
     "name": "stderr",
     "output_type": "stream",
     "text": [
      "WARNING:absl:Found untraced functions such as _jit_compiled_convolution_op, _jit_compiled_convolution_op, _jit_compiled_convolution_op, _jit_compiled_convolution_op, _jit_compiled_convolution_op while saving (showing 5 of 17). These functions will not be directly callable after loading.\n"
     ]
    },
    {
     "name": "stdout",
     "output_type": "stream",
     "text": [
      "INFO:tensorflow:Assets written to: ./RNmodels/50RN__IC_01200_FilledArea_0.9_BandNo_60_ImageHeight_30_ImageWidth_30_FILTER_snv_FeatureExtraction_none/assets\n"
     ]
    },
    {
     "name": "stderr",
     "output_type": "stream",
     "text": [
      "INFO:tensorflow:Assets written to: ./RNmodels/50RN__IC_01200_FilledArea_0.9_BandNo_60_ImageHeight_30_ImageWidth_30_FILTER_snv_FeatureExtraction_none/assets\n"
     ]
    },
    {
     "name": "stdout",
     "output_type": "stream",
     "text": [
      "Model saved on epoch:  50\n",
      "added to csv\n",
      "50/50 [==============================] - 1s 14ms/step\n",
      "Accuracy: 0.854375\n",
      "Confusion Matrix:\n",
      "[[243  49 108   0]\n",
      " [  9 374  17   0]\n",
      " [ 13  36 351   0]\n",
      " [  1   0   0 399]]\n",
      "Classification Report:\n",
      "              precision    recall  f1-score   support\n",
      "\n",
      "           0       0.91      0.61      0.73       400\n",
      "           1       0.81      0.94      0.87       400\n",
      "           2       0.74      0.88      0.80       400\n",
      "           3       1.00      1.00      1.00       400\n",
      "\n",
      "    accuracy                           0.85      1600\n",
      "   macro avg       0.87      0.85      0.85      1600\n",
      "weighted avg       0.87      0.85      0.85      1600\n",
      "\n",
      "\n",
      "Epoch:  51\n",
      "600/600 - 14s - loss: 9.7357e-06 - acc: 1.0000 - val_loss: 0.5266 - val_acc: 0.9006 - 14s/epoch - 23ms/step\n"
     ]
    },
    {
     "name": "stderr",
     "output_type": "stream",
     "text": [
      "WARNING:absl:Found untraced functions such as _jit_compiled_convolution_op, _jit_compiled_convolution_op, _jit_compiled_convolution_op, _jit_compiled_convolution_op, _jit_compiled_convolution_op while saving (showing 5 of 17). These functions will not be directly callable after loading.\n"
     ]
    },
    {
     "name": "stdout",
     "output_type": "stream",
     "text": [
      "INFO:tensorflow:Assets written to: ./RNmodels/51RN__IC_01200_FilledArea_0.9_BandNo_60_ImageHeight_30_ImageWidth_30_FILTER_snv_FeatureExtraction_none/assets\n"
     ]
    },
    {
     "name": "stderr",
     "output_type": "stream",
     "text": [
      "INFO:tensorflow:Assets written to: ./RNmodels/51RN__IC_01200_FilledArea_0.9_BandNo_60_ImageHeight_30_ImageWidth_30_FILTER_snv_FeatureExtraction_none/assets\n"
     ]
    },
    {
     "name": "stdout",
     "output_type": "stream",
     "text": [
      "Model saved on epoch:  51\n",
      "added to csv\n",
      "50/50 [==============================] - 1s 13ms/step\n",
      "Accuracy: 0.854375\n",
      "Confusion Matrix:\n",
      "[[242  49 109   0]\n",
      " [  9 374  17   0]\n",
      " [ 13  35 352   0]\n",
      " [  1   0   0 399]]\n",
      "Classification Report:\n",
      "              precision    recall  f1-score   support\n",
      "\n",
      "           0       0.91      0.60      0.73       400\n",
      "           1       0.82      0.94      0.87       400\n",
      "           2       0.74      0.88      0.80       400\n",
      "           3       1.00      1.00      1.00       400\n",
      "\n",
      "    accuracy                           0.85      1600\n",
      "   macro avg       0.87      0.85      0.85      1600\n",
      "weighted avg       0.87      0.85      0.85      1600\n",
      "\n",
      "\n",
      "Epoch:  52\n",
      "600/600 - 14s - loss: 7.3558e-06 - acc: 1.0000 - val_loss: 0.5390 - val_acc: 0.9000 - 14s/epoch - 23ms/step\n"
     ]
    },
    {
     "name": "stderr",
     "output_type": "stream",
     "text": [
      "WARNING:absl:Found untraced functions such as _jit_compiled_convolution_op, _jit_compiled_convolution_op, _jit_compiled_convolution_op, _jit_compiled_convolution_op, _jit_compiled_convolution_op while saving (showing 5 of 17). These functions will not be directly callable after loading.\n"
     ]
    },
    {
     "name": "stdout",
     "output_type": "stream",
     "text": [
      "INFO:tensorflow:Assets written to: ./RNmodels/52RN__IC_01200_FilledArea_0.9_BandNo_60_ImageHeight_30_ImageWidth_30_FILTER_snv_FeatureExtraction_none/assets\n"
     ]
    },
    {
     "name": "stderr",
     "output_type": "stream",
     "text": [
      "INFO:tensorflow:Assets written to: ./RNmodels/52RN__IC_01200_FilledArea_0.9_BandNo_60_ImageHeight_30_ImageWidth_30_FILTER_snv_FeatureExtraction_none/assets\n"
     ]
    },
    {
     "name": "stdout",
     "output_type": "stream",
     "text": [
      "Model saved on epoch:  52\n",
      "added to csv\n",
      "50/50 [==============================] - 1s 13ms/step\n",
      "Accuracy: 0.85375\n",
      "Confusion Matrix:\n",
      "[[242  49 109   0]\n",
      " [  9 374  17   0]\n",
      " [ 13  36 351   0]\n",
      " [  1   0   0 399]]\n",
      "Classification Report:\n",
      "              precision    recall  f1-score   support\n",
      "\n",
      "           0       0.91      0.60      0.73       400\n",
      "           1       0.81      0.94      0.87       400\n",
      "           2       0.74      0.88      0.80       400\n",
      "           3       1.00      1.00      1.00       400\n",
      "\n",
      "    accuracy                           0.85      1600\n",
      "   macro avg       0.87      0.85      0.85      1600\n",
      "weighted avg       0.87      0.85      0.85      1600\n",
      "\n",
      "\n",
      "Epoch:  53\n",
      "600/600 - 14s - loss: 5.5479e-06 - acc: 1.0000 - val_loss: 0.5518 - val_acc: 0.9006 - 14s/epoch - 23ms/step\n"
     ]
    },
    {
     "name": "stderr",
     "output_type": "stream",
     "text": [
      "WARNING:absl:Found untraced functions such as _jit_compiled_convolution_op, _jit_compiled_convolution_op, _jit_compiled_convolution_op, _jit_compiled_convolution_op, _jit_compiled_convolution_op while saving (showing 5 of 17). These functions will not be directly callable after loading.\n"
     ]
    },
    {
     "name": "stdout",
     "output_type": "stream",
     "text": [
      "INFO:tensorflow:Assets written to: ./RNmodels/53RN__IC_01200_FilledArea_0.9_BandNo_60_ImageHeight_30_ImageWidth_30_FILTER_snv_FeatureExtraction_none/assets\n"
     ]
    },
    {
     "name": "stderr",
     "output_type": "stream",
     "text": [
      "INFO:tensorflow:Assets written to: ./RNmodels/53RN__IC_01200_FilledArea_0.9_BandNo_60_ImageHeight_30_ImageWidth_30_FILTER_snv_FeatureExtraction_none/assets\n"
     ]
    },
    {
     "name": "stdout",
     "output_type": "stream",
     "text": [
      "Model saved on epoch:  53\n",
      "added to csv\n",
      "50/50 [==============================] - 1s 13ms/step\n",
      "Accuracy: 0.851875\n",
      "Confusion Matrix:\n",
      "[[241  51 108   0]\n",
      " [ 10 373  17   0]\n",
      " [ 13  37 350   0]\n",
      " [  1   0   0 399]]\n",
      "Classification Report:\n",
      "              precision    recall  f1-score   support\n",
      "\n",
      "           0       0.91      0.60      0.72       400\n",
      "           1       0.81      0.93      0.87       400\n",
      "           2       0.74      0.88      0.80       400\n",
      "           3       1.00      1.00      1.00       400\n",
      "\n",
      "    accuracy                           0.85      1600\n",
      "   macro avg       0.86      0.85      0.85      1600\n",
      "weighted avg       0.86      0.85      0.85      1600\n",
      "\n",
      "\n",
      "Epoch:  54\n",
      "600/600 - 14s - loss: 4.1764e-06 - acc: 1.0000 - val_loss: 0.5652 - val_acc: 0.9006 - 14s/epoch - 23ms/step\n"
     ]
    },
    {
     "name": "stderr",
     "output_type": "stream",
     "text": [
      "WARNING:absl:Found untraced functions such as _jit_compiled_convolution_op, _jit_compiled_convolution_op, _jit_compiled_convolution_op, _jit_compiled_convolution_op, _jit_compiled_convolution_op while saving (showing 5 of 17). These functions will not be directly callable after loading.\n"
     ]
    },
    {
     "name": "stdout",
     "output_type": "stream",
     "text": [
      "INFO:tensorflow:Assets written to: ./RNmodels/54RN__IC_01200_FilledArea_0.9_BandNo_60_ImageHeight_30_ImageWidth_30_FILTER_snv_FeatureExtraction_none/assets\n"
     ]
    },
    {
     "name": "stderr",
     "output_type": "stream",
     "text": [
      "INFO:tensorflow:Assets written to: ./RNmodels/54RN__IC_01200_FilledArea_0.9_BandNo_60_ImageHeight_30_ImageWidth_30_FILTER_snv_FeatureExtraction_none/assets\n"
     ]
    },
    {
     "name": "stdout",
     "output_type": "stream",
     "text": [
      "Model saved on epoch:  54\n",
      "added to csv\n",
      "50/50 [==============================] - 1s 13ms/step\n",
      "Accuracy: 0.8525\n",
      "Confusion Matrix:\n",
      "[[241  52 107   0]\n",
      " [ 10 373  17   0]\n",
      " [ 13  36 351   0]\n",
      " [  1   0   0 399]]\n",
      "Classification Report:\n",
      "              precision    recall  f1-score   support\n",
      "\n",
      "           0       0.91      0.60      0.72       400\n",
      "           1       0.81      0.93      0.87       400\n",
      "           2       0.74      0.88      0.80       400\n",
      "           3       1.00      1.00      1.00       400\n",
      "\n",
      "    accuracy                           0.85      1600\n",
      "   macro avg       0.86      0.85      0.85      1600\n",
      "weighted avg       0.86      0.85      0.85      1600\n",
      "\n",
      "\n",
      "Epoch:  55\n",
      "600/600 - 14s - loss: 3.1385e-06 - acc: 1.0000 - val_loss: 0.5786 - val_acc: 0.9006 - 14s/epoch - 23ms/step\n"
     ]
    },
    {
     "name": "stderr",
     "output_type": "stream",
     "text": [
      "WARNING:absl:Found untraced functions such as _jit_compiled_convolution_op, _jit_compiled_convolution_op, _jit_compiled_convolution_op, _jit_compiled_convolution_op, _jit_compiled_convolution_op while saving (showing 5 of 17). These functions will not be directly callable after loading.\n"
     ]
    },
    {
     "name": "stdout",
     "output_type": "stream",
     "text": [
      "INFO:tensorflow:Assets written to: ./RNmodels/55RN__IC_01200_FilledArea_0.9_BandNo_60_ImageHeight_30_ImageWidth_30_FILTER_snv_FeatureExtraction_none/assets\n"
     ]
    },
    {
     "name": "stderr",
     "output_type": "stream",
     "text": [
      "INFO:tensorflow:Assets written to: ./RNmodels/55RN__IC_01200_FilledArea_0.9_BandNo_60_ImageHeight_30_ImageWidth_30_FILTER_snv_FeatureExtraction_none/assets\n"
     ]
    },
    {
     "name": "stdout",
     "output_type": "stream",
     "text": [
      "Model saved on epoch:  55\n",
      "added to csv\n",
      "50/50 [==============================] - 1s 14ms/step\n",
      "Accuracy: 0.851875\n",
      "Confusion Matrix:\n",
      "[[240  54 106   0]\n",
      " [ 10 373  17   0]\n",
      " [ 13  36 351   0]\n",
      " [  1   0   0 399]]\n",
      "Classification Report:\n",
      "              precision    recall  f1-score   support\n",
      "\n",
      "           0       0.91      0.60      0.72       400\n",
      "           1       0.81      0.93      0.86       400\n",
      "           2       0.74      0.88      0.80       400\n",
      "           3       1.00      1.00      1.00       400\n",
      "\n",
      "    accuracy                           0.85      1600\n",
      "   macro avg       0.86      0.85      0.85      1600\n",
      "weighted avg       0.86      0.85      0.85      1600\n",
      "\n",
      "\n",
      "Epoch:  56\n",
      "600/600 - 14s - loss: 2.3583e-06 - acc: 1.0000 - val_loss: 0.5925 - val_acc: 0.9013 - 14s/epoch - 23ms/step\n"
     ]
    },
    {
     "name": "stderr",
     "output_type": "stream",
     "text": [
      "WARNING:absl:Found untraced functions such as _jit_compiled_convolution_op, _jit_compiled_convolution_op, _jit_compiled_convolution_op, _jit_compiled_convolution_op, _jit_compiled_convolution_op while saving (showing 5 of 17). These functions will not be directly callable after loading.\n"
     ]
    },
    {
     "name": "stdout",
     "output_type": "stream",
     "text": [
      "INFO:tensorflow:Assets written to: ./RNmodels/56RN__IC_01200_FilledArea_0.9_BandNo_60_ImageHeight_30_ImageWidth_30_FILTER_snv_FeatureExtraction_none/assets\n"
     ]
    },
    {
     "name": "stderr",
     "output_type": "stream",
     "text": [
      "INFO:tensorflow:Assets written to: ./RNmodels/56RN__IC_01200_FilledArea_0.9_BandNo_60_ImageHeight_30_ImageWidth_30_FILTER_snv_FeatureExtraction_none/assets\n"
     ]
    },
    {
     "name": "stdout",
     "output_type": "stream",
     "text": [
      "Model saved on epoch:  56\n",
      "added to csv\n",
      "50/50 [==============================] - 1s 14ms/step\n",
      "Accuracy: 0.853125\n",
      "Confusion Matrix:\n",
      "[[240  54 106   0]\n",
      " [ 10 375  15   0]\n",
      " [ 13  36 351   0]\n",
      " [  1   0   0 399]]\n",
      "Classification Report:\n",
      "              precision    recall  f1-score   support\n",
      "\n",
      "           0       0.91      0.60      0.72       400\n",
      "           1       0.81      0.94      0.87       400\n",
      "           2       0.74      0.88      0.81       400\n",
      "           3       1.00      1.00      1.00       400\n",
      "\n",
      "    accuracy                           0.85      1600\n",
      "   macro avg       0.86      0.85      0.85      1600\n",
      "weighted avg       0.86      0.85      0.85      1600\n",
      "\n",
      "\n",
      "Epoch:  57\n",
      "600/600 - 14s - loss: 1.7687e-06 - acc: 1.0000 - val_loss: 0.6063 - val_acc: 0.9013 - 14s/epoch - 23ms/step\n"
     ]
    },
    {
     "name": "stderr",
     "output_type": "stream",
     "text": [
      "WARNING:absl:Found untraced functions such as _jit_compiled_convolution_op, _jit_compiled_convolution_op, _jit_compiled_convolution_op, _jit_compiled_convolution_op, _jit_compiled_convolution_op while saving (showing 5 of 17). These functions will not be directly callable after loading.\n"
     ]
    },
    {
     "name": "stdout",
     "output_type": "stream",
     "text": [
      "INFO:tensorflow:Assets written to: ./RNmodels/57RN__IC_01200_FilledArea_0.9_BandNo_60_ImageHeight_30_ImageWidth_30_FILTER_snv_FeatureExtraction_none/assets\n"
     ]
    },
    {
     "name": "stderr",
     "output_type": "stream",
     "text": [
      "INFO:tensorflow:Assets written to: ./RNmodels/57RN__IC_01200_FilledArea_0.9_BandNo_60_ImageHeight_30_ImageWidth_30_FILTER_snv_FeatureExtraction_none/assets\n"
     ]
    },
    {
     "name": "stdout",
     "output_type": "stream",
     "text": [
      "Model saved on epoch:  57\n",
      "added to csv\n",
      "50/50 [==============================] - 1s 13ms/step\n",
      "Accuracy: 0.851875\n",
      "Confusion Matrix:\n",
      "[[239  55 106   0]\n",
      " [ 10 375  15   0]\n",
      " [ 13  37 350   0]\n",
      " [  1   0   0 399]]\n",
      "Classification Report:\n",
      "              precision    recall  f1-score   support\n",
      "\n",
      "           0       0.91      0.60      0.72       400\n",
      "           1       0.80      0.94      0.87       400\n",
      "           2       0.74      0.88      0.80       400\n",
      "           3       1.00      1.00      1.00       400\n",
      "\n",
      "    accuracy                           0.85      1600\n",
      "   macro avg       0.86      0.85      0.85      1600\n",
      "weighted avg       0.86      0.85      0.85      1600\n",
      "\n",
      "\n",
      "Epoch:  58\n",
      "600/600 - 14s - loss: 1.3286e-06 - acc: 1.0000 - val_loss: 0.6207 - val_acc: 0.9013 - 14s/epoch - 23ms/step\n"
     ]
    },
    {
     "name": "stderr",
     "output_type": "stream",
     "text": [
      "WARNING:absl:Found untraced functions such as _jit_compiled_convolution_op, _jit_compiled_convolution_op, _jit_compiled_convolution_op, _jit_compiled_convolution_op, _jit_compiled_convolution_op while saving (showing 5 of 17). These functions will not be directly callable after loading.\n"
     ]
    },
    {
     "name": "stdout",
     "output_type": "stream",
     "text": [
      "INFO:tensorflow:Assets written to: ./RNmodels/58RN__IC_01200_FilledArea_0.9_BandNo_60_ImageHeight_30_ImageWidth_30_FILTER_snv_FeatureExtraction_none/assets\n"
     ]
    },
    {
     "name": "stderr",
     "output_type": "stream",
     "text": [
      "INFO:tensorflow:Assets written to: ./RNmodels/58RN__IC_01200_FilledArea_0.9_BandNo_60_ImageHeight_30_ImageWidth_30_FILTER_snv_FeatureExtraction_none/assets\n"
     ]
    },
    {
     "name": "stdout",
     "output_type": "stream",
     "text": [
      "Model saved on epoch:  58\n",
      "added to csv\n",
      "50/50 [==============================] - 1s 14ms/step\n",
      "Accuracy: 0.851875\n",
      "Confusion Matrix:\n",
      "[[239  55 106   0]\n",
      " [ 10 375  15   0]\n",
      " [ 13  37 350   0]\n",
      " [  1   0   0 399]]\n",
      "Classification Report:\n",
      "              precision    recall  f1-score   support\n",
      "\n",
      "           0       0.91      0.60      0.72       400\n",
      "           1       0.80      0.94      0.87       400\n",
      "           2       0.74      0.88      0.80       400\n",
      "           3       1.00      1.00      1.00       400\n",
      "\n",
      "    accuracy                           0.85      1600\n",
      "   macro avg       0.86      0.85      0.85      1600\n",
      "weighted avg       0.86      0.85      0.85      1600\n",
      "\n",
      "\n",
      "Epoch:  59\n",
      "600/600 - 14s - loss: 9.9912e-07 - acc: 1.0000 - val_loss: 0.6352 - val_acc: 0.9013 - 14s/epoch - 23ms/step\n"
     ]
    },
    {
     "name": "stderr",
     "output_type": "stream",
     "text": [
      "WARNING:absl:Found untraced functions such as _jit_compiled_convolution_op, _jit_compiled_convolution_op, _jit_compiled_convolution_op, _jit_compiled_convolution_op, _jit_compiled_convolution_op while saving (showing 5 of 17). These functions will not be directly callable after loading.\n"
     ]
    },
    {
     "name": "stdout",
     "output_type": "stream",
     "text": [
      "INFO:tensorflow:Assets written to: ./RNmodels/59RN__IC_01200_FilledArea_0.9_BandNo_60_ImageHeight_30_ImageWidth_30_FILTER_snv_FeatureExtraction_none/assets\n"
     ]
    },
    {
     "name": "stderr",
     "output_type": "stream",
     "text": [
      "INFO:tensorflow:Assets written to: ./RNmodels/59RN__IC_01200_FilledArea_0.9_BandNo_60_ImageHeight_30_ImageWidth_30_FILTER_snv_FeatureExtraction_none/assets\n"
     ]
    },
    {
     "name": "stdout",
     "output_type": "stream",
     "text": [
      "Model saved on epoch:  59\n",
      "added to csv\n",
      "50/50 [==============================] - 1s 14ms/step\n",
      "Accuracy: 0.851875\n",
      "Confusion Matrix:\n",
      "[[239  55 106   0]\n",
      " [ 10 375  15   0]\n",
      " [ 13  37 350   0]\n",
      " [  1   0   0 399]]\n",
      "Classification Report:\n",
      "              precision    recall  f1-score   support\n",
      "\n",
      "           0       0.91      0.60      0.72       400\n",
      "           1       0.80      0.94      0.87       400\n",
      "           2       0.74      0.88      0.80       400\n",
      "           3       1.00      1.00      1.00       400\n",
      "\n",
      "    accuracy                           0.85      1600\n",
      "   macro avg       0.86      0.85      0.85      1600\n",
      "weighted avg       0.86      0.85      0.85      1600\n",
      "\n",
      "\n",
      "Epoch:  60\n",
      "600/600 - 14s - loss: 7.5144e-07 - acc: 1.0000 - val_loss: 0.6503 - val_acc: 0.9019 - 14s/epoch - 23ms/step\n"
     ]
    },
    {
     "name": "stderr",
     "output_type": "stream",
     "text": [
      "WARNING:absl:Found untraced functions such as _jit_compiled_convolution_op, _jit_compiled_convolution_op, _jit_compiled_convolution_op, _jit_compiled_convolution_op, _jit_compiled_convolution_op while saving (showing 5 of 17). These functions will not be directly callable after loading.\n"
     ]
    },
    {
     "name": "stdout",
     "output_type": "stream",
     "text": [
      "INFO:tensorflow:Assets written to: ./RNmodels/60RN__IC_01200_FilledArea_0.9_BandNo_60_ImageHeight_30_ImageWidth_30_FILTER_snv_FeatureExtraction_none/assets\n"
     ]
    },
    {
     "name": "stderr",
     "output_type": "stream",
     "text": [
      "INFO:tensorflow:Assets written to: ./RNmodels/60RN__IC_01200_FilledArea_0.9_BandNo_60_ImageHeight_30_ImageWidth_30_FILTER_snv_FeatureExtraction_none/assets\n"
     ]
    },
    {
     "name": "stdout",
     "output_type": "stream",
     "text": [
      "Model saved on epoch:  60\n",
      "added to csv\n",
      "50/50 [==============================] - 1s 13ms/step\n",
      "Accuracy: 0.850625\n",
      "Confusion Matrix:\n",
      "[[239  55 106   0]\n",
      " [ 11 374  15   0]\n",
      " [ 13  38 349   0]\n",
      " [  1   0   0 399]]\n",
      "Classification Report:\n",
      "              precision    recall  f1-score   support\n",
      "\n",
      "           0       0.91      0.60      0.72       400\n",
      "           1       0.80      0.94      0.86       400\n",
      "           2       0.74      0.87      0.80       400\n",
      "           3       1.00      1.00      1.00       400\n",
      "\n",
      "    accuracy                           0.85      1600\n",
      "   macro avg       0.86      0.85      0.85      1600\n",
      "weighted avg       0.86      0.85      0.85      1600\n",
      "\n",
      "\n",
      "Epoch:  61\n",
      "600/600 - 14s - loss: 5.6639e-07 - acc: 1.0000 - val_loss: 0.6650 - val_acc: 0.9006 - 14s/epoch - 23ms/step\n"
     ]
    },
    {
     "name": "stderr",
     "output_type": "stream",
     "text": [
      "WARNING:absl:Found untraced functions such as _jit_compiled_convolution_op, _jit_compiled_convolution_op, _jit_compiled_convolution_op, _jit_compiled_convolution_op, _jit_compiled_convolution_op while saving (showing 5 of 17). These functions will not be directly callable after loading.\n"
     ]
    },
    {
     "name": "stdout",
     "output_type": "stream",
     "text": [
      "INFO:tensorflow:Assets written to: ./RNmodels/61RN__IC_01200_FilledArea_0.9_BandNo_60_ImageHeight_30_ImageWidth_30_FILTER_snv_FeatureExtraction_none/assets\n"
     ]
    },
    {
     "name": "stderr",
     "output_type": "stream",
     "text": [
      "INFO:tensorflow:Assets written to: ./RNmodels/61RN__IC_01200_FilledArea_0.9_BandNo_60_ImageHeight_30_ImageWidth_30_FILTER_snv_FeatureExtraction_none/assets\n"
     ]
    },
    {
     "name": "stdout",
     "output_type": "stream",
     "text": [
      "Model saved on epoch:  61\n",
      "added to csv\n",
      "50/50 [==============================] - 1s 13ms/step\n",
      "Accuracy: 0.850625\n",
      "Confusion Matrix:\n",
      "[[239  56 105   0]\n",
      " [ 11 374  15   0]\n",
      " [ 13  38 349   0]\n",
      " [  1   0   0 399]]\n",
      "Classification Report:\n",
      "              precision    recall  f1-score   support\n",
      "\n",
      "           0       0.91      0.60      0.72       400\n",
      "           1       0.80      0.94      0.86       400\n",
      "           2       0.74      0.87      0.80       400\n",
      "           3       1.00      1.00      1.00       400\n",
      "\n",
      "    accuracy                           0.85      1600\n",
      "   macro avg       0.86      0.85      0.85      1600\n",
      "weighted avg       0.86      0.85      0.85      1600\n",
      "\n",
      "\n",
      "Epoch:  62\n",
      "600/600 - 14s - loss: 4.2786e-07 - acc: 1.0000 - val_loss: 0.6809 - val_acc: 0.8988 - 14s/epoch - 23ms/step\n"
     ]
    },
    {
     "name": "stderr",
     "output_type": "stream",
     "text": [
      "WARNING:absl:Found untraced functions such as _jit_compiled_convolution_op, _jit_compiled_convolution_op, _jit_compiled_convolution_op, _jit_compiled_convolution_op, _jit_compiled_convolution_op while saving (showing 5 of 17). These functions will not be directly callable after loading.\n"
     ]
    },
    {
     "name": "stdout",
     "output_type": "stream",
     "text": [
      "INFO:tensorflow:Assets written to: ./RNmodels/62RN__IC_01200_FilledArea_0.9_BandNo_60_ImageHeight_30_ImageWidth_30_FILTER_snv_FeatureExtraction_none/assets\n"
     ]
    },
    {
     "name": "stderr",
     "output_type": "stream",
     "text": [
      "INFO:tensorflow:Assets written to: ./RNmodels/62RN__IC_01200_FilledArea_0.9_BandNo_60_ImageHeight_30_ImageWidth_30_FILTER_snv_FeatureExtraction_none/assets\n"
     ]
    },
    {
     "name": "stdout",
     "output_type": "stream",
     "text": [
      "Model saved on epoch:  62\n",
      "added to csv\n",
      "50/50 [==============================] - 1s 13ms/step\n",
      "Accuracy: 0.85125\n",
      "Confusion Matrix:\n",
      "[[240  55 105   0]\n",
      " [ 11 374  15   0]\n",
      " [ 13  38 349   0]\n",
      " [  1   0   0 399]]\n",
      "Classification Report:\n",
      "              precision    recall  f1-score   support\n",
      "\n",
      "           0       0.91      0.60      0.72       400\n",
      "           1       0.80      0.94      0.86       400\n",
      "           2       0.74      0.87      0.80       400\n",
      "           3       1.00      1.00      1.00       400\n",
      "\n",
      "    accuracy                           0.85      1600\n",
      "   macro avg       0.86      0.85      0.85      1600\n",
      "weighted avg       0.86      0.85      0.85      1600\n",
      "\n",
      "\n",
      "Epoch:  63\n",
      "600/600 - 14s - loss: 3.4677e-07 - acc: 1.0000 - val_loss: 0.6971 - val_acc: 0.9000 - 14s/epoch - 23ms/step\n"
     ]
    },
    {
     "name": "stderr",
     "output_type": "stream",
     "text": [
      "WARNING:absl:Found untraced functions such as _jit_compiled_convolution_op, _jit_compiled_convolution_op, _jit_compiled_convolution_op, _jit_compiled_convolution_op, _jit_compiled_convolution_op while saving (showing 5 of 17). These functions will not be directly callable after loading.\n"
     ]
    },
    {
     "name": "stdout",
     "output_type": "stream",
     "text": [
      "INFO:tensorflow:Assets written to: ./RNmodels/63RN__IC_01200_FilledArea_0.9_BandNo_60_ImageHeight_30_ImageWidth_30_FILTER_snv_FeatureExtraction_none/assets\n"
     ]
    },
    {
     "name": "stderr",
     "output_type": "stream",
     "text": [
      "INFO:tensorflow:Assets written to: ./RNmodels/63RN__IC_01200_FilledArea_0.9_BandNo_60_ImageHeight_30_ImageWidth_30_FILTER_snv_FeatureExtraction_none/assets\n"
     ]
    },
    {
     "name": "stdout",
     "output_type": "stream",
     "text": [
      "Model saved on epoch:  63\n",
      "added to csv\n",
      "50/50 [==============================] - 1s 13ms/step\n",
      "Accuracy: 0.848125\n",
      "Confusion Matrix:\n",
      "[[235  56 109   0]\n",
      " [ 11 373  16   0]\n",
      " [ 13  37 350   0]\n",
      " [  1   0   0 399]]\n",
      "Classification Report:\n",
      "              precision    recall  f1-score   support\n",
      "\n",
      "           0       0.90      0.59      0.71       400\n",
      "           1       0.80      0.93      0.86       400\n",
      "           2       0.74      0.88      0.80       400\n",
      "           3       1.00      1.00      1.00       400\n",
      "\n",
      "    accuracy                           0.85      1600\n",
      "   macro avg       0.86      0.85      0.84      1600\n",
      "weighted avg       0.86      0.85      0.84      1600\n",
      "\n",
      "\n",
      "Epoch:  64\n",
      "600/600 - 14s - loss: 0.2315 - acc: 0.9348 - val_loss: 0.3488 - val_acc: 0.8913 - 14s/epoch - 23ms/step\n"
     ]
    },
    {
     "name": "stderr",
     "output_type": "stream",
     "text": [
      "WARNING:absl:Found untraced functions such as _jit_compiled_convolution_op, _jit_compiled_convolution_op, _jit_compiled_convolution_op, _jit_compiled_convolution_op, _jit_compiled_convolution_op while saving (showing 5 of 17). These functions will not be directly callable after loading.\n"
     ]
    },
    {
     "name": "stdout",
     "output_type": "stream",
     "text": [
      "INFO:tensorflow:Assets written to: ./RNmodels/64RN__IC_01200_FilledArea_0.9_BandNo_60_ImageHeight_30_ImageWidth_30_FILTER_snv_FeatureExtraction_none/assets\n"
     ]
    },
    {
     "name": "stderr",
     "output_type": "stream",
     "text": [
      "INFO:tensorflow:Assets written to: ./RNmodels/64RN__IC_01200_FilledArea_0.9_BandNo_60_ImageHeight_30_ImageWidth_30_FILTER_snv_FeatureExtraction_none/assets\n"
     ]
    },
    {
     "name": "stdout",
     "output_type": "stream",
     "text": [
      "Model saved on epoch:  64\n",
      "added to csv\n",
      "50/50 [==============================] - 1s 13ms/step\n",
      "Accuracy: 0.831875\n",
      "Confusion Matrix:\n",
      "[[218  89  93   0]\n",
      " [  7 381  12   0]\n",
      " [  6  49 345   0]\n",
      " [ 10   1   2 387]]\n",
      "Classification Report:\n",
      "              precision    recall  f1-score   support\n",
      "\n",
      "           0       0.90      0.55      0.68       400\n",
      "           1       0.73      0.95      0.83       400\n",
      "           2       0.76      0.86      0.81       400\n",
      "           3       1.00      0.97      0.98       400\n",
      "\n",
      "    accuracy                           0.83      1600\n",
      "   macro avg       0.85      0.83      0.83      1600\n",
      "weighted avg       0.85      0.83      0.83      1600\n",
      "\n",
      "\n",
      "Epoch:  65\n",
      "600/600 - 13s - loss: 0.0500 - acc: 0.9833 - val_loss: 0.4506 - val_acc: 0.8769 - 13s/epoch - 22ms/step\n"
     ]
    },
    {
     "name": "stderr",
     "output_type": "stream",
     "text": [
      "WARNING:absl:Found untraced functions such as _jit_compiled_convolution_op, _jit_compiled_convolution_op, _jit_compiled_convolution_op, _jit_compiled_convolution_op, _jit_compiled_convolution_op while saving (showing 5 of 17). These functions will not be directly callable after loading.\n"
     ]
    },
    {
     "name": "stdout",
     "output_type": "stream",
     "text": [
      "INFO:tensorflow:Assets written to: ./RNmodels/65RN__IC_01200_FilledArea_0.9_BandNo_60_ImageHeight_30_ImageWidth_30_FILTER_snv_FeatureExtraction_none/assets\n"
     ]
    },
    {
     "name": "stderr",
     "output_type": "stream",
     "text": [
      "INFO:tensorflow:Assets written to: ./RNmodels/65RN__IC_01200_FilledArea_0.9_BandNo_60_ImageHeight_30_ImageWidth_30_FILTER_snv_FeatureExtraction_none/assets\n"
     ]
    },
    {
     "name": "stdout",
     "output_type": "stream",
     "text": [
      "Model saved on epoch:  65\n",
      "added to csv\n",
      "50/50 [==============================] - 1s 14ms/step\n",
      "Accuracy: 0.856875\n",
      "Confusion Matrix:\n",
      "[[293  53  54   0]\n",
      " [ 23 367  10   0]\n",
      " [ 22  66 312   0]\n",
      " [  1   0   0 399]]\n",
      "Classification Report:\n",
      "              precision    recall  f1-score   support\n",
      "\n",
      "           0       0.86      0.73      0.79       400\n",
      "           1       0.76      0.92      0.83       400\n",
      "           2       0.83      0.78      0.80       400\n",
      "           3       1.00      1.00      1.00       400\n",
      "\n",
      "    accuracy                           0.86      1600\n",
      "   macro avg       0.86      0.86      0.86      1600\n",
      "weighted avg       0.86      0.86      0.86      1600\n",
      "\n",
      "\n",
      "Epoch:  66\n",
      "600/600 - 14s - loss: 0.0129 - acc: 0.9969 - val_loss: 0.9124 - val_acc: 0.7731 - 14s/epoch - 23ms/step\n"
     ]
    },
    {
     "name": "stderr",
     "output_type": "stream",
     "text": [
      "WARNING:absl:Found untraced functions such as _jit_compiled_convolution_op, _jit_compiled_convolution_op, _jit_compiled_convolution_op, _jit_compiled_convolution_op, _jit_compiled_convolution_op while saving (showing 5 of 17). These functions will not be directly callable after loading.\n"
     ]
    },
    {
     "name": "stdout",
     "output_type": "stream",
     "text": [
      "INFO:tensorflow:Assets written to: ./RNmodels/66RN__IC_01200_FilledArea_0.9_BandNo_60_ImageHeight_30_ImageWidth_30_FILTER_snv_FeatureExtraction_none/assets\n"
     ]
    },
    {
     "name": "stderr",
     "output_type": "stream",
     "text": [
      "INFO:tensorflow:Assets written to: ./RNmodels/66RN__IC_01200_FilledArea_0.9_BandNo_60_ImageHeight_30_ImageWidth_30_FILTER_snv_FeatureExtraction_none/assets\n"
     ]
    },
    {
     "name": "stdout",
     "output_type": "stream",
     "text": [
      "Model saved on epoch:  66\n",
      "added to csv\n",
      "50/50 [==============================] - 1s 13ms/step\n",
      "Accuracy: 0.76375\n",
      "Confusion Matrix:\n",
      "[[256   5 114  25]\n",
      " [ 55 223  47  75]\n",
      " [ 15   1 343  41]\n",
      " [  0   0   0 400]]\n",
      "Classification Report:\n",
      "              precision    recall  f1-score   support\n",
      "\n",
      "           0       0.79      0.64      0.71       400\n",
      "           1       0.97      0.56      0.71       400\n",
      "           2       0.68      0.86      0.76       400\n",
      "           3       0.74      1.00      0.85       400\n",
      "\n",
      "    accuracy                           0.76      1600\n",
      "   macro avg       0.79      0.76      0.76      1600\n",
      "weighted avg       0.79      0.76      0.76      1600\n",
      "\n",
      "\n",
      "Epoch:  67\n",
      "600/600 - 14s - loss: 0.0470 - acc: 0.9848 - val_loss: 0.9569 - val_acc: 0.7675 - 14s/epoch - 23ms/step\n"
     ]
    },
    {
     "name": "stderr",
     "output_type": "stream",
     "text": [
      "WARNING:absl:Found untraced functions such as _jit_compiled_convolution_op, _jit_compiled_convolution_op, _jit_compiled_convolution_op, _jit_compiled_convolution_op, _jit_compiled_convolution_op while saving (showing 5 of 17). These functions will not be directly callable after loading.\n"
     ]
    },
    {
     "name": "stdout",
     "output_type": "stream",
     "text": [
      "INFO:tensorflow:Assets written to: ./RNmodels/67RN__IC_01200_FilledArea_0.9_BandNo_60_ImageHeight_30_ImageWidth_30_FILTER_snv_FeatureExtraction_none/assets\n"
     ]
    },
    {
     "name": "stderr",
     "output_type": "stream",
     "text": [
      "INFO:tensorflow:Assets written to: ./RNmodels/67RN__IC_01200_FilledArea_0.9_BandNo_60_ImageHeight_30_ImageWidth_30_FILTER_snv_FeatureExtraction_none/assets\n"
     ]
    },
    {
     "name": "stdout",
     "output_type": "stream",
     "text": [
      "Model saved on epoch:  67\n",
      "added to csv\n",
      "50/50 [==============================] - 1s 13ms/step\n",
      "Accuracy: 0.830625\n",
      "Confusion Matrix:\n",
      "[[312   9  50  29]\n",
      " [ 74 270  48   8]\n",
      " [ 36  12 347   5]\n",
      " [  0   0   0 400]]\n",
      "Classification Report:\n",
      "              precision    recall  f1-score   support\n",
      "\n",
      "           0       0.74      0.78      0.76       400\n",
      "           1       0.93      0.68      0.78       400\n",
      "           2       0.78      0.87      0.82       400\n",
      "           3       0.90      1.00      0.95       400\n",
      "\n",
      "    accuracy                           0.83      1600\n",
      "   macro avg       0.84      0.83      0.83      1600\n",
      "weighted avg       0.84      0.83      0.83      1600\n",
      "\n",
      "\n",
      "Epoch:  68\n",
      "600/600 - 14s - loss: 0.0266 - acc: 0.9908 - val_loss: 0.4105 - val_acc: 0.8906 - 14s/epoch - 23ms/step\n"
     ]
    },
    {
     "name": "stderr",
     "output_type": "stream",
     "text": [
      "WARNING:absl:Found untraced functions such as _jit_compiled_convolution_op, _jit_compiled_convolution_op, _jit_compiled_convolution_op, _jit_compiled_convolution_op, _jit_compiled_convolution_op while saving (showing 5 of 17). These functions will not be directly callable after loading.\n"
     ]
    },
    {
     "name": "stdout",
     "output_type": "stream",
     "text": [
      "INFO:tensorflow:Assets written to: ./RNmodels/68RN__IC_01200_FilledArea_0.9_BandNo_60_ImageHeight_30_ImageWidth_30_FILTER_snv_FeatureExtraction_none/assets\n"
     ]
    },
    {
     "name": "stderr",
     "output_type": "stream",
     "text": [
      "INFO:tensorflow:Assets written to: ./RNmodels/68RN__IC_01200_FilledArea_0.9_BandNo_60_ImageHeight_30_ImageWidth_30_FILTER_snv_FeatureExtraction_none/assets\n"
     ]
    },
    {
     "name": "stdout",
     "output_type": "stream",
     "text": [
      "Model saved on epoch:  68\n",
      "added to csv\n",
      "50/50 [==============================] - 1s 13ms/step\n",
      "Accuracy: 0.85625\n",
      "Confusion Matrix:\n",
      "[[261  52  87   0]\n",
      " [ 22 358  20   0]\n",
      " [ 15  32 353   0]\n",
      " [  1   0   1 398]]\n",
      "Classification Report:\n",
      "              precision    recall  f1-score   support\n",
      "\n",
      "           0       0.87      0.65      0.75       400\n",
      "           1       0.81      0.90      0.85       400\n",
      "           2       0.77      0.88      0.82       400\n",
      "           3       1.00      0.99      1.00       400\n",
      "\n",
      "    accuracy                           0.86      1600\n",
      "   macro avg       0.86      0.86      0.85      1600\n",
      "weighted avg       0.86      0.86      0.85      1600\n",
      "\n",
      "\n",
      "Epoch:  69\n",
      "600/600 - 14s - loss: 0.0050 - acc: 0.9985 - val_loss: 0.5152 - val_acc: 0.8825 - 14s/epoch - 23ms/step\n"
     ]
    },
    {
     "name": "stderr",
     "output_type": "stream",
     "text": [
      "WARNING:absl:Found untraced functions such as _jit_compiled_convolution_op, _jit_compiled_convolution_op, _jit_compiled_convolution_op, _jit_compiled_convolution_op, _jit_compiled_convolution_op while saving (showing 5 of 17). These functions will not be directly callable after loading.\n"
     ]
    },
    {
     "name": "stdout",
     "output_type": "stream",
     "text": [
      "INFO:tensorflow:Assets written to: ./RNmodels/69RN__IC_01200_FilledArea_0.9_BandNo_60_ImageHeight_30_ImageWidth_30_FILTER_snv_FeatureExtraction_none/assets\n"
     ]
    },
    {
     "name": "stderr",
     "output_type": "stream",
     "text": [
      "INFO:tensorflow:Assets written to: ./RNmodels/69RN__IC_01200_FilledArea_0.9_BandNo_60_ImageHeight_30_ImageWidth_30_FILTER_snv_FeatureExtraction_none/assets\n"
     ]
    },
    {
     "name": "stdout",
     "output_type": "stream",
     "text": [
      "Model saved on epoch:  69\n",
      "added to csv\n",
      "50/50 [==============================] - 1s 13ms/step\n",
      "Accuracy: 0.8675\n",
      "Confusion Matrix:\n",
      "[[284  31  85   0]\n",
      " [ 23 343  34   0]\n",
      " [ 16  19 365   0]\n",
      " [  2   0   2 396]]\n",
      "Classification Report:\n",
      "              precision    recall  f1-score   support\n",
      "\n",
      "           0       0.87      0.71      0.78       400\n",
      "           1       0.87      0.86      0.87       400\n",
      "           2       0.75      0.91      0.82       400\n",
      "           3       1.00      0.99      0.99       400\n",
      "\n",
      "    accuracy                           0.87      1600\n",
      "   macro avg       0.87      0.87      0.87      1600\n",
      "weighted avg       0.87      0.87      0.87      1600\n",
      "\n",
      "\n",
      "Epoch:  70\n",
      "600/600 - 13s - loss: 0.0721 - acc: 0.9804 - val_loss: 0.5734 - val_acc: 0.8644 - 13s/epoch - 22ms/step\n"
     ]
    },
    {
     "name": "stderr",
     "output_type": "stream",
     "text": [
      "WARNING:absl:Found untraced functions such as _jit_compiled_convolution_op, _jit_compiled_convolution_op, _jit_compiled_convolution_op, _jit_compiled_convolution_op, _jit_compiled_convolution_op while saving (showing 5 of 17). These functions will not be directly callable after loading.\n"
     ]
    },
    {
     "name": "stdout",
     "output_type": "stream",
     "text": [
      "INFO:tensorflow:Assets written to: ./RNmodels/70RN__IC_01200_FilledArea_0.9_BandNo_60_ImageHeight_30_ImageWidth_30_FILTER_snv_FeatureExtraction_none/assets\n"
     ]
    },
    {
     "name": "stderr",
     "output_type": "stream",
     "text": [
      "INFO:tensorflow:Assets written to: ./RNmodels/70RN__IC_01200_FilledArea_0.9_BandNo_60_ImageHeight_30_ImageWidth_30_FILTER_snv_FeatureExtraction_none/assets\n"
     ]
    },
    {
     "name": "stdout",
     "output_type": "stream",
     "text": [
      "Model saved on epoch:  70\n",
      "added to csv\n",
      "50/50 [==============================] - 1s 14ms/step\n",
      "Accuracy: 0.86125\n",
      "Confusion Matrix:\n",
      "[[313  53  34   0]\n",
      " [ 24 374   2   0]\n",
      " [ 40  67 293   0]\n",
      " [  2   0   0 398]]\n",
      "Classification Report:\n",
      "              precision    recall  f1-score   support\n",
      "\n",
      "           0       0.83      0.78      0.80       400\n",
      "           1       0.76      0.94      0.84       400\n",
      "           2       0.89      0.73      0.80       400\n",
      "           3       1.00      0.99      1.00       400\n",
      "\n",
      "    accuracy                           0.86      1600\n",
      "   macro avg       0.87      0.86      0.86      1600\n",
      "weighted avg       0.87      0.86      0.86      1600\n",
      "\n",
      "\n",
      "Epoch:  71\n",
      "600/600 - 14s - loss: 0.0140 - acc: 0.9967 - val_loss: 0.5130 - val_acc: 0.8813 - 14s/epoch - 23ms/step\n"
     ]
    },
    {
     "name": "stderr",
     "output_type": "stream",
     "text": [
      "WARNING:absl:Found untraced functions such as _jit_compiled_convolution_op, _jit_compiled_convolution_op, _jit_compiled_convolution_op, _jit_compiled_convolution_op, _jit_compiled_convolution_op while saving (showing 5 of 17). These functions will not be directly callable after loading.\n"
     ]
    },
    {
     "name": "stdout",
     "output_type": "stream",
     "text": [
      "INFO:tensorflow:Assets written to: ./RNmodels/71RN__IC_01200_FilledArea_0.9_BandNo_60_ImageHeight_30_ImageWidth_30_FILTER_snv_FeatureExtraction_none/assets\n"
     ]
    },
    {
     "name": "stderr",
     "output_type": "stream",
     "text": [
      "INFO:tensorflow:Assets written to: ./RNmodels/71RN__IC_01200_FilledArea_0.9_BandNo_60_ImageHeight_30_ImageWidth_30_FILTER_snv_FeatureExtraction_none/assets\n"
     ]
    },
    {
     "name": "stdout",
     "output_type": "stream",
     "text": [
      "Model saved on epoch:  71\n",
      "added to csv\n",
      "50/50 [==============================] - 1s 14ms/step\n",
      "Accuracy: 0.839375\n",
      "Confusion Matrix:\n",
      "[[250  86  64   0]\n",
      " [  4 388   8   0]\n",
      " [ 22  65 313   0]\n",
      " [  7   0   1 392]]\n",
      "Classification Report:\n",
      "              precision    recall  f1-score   support\n",
      "\n",
      "           0       0.88      0.62      0.73       400\n",
      "           1       0.72      0.97      0.83       400\n",
      "           2       0.81      0.78      0.80       400\n",
      "           3       1.00      0.98      0.99       400\n",
      "\n",
      "    accuracy                           0.84      1600\n",
      "   macro avg       0.85      0.84      0.84      1600\n",
      "weighted avg       0.85      0.84      0.84      1600\n",
      "\n",
      "\n",
      "Epoch:  72\n",
      "600/600 - 14s - loss: 0.0322 - acc: 0.9894 - val_loss: 0.4972 - val_acc: 0.8856 - 14s/epoch - 23ms/step\n"
     ]
    },
    {
     "name": "stderr",
     "output_type": "stream",
     "text": [
      "WARNING:absl:Found untraced functions such as _jit_compiled_convolution_op, _jit_compiled_convolution_op, _jit_compiled_convolution_op, _jit_compiled_convolution_op, _jit_compiled_convolution_op while saving (showing 5 of 17). These functions will not be directly callable after loading.\n"
     ]
    },
    {
     "name": "stdout",
     "output_type": "stream",
     "text": [
      "INFO:tensorflow:Assets written to: ./RNmodels/72RN__IC_01200_FilledArea_0.9_BandNo_60_ImageHeight_30_ImageWidth_30_FILTER_snv_FeatureExtraction_none/assets\n"
     ]
    },
    {
     "name": "stderr",
     "output_type": "stream",
     "text": [
      "INFO:tensorflow:Assets written to: ./RNmodels/72RN__IC_01200_FilledArea_0.9_BandNo_60_ImageHeight_30_ImageWidth_30_FILTER_snv_FeatureExtraction_none/assets\n"
     ]
    },
    {
     "name": "stdout",
     "output_type": "stream",
     "text": [
      "Model saved on epoch:  72\n",
      "added to csv\n",
      "50/50 [==============================] - 1s 13ms/step\n",
      "Accuracy: 0.873125\n",
      "Confusion Matrix:\n",
      "[[299  18  83   0]\n",
      " [ 34 342  24   0]\n",
      " [ 24  19 357   0]\n",
      " [  1   0   0 399]]\n",
      "Classification Report:\n",
      "              precision    recall  f1-score   support\n",
      "\n",
      "           0       0.84      0.75      0.79       400\n",
      "           1       0.90      0.85      0.88       400\n",
      "           2       0.77      0.89      0.83       400\n",
      "           3       1.00      1.00      1.00       400\n",
      "\n",
      "    accuracy                           0.87      1600\n",
      "   macro avg       0.88      0.87      0.87      1600\n",
      "weighted avg       0.88      0.87      0.87      1600\n",
      "\n",
      "\n",
      "Epoch:  73\n",
      "600/600 - 14s - loss: 0.0338 - acc: 0.9890 - val_loss: 1.1667 - val_acc: 0.7212 - 14s/epoch - 23ms/step\n"
     ]
    },
    {
     "name": "stderr",
     "output_type": "stream",
     "text": [
      "WARNING:absl:Found untraced functions such as _jit_compiled_convolution_op, _jit_compiled_convolution_op, _jit_compiled_convolution_op, _jit_compiled_convolution_op, _jit_compiled_convolution_op while saving (showing 5 of 17). These functions will not be directly callable after loading.\n"
     ]
    },
    {
     "name": "stdout",
     "output_type": "stream",
     "text": [
      "INFO:tensorflow:Assets written to: ./RNmodels/73RN__IC_01200_FilledArea_0.9_BandNo_60_ImageHeight_30_ImageWidth_30_FILTER_snv_FeatureExtraction_none/assets\n"
     ]
    },
    {
     "name": "stderr",
     "output_type": "stream",
     "text": [
      "INFO:tensorflow:Assets written to: ./RNmodels/73RN__IC_01200_FilledArea_0.9_BandNo_60_ImageHeight_30_ImageWidth_30_FILTER_snv_FeatureExtraction_none/assets\n"
     ]
    },
    {
     "name": "stdout",
     "output_type": "stream",
     "text": [
      "Model saved on epoch:  73\n",
      "added to csv\n",
      "50/50 [==============================] - 1s 15ms/step\n",
      "Accuracy: 0.74125\n",
      "Confusion Matrix:\n",
      "[[114  28 108 150]\n",
      " [ 20 314  55  11]\n",
      " [  6  20 358  16]\n",
      " [  0   0   0 400]]\n",
      "Classification Report:\n",
      "              precision    recall  f1-score   support\n",
      "\n",
      "           0       0.81      0.28      0.42       400\n",
      "           1       0.87      0.79      0.82       400\n",
      "           2       0.69      0.90      0.78       400\n",
      "           3       0.69      1.00      0.82       400\n",
      "\n",
      "    accuracy                           0.74      1600\n",
      "   macro avg       0.77      0.74      0.71      1600\n",
      "weighted avg       0.77      0.74      0.71      1600\n",
      "\n",
      "\n",
      "Epoch:  74\n",
      "600/600 - 14s - loss: 0.0142 - acc: 0.9954 - val_loss: 0.5275 - val_acc: 0.8906 - 14s/epoch - 23ms/step\n"
     ]
    },
    {
     "name": "stderr",
     "output_type": "stream",
     "text": [
      "WARNING:absl:Found untraced functions such as _jit_compiled_convolution_op, _jit_compiled_convolution_op, _jit_compiled_convolution_op, _jit_compiled_convolution_op, _jit_compiled_convolution_op while saving (showing 5 of 17). These functions will not be directly callable after loading.\n"
     ]
    },
    {
     "name": "stdout",
     "output_type": "stream",
     "text": [
      "INFO:tensorflow:Assets written to: ./RNmodels/74RN__IC_01200_FilledArea_0.9_BandNo_60_ImageHeight_30_ImageWidth_30_FILTER_snv_FeatureExtraction_none/assets\n"
     ]
    },
    {
     "name": "stderr",
     "output_type": "stream",
     "text": [
      "INFO:tensorflow:Assets written to: ./RNmodels/74RN__IC_01200_FilledArea_0.9_BandNo_60_ImageHeight_30_ImageWidth_30_FILTER_snv_FeatureExtraction_none/assets\n"
     ]
    },
    {
     "name": "stdout",
     "output_type": "stream",
     "text": [
      "Model saved on epoch:  74\n",
      "added to csv\n",
      "50/50 [==============================] - 1s 13ms/step\n",
      "Accuracy: 0.81875\n",
      "Confusion Matrix:\n",
      "[[202  65 133   0]\n",
      " [  7 385   8   0]\n",
      " [  6  58 336   0]\n",
      " [  8   0   5 387]]\n",
      "Classification Report:\n",
      "              precision    recall  f1-score   support\n",
      "\n",
      "           0       0.91      0.51      0.65       400\n",
      "           1       0.76      0.96      0.85       400\n",
      "           2       0.70      0.84      0.76       400\n",
      "           3       1.00      0.97      0.98       400\n",
      "\n",
      "    accuracy                           0.82      1600\n",
      "   macro avg       0.84      0.82      0.81      1600\n",
      "weighted avg       0.84      0.82      0.81      1600\n",
      "\n",
      "\n",
      "Epoch:  75\n",
      "600/600 - 14s - loss: 0.0150 - acc: 0.9944 - val_loss: 2.3499 - val_acc: 0.7088 - 14s/epoch - 23ms/step\n"
     ]
    },
    {
     "name": "stderr",
     "output_type": "stream",
     "text": [
      "WARNING:absl:Found untraced functions such as _jit_compiled_convolution_op, _jit_compiled_convolution_op, _jit_compiled_convolution_op, _jit_compiled_convolution_op, _jit_compiled_convolution_op while saving (showing 5 of 17). These functions will not be directly callable after loading.\n"
     ]
    },
    {
     "name": "stdout",
     "output_type": "stream",
     "text": [
      "INFO:tensorflow:Assets written to: ./RNmodels/75RN__IC_01200_FilledArea_0.9_BandNo_60_ImageHeight_30_ImageWidth_30_FILTER_snv_FeatureExtraction_none/assets\n"
     ]
    },
    {
     "name": "stderr",
     "output_type": "stream",
     "text": [
      "INFO:tensorflow:Assets written to: ./RNmodels/75RN__IC_01200_FilledArea_0.9_BandNo_60_ImageHeight_30_ImageWidth_30_FILTER_snv_FeatureExtraction_none/assets\n"
     ]
    },
    {
     "name": "stdout",
     "output_type": "stream",
     "text": [
      "Model saved on epoch:  75\n",
      "added to csv\n",
      "50/50 [==============================] - 1s 14ms/step\n",
      "Accuracy: 0.69625\n",
      "Confusion Matrix:\n",
      "[[276   0 124   0]\n",
      " [110  65 225   0]\n",
      " [ 10   0 390   0]\n",
      " [  9   0   8 383]]\n",
      "Classification Report:\n",
      "              precision    recall  f1-score   support\n",
      "\n",
      "           0       0.68      0.69      0.69       400\n",
      "           1       1.00      0.16      0.28       400\n",
      "           2       0.52      0.97      0.68       400\n",
      "           3       1.00      0.96      0.98       400\n",
      "\n",
      "    accuracy                           0.70      1600\n",
      "   macro avg       0.80      0.70      0.66      1600\n",
      "weighted avg       0.80      0.70      0.66      1600\n",
      "\n",
      "\n",
      "Epoch:  76\n",
      "600/600 - 14s - loss: 0.0469 - acc: 0.9831 - val_loss: 0.6642 - val_acc: 0.8331 - 14s/epoch - 23ms/step\n"
     ]
    },
    {
     "name": "stderr",
     "output_type": "stream",
     "text": [
      "WARNING:absl:Found untraced functions such as _jit_compiled_convolution_op, _jit_compiled_convolution_op, _jit_compiled_convolution_op, _jit_compiled_convolution_op, _jit_compiled_convolution_op while saving (showing 5 of 17). These functions will not be directly callable after loading.\n"
     ]
    },
    {
     "name": "stdout",
     "output_type": "stream",
     "text": [
      "INFO:tensorflow:Assets written to: ./RNmodels/76RN__IC_01200_FilledArea_0.9_BandNo_60_ImageHeight_30_ImageWidth_30_FILTER_snv_FeatureExtraction_none/assets\n"
     ]
    },
    {
     "name": "stderr",
     "output_type": "stream",
     "text": [
      "INFO:tensorflow:Assets written to: ./RNmodels/76RN__IC_01200_FilledArea_0.9_BandNo_60_ImageHeight_30_ImageWidth_30_FILTER_snv_FeatureExtraction_none/assets\n"
     ]
    },
    {
     "name": "stdout",
     "output_type": "stream",
     "text": [
      "Model saved on epoch:  76\n",
      "added to csv\n",
      "50/50 [==============================] - 1s 13ms/step\n",
      "Accuracy: 0.805625\n",
      "Confusion Matrix:\n",
      "[[247 130  22   1]\n",
      " [  8 390   2   0]\n",
      " [ 21 127 252   0]\n",
      " [  0   0   0 400]]\n",
      "Classification Report:\n",
      "              precision    recall  f1-score   support\n",
      "\n",
      "           0       0.89      0.62      0.73       400\n",
      "           1       0.60      0.97      0.74       400\n",
      "           2       0.91      0.63      0.75       400\n",
      "           3       1.00      1.00      1.00       400\n",
      "\n",
      "    accuracy                           0.81      1600\n",
      "   macro avg       0.85      0.81      0.81      1600\n",
      "weighted avg       0.85      0.81      0.81      1600\n",
      "\n",
      "\n",
      "Epoch:  77\n",
      "600/600 - 14s - loss: 0.0096 - acc: 0.9973 - val_loss: 0.4447 - val_acc: 0.8881 - 14s/epoch - 23ms/step\n"
     ]
    },
    {
     "name": "stderr",
     "output_type": "stream",
     "text": [
      "WARNING:absl:Found untraced functions such as _jit_compiled_convolution_op, _jit_compiled_convolution_op, _jit_compiled_convolution_op, _jit_compiled_convolution_op, _jit_compiled_convolution_op while saving (showing 5 of 17). These functions will not be directly callable after loading.\n"
     ]
    },
    {
     "name": "stdout",
     "output_type": "stream",
     "text": [
      "INFO:tensorflow:Assets written to: ./RNmodels/77RN__IC_01200_FilledArea_0.9_BandNo_60_ImageHeight_30_ImageWidth_30_FILTER_snv_FeatureExtraction_none/assets\n"
     ]
    },
    {
     "name": "stderr",
     "output_type": "stream",
     "text": [
      "INFO:tensorflow:Assets written to: ./RNmodels/77RN__IC_01200_FilledArea_0.9_BandNo_60_ImageHeight_30_ImageWidth_30_FILTER_snv_FeatureExtraction_none/assets\n"
     ]
    },
    {
     "name": "stdout",
     "output_type": "stream",
     "text": [
      "Model saved on epoch:  77\n",
      "added to csv\n",
      "50/50 [==============================] - 1s 13ms/step\n",
      "Accuracy: 0.84125\n",
      "Confusion Matrix:\n",
      "[[242 110  48   0]\n",
      " [  6 390   4   0]\n",
      " [ 18  67 315   0]\n",
      " [  1   0   0 399]]\n",
      "Classification Report:\n",
      "              precision    recall  f1-score   support\n",
      "\n",
      "           0       0.91      0.60      0.73       400\n",
      "           1       0.69      0.97      0.81       400\n",
      "           2       0.86      0.79      0.82       400\n",
      "           3       1.00      1.00      1.00       400\n",
      "\n",
      "    accuracy                           0.84      1600\n",
      "   macro avg       0.86      0.84      0.84      1600\n",
      "weighted avg       0.86      0.84      0.84      1600\n",
      "\n",
      "\n",
      "Epoch:  78\n",
      "600/600 - 14s - loss: 0.0110 - acc: 0.9969 - val_loss: 0.5012 - val_acc: 0.8900 - 14s/epoch - 23ms/step\n"
     ]
    },
    {
     "name": "stderr",
     "output_type": "stream",
     "text": [
      "WARNING:absl:Found untraced functions such as _jit_compiled_convolution_op, _jit_compiled_convolution_op, _jit_compiled_convolution_op, _jit_compiled_convolution_op, _jit_compiled_convolution_op while saving (showing 5 of 17). These functions will not be directly callable after loading.\n"
     ]
    },
    {
     "name": "stdout",
     "output_type": "stream",
     "text": [
      "INFO:tensorflow:Assets written to: ./RNmodels/78RN__IC_01200_FilledArea_0.9_BandNo_60_ImageHeight_30_ImageWidth_30_FILTER_snv_FeatureExtraction_none/assets\n"
     ]
    },
    {
     "name": "stderr",
     "output_type": "stream",
     "text": [
      "INFO:tensorflow:Assets written to: ./RNmodels/78RN__IC_01200_FilledArea_0.9_BandNo_60_ImageHeight_30_ImageWidth_30_FILTER_snv_FeatureExtraction_none/assets\n"
     ]
    },
    {
     "name": "stdout",
     "output_type": "stream",
     "text": [
      "Model saved on epoch:  78\n",
      "added to csv\n",
      "50/50 [==============================] - 1s 13ms/step\n",
      "Accuracy: 0.855\n",
      "Confusion Matrix:\n",
      "[[276  21 103   0]\n",
      " [ 21 356  23   0]\n",
      " [ 12  40 348   0]\n",
      " [ 10   0   2 388]]\n",
      "Classification Report:\n",
      "              precision    recall  f1-score   support\n",
      "\n",
      "           0       0.87      0.69      0.77       400\n",
      "           1       0.85      0.89      0.87       400\n",
      "           2       0.73      0.87      0.79       400\n",
      "           3       1.00      0.97      0.98       400\n",
      "\n",
      "    accuracy                           0.85      1600\n",
      "   macro avg       0.86      0.85      0.85      1600\n",
      "weighted avg       0.86      0.85      0.85      1600\n",
      "\n",
      "\n",
      "Epoch:  79\n",
      "600/600 - 14s - loss: 0.0461 - acc: 0.9829 - val_loss: 0.6633 - val_acc: 0.8500 - 14s/epoch - 23ms/step\n"
     ]
    },
    {
     "name": "stderr",
     "output_type": "stream",
     "text": [
      "WARNING:absl:Found untraced functions such as _jit_compiled_convolution_op, _jit_compiled_convolution_op, _jit_compiled_convolution_op, _jit_compiled_convolution_op, _jit_compiled_convolution_op while saving (showing 5 of 17). These functions will not be directly callable after loading.\n"
     ]
    },
    {
     "name": "stdout",
     "output_type": "stream",
     "text": [
      "INFO:tensorflow:Assets written to: ./RNmodels/79RN__IC_01200_FilledArea_0.9_BandNo_60_ImageHeight_30_ImageWidth_30_FILTER_snv_FeatureExtraction_none/assets\n"
     ]
    },
    {
     "name": "stderr",
     "output_type": "stream",
     "text": [
      "INFO:tensorflow:Assets written to: ./RNmodels/79RN__IC_01200_FilledArea_0.9_BandNo_60_ImageHeight_30_ImageWidth_30_FILTER_snv_FeatureExtraction_none/assets\n"
     ]
    },
    {
     "name": "stdout",
     "output_type": "stream",
     "text": [
      "Model saved on epoch:  79\n",
      "added to csv\n",
      "50/50 [==============================] - 1s 12ms/step\n",
      "Accuracy: 0.854375\n",
      "Confusion Matrix:\n",
      "[[317  58  24   1]\n",
      " [ 39 359   2   0]\n",
      " [ 33  76 291   0]\n",
      " [  0   0   0 400]]\n",
      "Classification Report:\n",
      "              precision    recall  f1-score   support\n",
      "\n",
      "           0       0.81      0.79      0.80       400\n",
      "           1       0.73      0.90      0.80       400\n",
      "           2       0.92      0.73      0.81       400\n",
      "           3       1.00      1.00      1.00       400\n",
      "\n",
      "    accuracy                           0.85      1600\n",
      "   macro avg       0.86      0.85      0.85      1600\n",
      "weighted avg       0.86      0.85      0.85      1600\n",
      "\n",
      "\n",
      "Epoch:  80\n",
      "600/600 - 14s - loss: 0.0140 - acc: 0.9956 - val_loss: 0.5129 - val_acc: 0.8875 - 14s/epoch - 23ms/step\n"
     ]
    },
    {
     "name": "stderr",
     "output_type": "stream",
     "text": [
      "WARNING:absl:Found untraced functions such as _jit_compiled_convolution_op, _jit_compiled_convolution_op, _jit_compiled_convolution_op, _jit_compiled_convolution_op, _jit_compiled_convolution_op while saving (showing 5 of 17). These functions will not be directly callable after loading.\n"
     ]
    },
    {
     "name": "stdout",
     "output_type": "stream",
     "text": [
      "INFO:tensorflow:Assets written to: ./RNmodels/80RN__IC_01200_FilledArea_0.9_BandNo_60_ImageHeight_30_ImageWidth_30_FILTER_snv_FeatureExtraction_none/assets\n"
     ]
    },
    {
     "name": "stderr",
     "output_type": "stream",
     "text": [
      "INFO:tensorflow:Assets written to: ./RNmodels/80RN__IC_01200_FilledArea_0.9_BandNo_60_ImageHeight_30_ImageWidth_30_FILTER_snv_FeatureExtraction_none/assets\n"
     ]
    },
    {
     "name": "stdout",
     "output_type": "stream",
     "text": [
      "Model saved on epoch:  80\n",
      "added to csv\n",
      "50/50 [==============================] - 1s 13ms/step\n",
      "Accuracy: 0.841875\n",
      "Confusion Matrix:\n",
      "[[230  29 141   0]\n",
      " [ 19 344  37   0]\n",
      " [  4  22 373   1]\n",
      " [  0   0   0 400]]\n",
      "Classification Report:\n",
      "              precision    recall  f1-score   support\n",
      "\n",
      "           0       0.91      0.57      0.70       400\n",
      "           1       0.87      0.86      0.87       400\n",
      "           2       0.68      0.93      0.78       400\n",
      "           3       1.00      1.00      1.00       400\n",
      "\n",
      "    accuracy                           0.84      1600\n",
      "   macro avg       0.86      0.84      0.84      1600\n",
      "weighted avg       0.86      0.84      0.84      1600\n",
      "\n",
      "\n",
      "Epoch:  81\n",
      "600/600 - 14s - loss: 0.0093 - acc: 0.9969 - val_loss: 0.5543 - val_acc: 0.8712 - 14s/epoch - 23ms/step\n"
     ]
    },
    {
     "name": "stderr",
     "output_type": "stream",
     "text": [
      "WARNING:absl:Found untraced functions such as _jit_compiled_convolution_op, _jit_compiled_convolution_op, _jit_compiled_convolution_op, _jit_compiled_convolution_op, _jit_compiled_convolution_op while saving (showing 5 of 17). These functions will not be directly callable after loading.\n"
     ]
    },
    {
     "name": "stdout",
     "output_type": "stream",
     "text": [
      "INFO:tensorflow:Assets written to: ./RNmodels/81RN__IC_01200_FilledArea_0.9_BandNo_60_ImageHeight_30_ImageWidth_30_FILTER_snv_FeatureExtraction_none/assets\n"
     ]
    },
    {
     "name": "stderr",
     "output_type": "stream",
     "text": [
      "INFO:tensorflow:Assets written to: ./RNmodels/81RN__IC_01200_FilledArea_0.9_BandNo_60_ImageHeight_30_ImageWidth_30_FILTER_snv_FeatureExtraction_none/assets\n"
     ]
    },
    {
     "name": "stdout",
     "output_type": "stream",
     "text": [
      "Model saved on epoch:  81\n",
      "added to csv\n",
      "50/50 [==============================] - 1s 13ms/step\n",
      "Accuracy: 0.834375\n",
      "Confusion Matrix:\n",
      "[[239 115  46   0]\n",
      " [ 11 387   2   0]\n",
      " [ 15  75 310   0]\n",
      " [  1   0   0 399]]\n",
      "Classification Report:\n",
      "              precision    recall  f1-score   support\n",
      "\n",
      "           0       0.90      0.60      0.72       400\n",
      "           1       0.67      0.97      0.79       400\n",
      "           2       0.87      0.78      0.82       400\n",
      "           3       1.00      1.00      1.00       400\n",
      "\n",
      "    accuracy                           0.83      1600\n",
      "   macro avg       0.86      0.83      0.83      1600\n",
      "weighted avg       0.86      0.83      0.83      1600\n",
      "\n",
      "\n",
      "Epoch:  82\n",
      "600/600 - 14s - loss: 0.0081 - acc: 0.9981 - val_loss: 0.5274 - val_acc: 0.8869 - 14s/epoch - 23ms/step\n"
     ]
    },
    {
     "name": "stderr",
     "output_type": "stream",
     "text": [
      "WARNING:absl:Found untraced functions such as _jit_compiled_convolution_op, _jit_compiled_convolution_op, _jit_compiled_convolution_op, _jit_compiled_convolution_op, _jit_compiled_convolution_op while saving (showing 5 of 17). These functions will not be directly callable after loading.\n"
     ]
    },
    {
     "name": "stdout",
     "output_type": "stream",
     "text": [
      "INFO:tensorflow:Assets written to: ./RNmodels/82RN__IC_01200_FilledArea_0.9_BandNo_60_ImageHeight_30_ImageWidth_30_FILTER_snv_FeatureExtraction_none/assets\n"
     ]
    },
    {
     "name": "stderr",
     "output_type": "stream",
     "text": [
      "INFO:tensorflow:Assets written to: ./RNmodels/82RN__IC_01200_FilledArea_0.9_BandNo_60_ImageHeight_30_ImageWidth_30_FILTER_snv_FeatureExtraction_none/assets\n"
     ]
    },
    {
     "name": "stdout",
     "output_type": "stream",
     "text": [
      "Model saved on epoch:  82\n",
      "added to csv\n",
      "50/50 [==============================] - 1s 14ms/step\n",
      "Accuracy: 0.844375\n",
      "Confusion Matrix:\n",
      "[[220  53 127   0]\n",
      " [ 15 364  21   0]\n",
      " [  5  28 367   0]\n",
      " [  0   0   0 400]]\n",
      "Classification Report:\n",
      "              precision    recall  f1-score   support\n",
      "\n",
      "           0       0.92      0.55      0.69       400\n",
      "           1       0.82      0.91      0.86       400\n",
      "           2       0.71      0.92      0.80       400\n",
      "           3       1.00      1.00      1.00       400\n",
      "\n",
      "    accuracy                           0.84      1600\n",
      "   macro avg       0.86      0.84      0.84      1600\n",
      "weighted avg       0.86      0.84      0.84      1600\n",
      "\n",
      "\n",
      "Epoch:  83\n",
      "600/600 - 14s - loss: 0.0047 - acc: 0.9983 - val_loss: 0.7910 - val_acc: 0.8288 - 14s/epoch - 23ms/step\n"
     ]
    },
    {
     "name": "stderr",
     "output_type": "stream",
     "text": [
      "WARNING:absl:Found untraced functions such as _jit_compiled_convolution_op, _jit_compiled_convolution_op, _jit_compiled_convolution_op, _jit_compiled_convolution_op, _jit_compiled_convolution_op while saving (showing 5 of 17). These functions will not be directly callable after loading.\n"
     ]
    },
    {
     "name": "stdout",
     "output_type": "stream",
     "text": [
      "INFO:tensorflow:Assets written to: ./RNmodels/83RN__IC_01200_FilledArea_0.9_BandNo_60_ImageHeight_30_ImageWidth_30_FILTER_snv_FeatureExtraction_none/assets\n"
     ]
    },
    {
     "name": "stderr",
     "output_type": "stream",
     "text": [
      "INFO:tensorflow:Assets written to: ./RNmodels/83RN__IC_01200_FilledArea_0.9_BandNo_60_ImageHeight_30_ImageWidth_30_FILTER_snv_FeatureExtraction_none/assets\n"
     ]
    },
    {
     "name": "stdout",
     "output_type": "stream",
     "text": [
      "Model saved on epoch:  83\n",
      "added to csv\n",
      "50/50 [==============================] - 1s 13ms/step\n",
      "Accuracy: 0.790625\n",
      "Confusion Matrix:\n",
      "[[197 162  41   0]\n",
      " [  2 397   1   0]\n",
      " [ 10 102 288   0]\n",
      " [  9   3   5 383]]\n",
      "Classification Report:\n",
      "              precision    recall  f1-score   support\n",
      "\n",
      "           0       0.90      0.49      0.64       400\n",
      "           1       0.60      0.99      0.75       400\n",
      "           2       0.86      0.72      0.78       400\n",
      "           3       1.00      0.96      0.98       400\n",
      "\n",
      "    accuracy                           0.79      1600\n",
      "   macro avg       0.84      0.79      0.79      1600\n",
      "weighted avg       0.84      0.79      0.79      1600\n",
      "\n",
      "\n",
      "Epoch:  84\n",
      "600/600 - 14s - loss: 0.0557 - acc: 0.9833 - val_loss: 1.7645 - val_acc: 0.6731 - 14s/epoch - 23ms/step\n"
     ]
    },
    {
     "name": "stderr",
     "output_type": "stream",
     "text": [
      "WARNING:absl:Found untraced functions such as _jit_compiled_convolution_op, _jit_compiled_convolution_op, _jit_compiled_convolution_op, _jit_compiled_convolution_op, _jit_compiled_convolution_op while saving (showing 5 of 17). These functions will not be directly callable after loading.\n"
     ]
    },
    {
     "name": "stdout",
     "output_type": "stream",
     "text": [
      "INFO:tensorflow:Assets written to: ./RNmodels/84RN__IC_01200_FilledArea_0.9_BandNo_60_ImageHeight_30_ImageWidth_30_FILTER_snv_FeatureExtraction_none/assets\n"
     ]
    },
    {
     "name": "stderr",
     "output_type": "stream",
     "text": [
      "INFO:tensorflow:Assets written to: ./RNmodels/84RN__IC_01200_FilledArea_0.9_BandNo_60_ImageHeight_30_ImageWidth_30_FILTER_snv_FeatureExtraction_none/assets\n"
     ]
    },
    {
     "name": "stdout",
     "output_type": "stream",
     "text": [
      "Model saved on epoch:  84\n",
      "added to csv\n",
      "50/50 [==============================] - 1s 13ms/step\n",
      "Accuracy: 0.7325\n",
      "Confusion Matrix:\n",
      "[[224  12  18 146]\n",
      " [132 237  17  14]\n",
      " [ 40  24 311  25]\n",
      " [  0   0   0 400]]\n",
      "Classification Report:\n",
      "              precision    recall  f1-score   support\n",
      "\n",
      "           0       0.57      0.56      0.56       400\n",
      "           1       0.87      0.59      0.70       400\n",
      "           2       0.90      0.78      0.83       400\n",
      "           3       0.68      1.00      0.81       400\n",
      "\n",
      "    accuracy                           0.73      1600\n",
      "   macro avg       0.75      0.73      0.73      1600\n",
      "weighted avg       0.75      0.73      0.73      1600\n",
      "\n",
      "\n",
      "Epoch:  85\n",
      "600/600 - 14s - loss: 0.0328 - acc: 0.9894 - val_loss: 0.4980 - val_acc: 0.8819 - 14s/epoch - 23ms/step\n"
     ]
    },
    {
     "name": "stderr",
     "output_type": "stream",
     "text": [
      "WARNING:absl:Found untraced functions such as _jit_compiled_convolution_op, _jit_compiled_convolution_op, _jit_compiled_convolution_op, _jit_compiled_convolution_op, _jit_compiled_convolution_op while saving (showing 5 of 17). These functions will not be directly callable after loading.\n"
     ]
    },
    {
     "name": "stdout",
     "output_type": "stream",
     "text": [
      "INFO:tensorflow:Assets written to: ./RNmodels/85RN__IC_01200_FilledArea_0.9_BandNo_60_ImageHeight_30_ImageWidth_30_FILTER_snv_FeatureExtraction_none/assets\n"
     ]
    },
    {
     "name": "stderr",
     "output_type": "stream",
     "text": [
      "INFO:tensorflow:Assets written to: ./RNmodels/85RN__IC_01200_FilledArea_0.9_BandNo_60_ImageHeight_30_ImageWidth_30_FILTER_snv_FeatureExtraction_none/assets\n"
     ]
    },
    {
     "name": "stdout",
     "output_type": "stream",
     "text": [
      "Model saved on epoch:  85\n",
      "added to csv\n",
      "50/50 [==============================] - 1s 14ms/step\n",
      "Accuracy: 0.815\n",
      "Confusion Matrix:\n",
      "[[193  98 109   0]\n",
      " [  7 386   7   0]\n",
      " [  4  71 325   0]\n",
      " [  0   0   0 400]]\n",
      "Classification Report:\n",
      "              precision    recall  f1-score   support\n",
      "\n",
      "           0       0.95      0.48      0.64       400\n",
      "           1       0.70      0.96      0.81       400\n",
      "           2       0.74      0.81      0.77       400\n",
      "           3       1.00      1.00      1.00       400\n",
      "\n",
      "    accuracy                           0.81      1600\n",
      "   macro avg       0.84      0.81      0.81      1600\n",
      "weighted avg       0.84      0.81      0.81      1600\n",
      "\n",
      "\n",
      "Epoch:  86\n",
      "600/600 - 14s - loss: 0.0030 - acc: 0.9996 - val_loss: 0.4179 - val_acc: 0.9038 - 14s/epoch - 23ms/step\n"
     ]
    },
    {
     "name": "stderr",
     "output_type": "stream",
     "text": [
      "WARNING:absl:Found untraced functions such as _jit_compiled_convolution_op, _jit_compiled_convolution_op, _jit_compiled_convolution_op, _jit_compiled_convolution_op, _jit_compiled_convolution_op while saving (showing 5 of 17). These functions will not be directly callable after loading.\n"
     ]
    },
    {
     "name": "stdout",
     "output_type": "stream",
     "text": [
      "INFO:tensorflow:Assets written to: ./RNmodels/86RN__IC_01200_FilledArea_0.9_BandNo_60_ImageHeight_30_ImageWidth_30_FILTER_snv_FeatureExtraction_none/assets\n"
     ]
    },
    {
     "name": "stderr",
     "output_type": "stream",
     "text": [
      "INFO:tensorflow:Assets written to: ./RNmodels/86RN__IC_01200_FilledArea_0.9_BandNo_60_ImageHeight_30_ImageWidth_30_FILTER_snv_FeatureExtraction_none/assets\n"
     ]
    },
    {
     "name": "stdout",
     "output_type": "stream",
     "text": [
      "Model saved on epoch:  86\n",
      "added to csv\n",
      "50/50 [==============================] - 1s 13ms/step\n",
      "Accuracy: 0.846875\n",
      "Confusion Matrix:\n",
      "[[233  79  88   0]\n",
      " [  7 381  12   0]\n",
      " [ 10  49 341   0]\n",
      " [  0   0   0 400]]\n",
      "Classification Report:\n",
      "              precision    recall  f1-score   support\n",
      "\n",
      "           0       0.93      0.58      0.72       400\n",
      "           1       0.75      0.95      0.84       400\n",
      "           2       0.77      0.85      0.81       400\n",
      "           3       1.00      1.00      1.00       400\n",
      "\n",
      "    accuracy                           0.85      1600\n",
      "   macro avg       0.86      0.85      0.84      1600\n",
      "weighted avg       0.86      0.85      0.84      1600\n",
      "\n",
      "\n",
      "Epoch:  87\n",
      "600/600 - 14s - loss: 4.4216e-04 - acc: 1.0000 - val_loss: 0.4076 - val_acc: 0.9075 - 14s/epoch - 23ms/step\n"
     ]
    },
    {
     "name": "stderr",
     "output_type": "stream",
     "text": [
      "WARNING:absl:Found untraced functions such as _jit_compiled_convolution_op, _jit_compiled_convolution_op, _jit_compiled_convolution_op, _jit_compiled_convolution_op, _jit_compiled_convolution_op while saving (showing 5 of 17). These functions will not be directly callable after loading.\n"
     ]
    },
    {
     "name": "stdout",
     "output_type": "stream",
     "text": [
      "INFO:tensorflow:Assets written to: ./RNmodels/87RN__IC_01200_FilledArea_0.9_BandNo_60_ImageHeight_30_ImageWidth_30_FILTER_snv_FeatureExtraction_none/assets\n"
     ]
    },
    {
     "name": "stderr",
     "output_type": "stream",
     "text": [
      "INFO:tensorflow:Assets written to: ./RNmodels/87RN__IC_01200_FilledArea_0.9_BandNo_60_ImageHeight_30_ImageWidth_30_FILTER_snv_FeatureExtraction_none/assets\n"
     ]
    },
    {
     "name": "stdout",
     "output_type": "stream",
     "text": [
      "Model saved on epoch:  87\n",
      "added to csv\n",
      "50/50 [==============================] - 1s 13ms/step\n",
      "Accuracy: 0.85875\n",
      "Confusion Matrix:\n",
      "[[244  62  94   0]\n",
      " [  9 370  21   0]\n",
      " [ 10  30 360   0]\n",
      " [  0   0   0 400]]\n",
      "Classification Report:\n",
      "              precision    recall  f1-score   support\n",
      "\n",
      "           0       0.93      0.61      0.74       400\n",
      "           1       0.80      0.93      0.86       400\n",
      "           2       0.76      0.90      0.82       400\n",
      "           3       1.00      1.00      1.00       400\n",
      "\n",
      "    accuracy                           0.86      1600\n",
      "   macro avg       0.87      0.86      0.85      1600\n",
      "weighted avg       0.87      0.86      0.85      1600\n",
      "\n",
      "\n",
      "Epoch:  88\n",
      "600/600 - 13s - loss: 2.2791e-04 - acc: 1.0000 - val_loss: 0.4151 - val_acc: 0.9100 - 13s/epoch - 22ms/step\n"
     ]
    },
    {
     "name": "stderr",
     "output_type": "stream",
     "text": [
      "WARNING:absl:Found untraced functions such as _jit_compiled_convolution_op, _jit_compiled_convolution_op, _jit_compiled_convolution_op, _jit_compiled_convolution_op, _jit_compiled_convolution_op while saving (showing 5 of 17). These functions will not be directly callable after loading.\n"
     ]
    },
    {
     "name": "stdout",
     "output_type": "stream",
     "text": [
      "INFO:tensorflow:Assets written to: ./RNmodels/88RN__IC_01200_FilledArea_0.9_BandNo_60_ImageHeight_30_ImageWidth_30_FILTER_snv_FeatureExtraction_none/assets\n"
     ]
    },
    {
     "name": "stderr",
     "output_type": "stream",
     "text": [
      "INFO:tensorflow:Assets written to: ./RNmodels/88RN__IC_01200_FilledArea_0.9_BandNo_60_ImageHeight_30_ImageWidth_30_FILTER_snv_FeatureExtraction_none/assets\n"
     ]
    },
    {
     "name": "stdout",
     "output_type": "stream",
     "text": [
      "Model saved on epoch:  88\n",
      "added to csv\n",
      "50/50 [==============================] - 1s 12ms/step\n",
      "Accuracy: 0.85875\n",
      "Confusion Matrix:\n",
      "[[244  62  94   0]\n",
      " [  9 370  21   0]\n",
      " [ 10  30 360   0]\n",
      " [  0   0   0 400]]\n",
      "Classification Report:\n",
      "              precision    recall  f1-score   support\n",
      "\n",
      "           0       0.93      0.61      0.74       400\n",
      "           1       0.80      0.93      0.86       400\n",
      "           2       0.76      0.90      0.82       400\n",
      "           3       1.00      1.00      1.00       400\n",
      "\n",
      "    accuracy                           0.86      1600\n",
      "   macro avg       0.87      0.86      0.85      1600\n",
      "weighted avg       0.87      0.86      0.85      1600\n",
      "\n",
      "\n",
      "Epoch:  89\n",
      "600/600 - 14s - loss: 1.6206e-04 - acc: 1.0000 - val_loss: 0.4238 - val_acc: 0.9100 - 14s/epoch - 23ms/step\n"
     ]
    },
    {
     "name": "stderr",
     "output_type": "stream",
     "text": [
      "WARNING:absl:Found untraced functions such as _jit_compiled_convolution_op, _jit_compiled_convolution_op, _jit_compiled_convolution_op, _jit_compiled_convolution_op, _jit_compiled_convolution_op while saving (showing 5 of 17). These functions will not be directly callable after loading.\n"
     ]
    },
    {
     "name": "stdout",
     "output_type": "stream",
     "text": [
      "INFO:tensorflow:Assets written to: ./RNmodels/89RN__IC_01200_FilledArea_0.9_BandNo_60_ImageHeight_30_ImageWidth_30_FILTER_snv_FeatureExtraction_none/assets\n"
     ]
    },
    {
     "name": "stderr",
     "output_type": "stream",
     "text": [
      "INFO:tensorflow:Assets written to: ./RNmodels/89RN__IC_01200_FilledArea_0.9_BandNo_60_ImageHeight_30_ImageWidth_30_FILTER_snv_FeatureExtraction_none/assets\n"
     ]
    },
    {
     "name": "stdout",
     "output_type": "stream",
     "text": [
      "Model saved on epoch:  89\n",
      "added to csv\n",
      "50/50 [==============================] - 1s 13ms/step\n",
      "Accuracy: 0.85875\n",
      "Confusion Matrix:\n",
      "[[243  62  95   0]\n",
      " [  9 372  19   0]\n",
      " [ 10  31 359   0]\n",
      " [  0   0   0 400]]\n",
      "Classification Report:\n",
      "              precision    recall  f1-score   support\n",
      "\n",
      "           0       0.93      0.61      0.73       400\n",
      "           1       0.80      0.93      0.86       400\n",
      "           2       0.76      0.90      0.82       400\n",
      "           3       1.00      1.00      1.00       400\n",
      "\n",
      "    accuracy                           0.86      1600\n",
      "   macro avg       0.87      0.86      0.85      1600\n",
      "weighted avg       0.87      0.86      0.85      1600\n",
      "\n",
      "\n",
      "Epoch:  90\n",
      "600/600 - 14s - loss: 1.2015e-04 - acc: 1.0000 - val_loss: 0.4330 - val_acc: 0.9112 - 14s/epoch - 23ms/step\n"
     ]
    },
    {
     "name": "stderr",
     "output_type": "stream",
     "text": [
      "WARNING:absl:Found untraced functions such as _jit_compiled_convolution_op, _jit_compiled_convolution_op, _jit_compiled_convolution_op, _jit_compiled_convolution_op, _jit_compiled_convolution_op while saving (showing 5 of 17). These functions will not be directly callable after loading.\n"
     ]
    },
    {
     "name": "stdout",
     "output_type": "stream",
     "text": [
      "INFO:tensorflow:Assets written to: ./RNmodels/90RN__IC_01200_FilledArea_0.9_BandNo_60_ImageHeight_30_ImageWidth_30_FILTER_snv_FeatureExtraction_none/assets\n"
     ]
    },
    {
     "name": "stderr",
     "output_type": "stream",
     "text": [
      "INFO:tensorflow:Assets written to: ./RNmodels/90RN__IC_01200_FilledArea_0.9_BandNo_60_ImageHeight_30_ImageWidth_30_FILTER_snv_FeatureExtraction_none/assets\n"
     ]
    },
    {
     "name": "stdout",
     "output_type": "stream",
     "text": [
      "Model saved on epoch:  90\n",
      "added to csv\n",
      "50/50 [==============================] - 1s 13ms/step\n",
      "Accuracy: 0.859375\n",
      "Confusion Matrix:\n",
      "[[243  62  95   0]\n",
      " [  9 373  18   0]\n",
      " [ 10  31 359   0]\n",
      " [  0   0   0 400]]\n",
      "Classification Report:\n",
      "              precision    recall  f1-score   support\n",
      "\n",
      "           0       0.93      0.61      0.73       400\n",
      "           1       0.80      0.93      0.86       400\n",
      "           2       0.76      0.90      0.82       400\n",
      "           3       1.00      1.00      1.00       400\n",
      "\n",
      "    accuracy                           0.86      1600\n",
      "   macro avg       0.87      0.86      0.85      1600\n",
      "weighted avg       0.87      0.86      0.85      1600\n",
      "\n",
      "\n",
      "Epoch:  91\n",
      "600/600 - 14s - loss: 9.0262e-05 - acc: 1.0000 - val_loss: 0.4425 - val_acc: 0.9119 - 14s/epoch - 23ms/step\n"
     ]
    },
    {
     "name": "stderr",
     "output_type": "stream",
     "text": [
      "WARNING:absl:Found untraced functions such as _jit_compiled_convolution_op, _jit_compiled_convolution_op, _jit_compiled_convolution_op, _jit_compiled_convolution_op, _jit_compiled_convolution_op while saving (showing 5 of 17). These functions will not be directly callable after loading.\n"
     ]
    },
    {
     "name": "stdout",
     "output_type": "stream",
     "text": [
      "INFO:tensorflow:Assets written to: ./RNmodels/91RN__IC_01200_FilledArea_0.9_BandNo_60_ImageHeight_30_ImageWidth_30_FILTER_snv_FeatureExtraction_none/assets\n"
     ]
    },
    {
     "name": "stderr",
     "output_type": "stream",
     "text": [
      "INFO:tensorflow:Assets written to: ./RNmodels/91RN__IC_01200_FilledArea_0.9_BandNo_60_ImageHeight_30_ImageWidth_30_FILTER_snv_FeatureExtraction_none/assets\n"
     ]
    },
    {
     "name": "stdout",
     "output_type": "stream",
     "text": [
      "Model saved on epoch:  91\n",
      "added to csv\n",
      "50/50 [==============================] - 1s 14ms/step\n",
      "Accuracy: 0.86\n",
      "Confusion Matrix:\n",
      "[[242  63  95   0]\n",
      " [  9 374  17   0]\n",
      " [  9  31 360   0]\n",
      " [  0   0   0 400]]\n",
      "Classification Report:\n",
      "              precision    recall  f1-score   support\n",
      "\n",
      "           0       0.93      0.60      0.73       400\n",
      "           1       0.80      0.94      0.86       400\n",
      "           2       0.76      0.90      0.83       400\n",
      "           3       1.00      1.00      1.00       400\n",
      "\n",
      "    accuracy                           0.86      1600\n",
      "   macro avg       0.87      0.86      0.86      1600\n",
      "weighted avg       0.87      0.86      0.86      1600\n",
      "\n",
      "\n",
      "Epoch:  92\n",
      "600/600 - 14s - loss: 6.8236e-05 - acc: 1.0000 - val_loss: 0.4524 - val_acc: 0.9106 - 14s/epoch - 23ms/step\n"
     ]
    },
    {
     "name": "stderr",
     "output_type": "stream",
     "text": [
      "WARNING:absl:Found untraced functions such as _jit_compiled_convolution_op, _jit_compiled_convolution_op, _jit_compiled_convolution_op, _jit_compiled_convolution_op, _jit_compiled_convolution_op while saving (showing 5 of 17). These functions will not be directly callable after loading.\n"
     ]
    },
    {
     "name": "stdout",
     "output_type": "stream",
     "text": [
      "INFO:tensorflow:Assets written to: ./RNmodels/92RN__IC_01200_FilledArea_0.9_BandNo_60_ImageHeight_30_ImageWidth_30_FILTER_snv_FeatureExtraction_none/assets\n"
     ]
    },
    {
     "name": "stderr",
     "output_type": "stream",
     "text": [
      "INFO:tensorflow:Assets written to: ./RNmodels/92RN__IC_01200_FilledArea_0.9_BandNo_60_ImageHeight_30_ImageWidth_30_FILTER_snv_FeatureExtraction_none/assets\n"
     ]
    },
    {
     "name": "stdout",
     "output_type": "stream",
     "text": [
      "Model saved on epoch:  92\n",
      "added to csv\n",
      "50/50 [==============================] - 1s 13ms/step\n",
      "Accuracy: 0.860625\n",
      "Confusion Matrix:\n",
      "[[242  63  95   0]\n",
      " [  9 375  16   0]\n",
      " [  9  31 360   0]\n",
      " [  0   0   0 400]]\n",
      "Classification Report:\n",
      "              precision    recall  f1-score   support\n",
      "\n",
      "           0       0.93      0.60      0.73       400\n",
      "           1       0.80      0.94      0.86       400\n",
      "           2       0.76      0.90      0.83       400\n",
      "           3       1.00      1.00      1.00       400\n",
      "\n",
      "    accuracy                           0.86      1600\n",
      "   macro avg       0.87      0.86      0.86      1600\n",
      "weighted avg       0.87      0.86      0.86      1600\n",
      "\n",
      "\n",
      "Epoch:  93\n",
      "600/600 - 14s - loss: 5.1713e-05 - acc: 1.0000 - val_loss: 0.4627 - val_acc: 0.9106 - 14s/epoch - 23ms/step\n"
     ]
    },
    {
     "name": "stderr",
     "output_type": "stream",
     "text": [
      "WARNING:absl:Found untraced functions such as _jit_compiled_convolution_op, _jit_compiled_convolution_op, _jit_compiled_convolution_op, _jit_compiled_convolution_op, _jit_compiled_convolution_op while saving (showing 5 of 17). These functions will not be directly callable after loading.\n"
     ]
    },
    {
     "name": "stdout",
     "output_type": "stream",
     "text": [
      "INFO:tensorflow:Assets written to: ./RNmodels/93RN__IC_01200_FilledArea_0.9_BandNo_60_ImageHeight_30_ImageWidth_30_FILTER_snv_FeatureExtraction_none/assets\n"
     ]
    },
    {
     "name": "stderr",
     "output_type": "stream",
     "text": [
      "INFO:tensorflow:Assets written to: ./RNmodels/93RN__IC_01200_FilledArea_0.9_BandNo_60_ImageHeight_30_ImageWidth_30_FILTER_snv_FeatureExtraction_none/assets\n"
     ]
    },
    {
     "name": "stdout",
     "output_type": "stream",
     "text": [
      "Model saved on epoch:  93\n",
      "added to csv\n",
      "50/50 [==============================] - 1s 13ms/step\n",
      "Accuracy: 0.860625\n",
      "Confusion Matrix:\n",
      "[[241  64  95   0]\n",
      " [  8 376  16   0]\n",
      " [  9  31 360   0]\n",
      " [  0   0   0 400]]\n",
      "Classification Report:\n",
      "              precision    recall  f1-score   support\n",
      "\n",
      "           0       0.93      0.60      0.73       400\n",
      "           1       0.80      0.94      0.86       400\n",
      "           2       0.76      0.90      0.83       400\n",
      "           3       1.00      1.00      1.00       400\n",
      "\n",
      "    accuracy                           0.86      1600\n",
      "   macro avg       0.87      0.86      0.86      1600\n",
      "weighted avg       0.87      0.86      0.86      1600\n",
      "\n",
      "\n",
      "Epoch:  94\n",
      "600/600 - 14s - loss: 3.9148e-05 - acc: 1.0000 - val_loss: 0.4732 - val_acc: 0.9100 - 14s/epoch - 23ms/step\n"
     ]
    },
    {
     "name": "stderr",
     "output_type": "stream",
     "text": [
      "WARNING:absl:Found untraced functions such as _jit_compiled_convolution_op, _jit_compiled_convolution_op, _jit_compiled_convolution_op, _jit_compiled_convolution_op, _jit_compiled_convolution_op while saving (showing 5 of 17). These functions will not be directly callable after loading.\n"
     ]
    },
    {
     "name": "stdout",
     "output_type": "stream",
     "text": [
      "INFO:tensorflow:Assets written to: ./RNmodels/94RN__IC_01200_FilledArea_0.9_BandNo_60_ImageHeight_30_ImageWidth_30_FILTER_snv_FeatureExtraction_none/assets\n"
     ]
    },
    {
     "name": "stderr",
     "output_type": "stream",
     "text": [
      "INFO:tensorflow:Assets written to: ./RNmodels/94RN__IC_01200_FilledArea_0.9_BandNo_60_ImageHeight_30_ImageWidth_30_FILTER_snv_FeatureExtraction_none/assets\n"
     ]
    },
    {
     "name": "stdout",
     "output_type": "stream",
     "text": [
      "Model saved on epoch:  94\n",
      "added to csv\n",
      "50/50 [==============================] - 1s 14ms/step\n",
      "Accuracy: 0.86\n",
      "Confusion Matrix:\n",
      "[[239  64  97   0]\n",
      " [  8 376  16   0]\n",
      " [  9  30 361   0]\n",
      " [  0   0   0 400]]\n",
      "Classification Report:\n",
      "              precision    recall  f1-score   support\n",
      "\n",
      "           0       0.93      0.60      0.73       400\n",
      "           1       0.80      0.94      0.86       400\n",
      "           2       0.76      0.90      0.83       400\n",
      "           3       1.00      1.00      1.00       400\n",
      "\n",
      "    accuracy                           0.86      1600\n",
      "   macro avg       0.87      0.86      0.85      1600\n",
      "weighted avg       0.87      0.86      0.85      1600\n",
      "\n",
      "\n",
      "Epoch:  95\n",
      "600/600 - 14s - loss: 2.9591e-05 - acc: 1.0000 - val_loss: 0.4841 - val_acc: 0.9100 - 14s/epoch - 23ms/step\n"
     ]
    },
    {
     "name": "stderr",
     "output_type": "stream",
     "text": [
      "WARNING:absl:Found untraced functions such as _jit_compiled_convolution_op, _jit_compiled_convolution_op, _jit_compiled_convolution_op, _jit_compiled_convolution_op, _jit_compiled_convolution_op while saving (showing 5 of 17). These functions will not be directly callable after loading.\n"
     ]
    },
    {
     "name": "stdout",
     "output_type": "stream",
     "text": [
      "INFO:tensorflow:Assets written to: ./RNmodels/95RN__IC_01200_FilledArea_0.9_BandNo_60_ImageHeight_30_ImageWidth_30_FILTER_snv_FeatureExtraction_none/assets\n"
     ]
    },
    {
     "name": "stderr",
     "output_type": "stream",
     "text": [
      "INFO:tensorflow:Assets written to: ./RNmodels/95RN__IC_01200_FilledArea_0.9_BandNo_60_ImageHeight_30_ImageWidth_30_FILTER_snv_FeatureExtraction_none/assets\n"
     ]
    },
    {
     "name": "stdout",
     "output_type": "stream",
     "text": [
      "Model saved on epoch:  95\n",
      "added to csv\n",
      "50/50 [==============================] - 1s 14ms/step\n",
      "Accuracy: 0.86\n",
      "Confusion Matrix:\n",
      "[[238  67  95   0]\n",
      " [  8 376  16   0]\n",
      " [  9  29 362   0]\n",
      " [  0   0   0 400]]\n",
      "Classification Report:\n",
      "              precision    recall  f1-score   support\n",
      "\n",
      "           0       0.93      0.59      0.73       400\n",
      "           1       0.80      0.94      0.86       400\n",
      "           2       0.77      0.91      0.83       400\n",
      "           3       1.00      1.00      1.00       400\n",
      "\n",
      "    accuracy                           0.86      1600\n",
      "   macro avg       0.87      0.86      0.85      1600\n",
      "weighted avg       0.87      0.86      0.85      1600\n",
      "\n",
      "\n",
      "Epoch:  96\n",
      "600/600 - 14s - loss: 2.2307e-05 - acc: 1.0000 - val_loss: 0.4955 - val_acc: 0.9100 - 14s/epoch - 23ms/step\n"
     ]
    },
    {
     "name": "stderr",
     "output_type": "stream",
     "text": [
      "WARNING:absl:Found untraced functions such as _jit_compiled_convolution_op, _jit_compiled_convolution_op, _jit_compiled_convolution_op, _jit_compiled_convolution_op, _jit_compiled_convolution_op while saving (showing 5 of 17). These functions will not be directly callable after loading.\n"
     ]
    },
    {
     "name": "stdout",
     "output_type": "stream",
     "text": [
      "INFO:tensorflow:Assets written to: ./RNmodels/96RN__IC_01200_FilledArea_0.9_BandNo_60_ImageHeight_30_ImageWidth_30_FILTER_snv_FeatureExtraction_none/assets\n"
     ]
    },
    {
     "name": "stderr",
     "output_type": "stream",
     "text": [
      "INFO:tensorflow:Assets written to: ./RNmodels/96RN__IC_01200_FilledArea_0.9_BandNo_60_ImageHeight_30_ImageWidth_30_FILTER_snv_FeatureExtraction_none/assets\n"
     ]
    },
    {
     "name": "stdout",
     "output_type": "stream",
     "text": [
      "Model saved on epoch:  96\n",
      "added to csv\n",
      "50/50 [==============================] - 1s 14ms/step\n",
      "Accuracy: 0.859375\n",
      "Confusion Matrix:\n",
      "[[238  67  95   0]\n",
      " [  8 376  16   0]\n",
      " [  9  30 361   0]\n",
      " [  0   0   0 400]]\n",
      "Classification Report:\n",
      "              precision    recall  f1-score   support\n",
      "\n",
      "           0       0.93      0.59      0.73       400\n",
      "           1       0.79      0.94      0.86       400\n",
      "           2       0.76      0.90      0.83       400\n",
      "           3       1.00      1.00      1.00       400\n",
      "\n",
      "    accuracy                           0.86      1600\n",
      "   macro avg       0.87      0.86      0.85      1600\n",
      "weighted avg       0.87      0.86      0.85      1600\n",
      "\n",
      "\n",
      "Epoch:  97\n",
      "600/600 - 14s - loss: 1.6773e-05 - acc: 1.0000 - val_loss: 0.5072 - val_acc: 0.9100 - 14s/epoch - 23ms/step\n"
     ]
    },
    {
     "name": "stderr",
     "output_type": "stream",
     "text": [
      "WARNING:absl:Found untraced functions such as _jit_compiled_convolution_op, _jit_compiled_convolution_op, _jit_compiled_convolution_op, _jit_compiled_convolution_op, _jit_compiled_convolution_op while saving (showing 5 of 17). These functions will not be directly callable after loading.\n"
     ]
    },
    {
     "name": "stdout",
     "output_type": "stream",
     "text": [
      "INFO:tensorflow:Assets written to: ./RNmodels/97RN__IC_01200_FilledArea_0.9_BandNo_60_ImageHeight_30_ImageWidth_30_FILTER_snv_FeatureExtraction_none/assets\n"
     ]
    },
    {
     "name": "stderr",
     "output_type": "stream",
     "text": [
      "INFO:tensorflow:Assets written to: ./RNmodels/97RN__IC_01200_FilledArea_0.9_BandNo_60_ImageHeight_30_ImageWidth_30_FILTER_snv_FeatureExtraction_none/assets\n"
     ]
    },
    {
     "name": "stdout",
     "output_type": "stream",
     "text": [
      "Model saved on epoch:  97\n",
      "added to csv\n",
      "50/50 [==============================] - 1s 13ms/step\n",
      "Accuracy: 0.86\n",
      "Confusion Matrix:\n",
      "[[239  66  95   0]\n",
      " [  8 376  16   0]\n",
      " [  9  30 361   0]\n",
      " [  0   0   0 400]]\n",
      "Classification Report:\n",
      "              precision    recall  f1-score   support\n",
      "\n",
      "           0       0.93      0.60      0.73       400\n",
      "           1       0.80      0.94      0.86       400\n",
      "           2       0.76      0.90      0.83       400\n",
      "           3       1.00      1.00      1.00       400\n",
      "\n",
      "    accuracy                           0.86      1600\n",
      "   macro avg       0.87      0.86      0.85      1600\n",
      "weighted avg       0.87      0.86      0.85      1600\n",
      "\n",
      "\n",
      "Epoch:  98\n",
      "600/600 - 14s - loss: 1.2578e-05 - acc: 1.0000 - val_loss: 0.5192 - val_acc: 0.9087 - 14s/epoch - 23ms/step\n"
     ]
    },
    {
     "name": "stderr",
     "output_type": "stream",
     "text": [
      "WARNING:absl:Found untraced functions such as _jit_compiled_convolution_op, _jit_compiled_convolution_op, _jit_compiled_convolution_op, _jit_compiled_convolution_op, _jit_compiled_convolution_op while saving (showing 5 of 17). These functions will not be directly callable after loading.\n"
     ]
    },
    {
     "name": "stdout",
     "output_type": "stream",
     "text": [
      "INFO:tensorflow:Assets written to: ./RNmodels/98RN__IC_01200_FilledArea_0.9_BandNo_60_ImageHeight_30_ImageWidth_30_FILTER_snv_FeatureExtraction_none/assets\n"
     ]
    },
    {
     "name": "stderr",
     "output_type": "stream",
     "text": [
      "INFO:tensorflow:Assets written to: ./RNmodels/98RN__IC_01200_FilledArea_0.9_BandNo_60_ImageHeight_30_ImageWidth_30_FILTER_snv_FeatureExtraction_none/assets\n"
     ]
    },
    {
     "name": "stdout",
     "output_type": "stream",
     "text": [
      "Model saved on epoch:  98\n",
      "added to csv\n",
      "50/50 [==============================] - 1s 14ms/step\n",
      "Accuracy: 0.85875\n",
      "Confusion Matrix:\n",
      "[[237  67  96   0]\n",
      " [  8 376  16   0]\n",
      " [  9  30 361   0]\n",
      " [  0   0   0 400]]\n",
      "Classification Report:\n",
      "              precision    recall  f1-score   support\n",
      "\n",
      "           0       0.93      0.59      0.72       400\n",
      "           1       0.79      0.94      0.86       400\n",
      "           2       0.76      0.90      0.83       400\n",
      "           3       1.00      1.00      1.00       400\n",
      "\n",
      "    accuracy                           0.86      1600\n",
      "   macro avg       0.87      0.86      0.85      1600\n",
      "weighted avg       0.87      0.86      0.85      1600\n",
      "\n",
      "\n",
      "Epoch:  99\n",
      "600/600 - 14s - loss: 9.4226e-06 - acc: 1.0000 - val_loss: 0.5315 - val_acc: 0.9081 - 14s/epoch - 23ms/step\n"
     ]
    },
    {
     "name": "stderr",
     "output_type": "stream",
     "text": [
      "WARNING:absl:Found untraced functions such as _jit_compiled_convolution_op, _jit_compiled_convolution_op, _jit_compiled_convolution_op, _jit_compiled_convolution_op, _jit_compiled_convolution_op while saving (showing 5 of 17). These functions will not be directly callable after loading.\n"
     ]
    },
    {
     "name": "stdout",
     "output_type": "stream",
     "text": [
      "INFO:tensorflow:Assets written to: ./RNmodels/99RN__IC_01200_FilledArea_0.9_BandNo_60_ImageHeight_30_ImageWidth_30_FILTER_snv_FeatureExtraction_none/assets\n"
     ]
    },
    {
     "name": "stderr",
     "output_type": "stream",
     "text": [
      "INFO:tensorflow:Assets written to: ./RNmodels/99RN__IC_01200_FilledArea_0.9_BandNo_60_ImageHeight_30_ImageWidth_30_FILTER_snv_FeatureExtraction_none/assets\n"
     ]
    },
    {
     "name": "stdout",
     "output_type": "stream",
     "text": [
      "Model saved on epoch:  99\n",
      "added to csv\n",
      "50/50 [==============================] - 1s 13ms/step\n",
      "Accuracy: 0.858125\n",
      "Confusion Matrix:\n",
      "[[236  68  96   0]\n",
      " [  8 376  16   0]\n",
      " [  9  30 361   0]\n",
      " [  0   0   0 400]]\n",
      "Classification Report:\n",
      "              precision    recall  f1-score   support\n",
      "\n",
      "           0       0.93      0.59      0.72       400\n",
      "           1       0.79      0.94      0.86       400\n",
      "           2       0.76      0.90      0.83       400\n",
      "           3       1.00      1.00      1.00       400\n",
      "\n",
      "    accuracy                           0.86      1600\n",
      "   macro avg       0.87      0.86      0.85      1600\n",
      "weighted avg       0.87      0.86      0.85      1600\n",
      "\n",
      "\n",
      "Epoch:  100\n",
      "600/600 - 14s - loss: 7.0553e-06 - acc: 1.0000 - val_loss: 0.5441 - val_acc: 0.9081 - 14s/epoch - 23ms/step\n"
     ]
    },
    {
     "name": "stderr",
     "output_type": "stream",
     "text": [
      "WARNING:absl:Found untraced functions such as _jit_compiled_convolution_op, _jit_compiled_convolution_op, _jit_compiled_convolution_op, _jit_compiled_convolution_op, _jit_compiled_convolution_op while saving (showing 5 of 17). These functions will not be directly callable after loading.\n"
     ]
    },
    {
     "name": "stdout",
     "output_type": "stream",
     "text": [
      "INFO:tensorflow:Assets written to: ./RNmodels/100RN__IC_01200_FilledArea_0.9_BandNo_60_ImageHeight_30_ImageWidth_30_FILTER_snv_FeatureExtraction_none/assets\n"
     ]
    },
    {
     "name": "stderr",
     "output_type": "stream",
     "text": [
      "INFO:tensorflow:Assets written to: ./RNmodels/100RN__IC_01200_FilledArea_0.9_BandNo_60_ImageHeight_30_ImageWidth_30_FILTER_snv_FeatureExtraction_none/assets\n"
     ]
    },
    {
     "name": "stdout",
     "output_type": "stream",
     "text": [
      "Model saved on epoch:  100\n",
      "added to csv\n",
      "50/50 [==============================] - 1s 12ms/step\n",
      "Accuracy: 0.856875\n",
      "Confusion Matrix:\n",
      "[[234  69  97   0]\n",
      " [  8 376  16   0]\n",
      " [  9  30 361   0]\n",
      " [  0   0   0 400]]\n",
      "Classification Report:\n",
      "              precision    recall  f1-score   support\n",
      "\n",
      "           0       0.93      0.58      0.72       400\n",
      "           1       0.79      0.94      0.86       400\n",
      "           2       0.76      0.90      0.83       400\n",
      "           3       1.00      1.00      1.00       400\n",
      "\n",
      "    accuracy                           0.86      1600\n",
      "   macro avg       0.87      0.86      0.85      1600\n",
      "weighted avg       0.87      0.86      0.85      1600\n",
      "\n",
      "Testing time (s) = 2933.324796756031\n",
      "\n"
     ]
    }
   ],
   "source": [
    "from sklearn.metrics import accuracy_score, confusion_matrix, classification_report\n",
    "\n",
    "tic = start_timer()\n",
    "while start_epoch<=last_epoch:\n",
    "    print(\"\\nEpoch: \",start_epoch)\n",
    "    history = model.fit(x_training, labels_training, batch_size=batch_size, epochs = 1, validation_data=(x_val_norm, y_val), verbose=2)\n",
    "    model.save('./RNmodels/'+str(start_epoch)+model_name)\n",
    "    print(\"Model saved on epoch: \",start_epoch)\n",
    "    \n",
    "    history_dataframe = pd.DataFrame.from_dict(history.history)\n",
    "    save_to_csv('./csvs/'+model_name+'.csv', history_dataframe, header=True)\n",
    "    print(\"added to csv\")\n",
    "    \n",
    "    y_pred = model.predict(test_dataset)\n",
    "\n",
    "    y_pred_label = np.argmax(y_pred, axis=1)\n",
    "\n",
    "    # Calculate accuracy\n",
    "    accuracy = accuracy_score(test_dataset_label, y_pred_label)\n",
    "    print(\"Accuracy:\", accuracy)\n",
    "\n",
    "    # Calculate confusion matrix\n",
    "    cm = confusion_matrix(test_dataset_label, y_pred_label)\n",
    "    print(\"Confusion Matrix:\")\n",
    "    print(cm)\n",
    "\n",
    "    # Calculate precision, recall, and F1-score for each class\n",
    "    print(\"Classification Report:\")\n",
    "    print(classification_report(test_dataset_label, y_pred_label))\n",
    "    start_epoch+=1\n",
    "    \n",
    "toc = end_timer()\n",
    "show_time(tic,toc)\n"
   ]
  },
  {
   "cell_type": "code",
   "execution_count": 37,
   "id": "78d4ef3b",
   "metadata": {},
   "outputs": [
    {
     "name": "stdout",
     "output_type": "stream",
     "text": [
      "50/50 [==============================] - 1s 14ms/step\n",
      "Accuracy: 0.856875\n",
      "Confusion Matrix:\n",
      "[[234  69  97   0]\n",
      " [  8 376  16   0]\n",
      " [  9  30 361   0]\n",
      " [  0   0   0 400]]\n",
      "Classification Report:\n",
      "              precision    recall  f1-score   support\n",
      "\n",
      "           0       0.93      0.58      0.72       400\n",
      "           1       0.79      0.94      0.86       400\n",
      "           2       0.76      0.90      0.83       400\n",
      "           3       1.00      1.00      1.00       400\n",
      "\n",
      "    accuracy                           0.86      1600\n",
      "   macro avg       0.87      0.86      0.85      1600\n",
      "weighted avg       0.87      0.86      0.85      1600\n",
      "\n"
     ]
    }
   ],
   "source": [
    "from sklearn.metrics import accuracy_score, confusion_matrix, classification_report\n",
    "\n",
    "y_pred = model.predict(test_dataset)\n",
    "\n",
    "y_pred_label = np.argmax(y_pred, axis=1)\n",
    "\n",
    "# Calculate accuracy\n",
    "accuracy = accuracy_score(test_dataset_label, y_pred_label)\n",
    "print(\"Accuracy:\", accuracy)\n",
    "\n",
    "# Calculate confusion matrix\n",
    "cm = confusion_matrix(test_dataset_label, y_pred_label)\n",
    "print(\"Confusion Matrix:\")\n",
    "print(cm)\n",
    "\n",
    "# Calculate precision, recall, and F1-score for each class\n",
    "print(\"Classification Report:\")\n",
    "print(classification_report(test_dataset_label, y_pred_label))"
   ]
  },
  {
   "cell_type": "code",
   "execution_count": 38,
   "id": "06167d25",
   "metadata": {},
   "outputs": [
    {
     "data": {
      "image/png": "[encoded data removed]",
      "text/plain": [
       "<Figure size 640x480 with 2 Axes>"
      ]
     },
     "metadata": {},
     "output_type": "display_data"
    }
   ],
   "source": [
    "df_cm = pd.DataFrame(cm,index =[i for i in VARIETIES],columns=[i for i in VARIETIES])\n",
    "sn.heatmap(df_cm, annot=True, annot_kws={\"size\": 16},fmt='.0f') # font size\n",
    "\n",
    "plt.show()"
   ]
  },
  {
   "cell_type": "code",
   "execution_count": null,
   "id": "94af1a2c",
   "metadata": {},
   "outputs": [],
   "source": []
  }
 ],
 "metadata": {
  "kernelspec": {
   "display_name": "dwheatenv",
   "language": "python",
   "name": "dwheatenv"
  },
  "language_info": {
   "codemirror_mode": {
    "name": "ipython",
    "version": 3
   },
   "file_extension": ".py",
   "mimetype": "text/x-python",
   "name": "python",
   "nbconvert_exporter": "python",
   "pygments_lexer": "ipython3",
   "version": "3.9.12"
  }
 },
 "nbformat": 4,
 "nbformat_minor": 5
}
